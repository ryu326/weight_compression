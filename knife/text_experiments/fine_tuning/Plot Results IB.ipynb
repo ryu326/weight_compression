{
 "cells": [
  {
   "cell_type": "code",
   "execution_count": null,
   "metadata": {},
   "outputs": [],
   "source": [
    "import os\n",
    "import pandas as pd\n",
    "import seaborn as sn"
   ]
  },
  {
   "cell_type": "code",
   "execution_count": null,
   "metadata": {},
   "outputs": [],
   "source": [
    "def pop_std(x):\n",
    "    return x.std(ddof=0)"
   ]
  },
  {
   "cell_type": "code",
   "execution_count": null,
   "metadata": {},
   "outputs": [],
   "source": [
    "folder ='results_sts-b'"
   ]
  },
  {
   "cell_type": "code",
   "execution_count": null,
   "metadata": {},
   "outputs": [],
   "source": [
    "resuts = {\n",
    "    \"seed\" : [], \n",
    "    \"ib_dims\" : [], \n",
    "    \"betas\" : [], \n",
    "    \"estimators\":[],\n",
    "    \"pearson_dev\" : [],\n",
    "        \"spearman_dev\" : []\n",
    "    \n",
    "    \n",
    "    \n",
    "}\n",
    "\n",
    "SEEDS=[1,2, 3, 4, 5, 6, 7, 8 ,9 ,10]\n",
    "IB_DIMS = [144, 192, 288 ,384]\n",
    "BETAS = [\"0.001\" ,\"0.001\" ,\"0.00001\"]\n",
    "ESTIMATORS  = ['CLUBSample', 'MINE' ,'L1OutUB', 'NWJ', 'InfoNCE', 'KERNEL_E' ,'KERNEL_A']\n",
    "for SEED in SEEDS:\n",
    "    filename = '{}/results_baseline_{}.csv'.format(folder,SEED)\n",
    "    try :\n",
    "        resuts[\"pearson_dev\"].append(max(pd.read_csv(filename,delimiter=';').pearson_dev.values))\n",
    "        resuts[\"spearman_dev\"].append(max(pd.read_csv(filename,delimiter=';').spearmanr_dev.values))\n",
    "        resuts[\"seed\"].append(SEED)\n",
    "        resuts[\"ib_dims\"].append(0)\n",
    "        resuts[\"betas\"].append(0)\n",
    "        resuts[\"estimators\"].append('BASELINE')\n",
    "    except:\n",
    "        print('Error',filename)\n",
    "    for BETA in BETAS:\n",
    "        for IB_DIM in IB_DIMS:\n",
    "            filename = '{}/results_ibbaseline_{}_{}_{}.csv'.format(folder,SEED,IB_DIM,BETA)\n",
    "            try :\n",
    "                resuts[\"pearson_dev\"].append(max(pd.read_csv(filename,delimiter=';').pearson_dev.values))\n",
    "                resuts[\"spearman_dev\"].append(max(pd.read_csv(filename,delimiter=';').spearmanr_dev.values))\n",
    "                resuts[\"seed\"].append(SEED)\n",
    "                resuts[\"ib_dims\"].append(IB_DIM)\n",
    "                resuts[\"betas\"].append(BETA)\n",
    "                resuts[\"estimators\"].append('IB_BASELINE')\n",
    "            except :\n",
    "                print(filename)\n",
    "            for ESTIMATOR in ESTIMATORS:\n",
    "                filename = '{}/results_{}_{}_{}_{}.csv'.format(folder,ESTIMATOR,SEED,IB_DIM,BETA)\n",
    "                try:\n",
    "                    resuts[\"pearson_dev\"].append(max(pd.read_csv(filename,delimiter=';').pearson_dev.values))\n",
    "                    resuts[\"spearman_dev\"].append(max(pd.read_csv(filename,delimiter=';').spearmanr_dev.values))\n",
    "                    resuts[\"seed\"].append(SEED)\n",
    "                    resuts[\"ib_dims\"].append(IB_DIM)\n",
    "                    resuts[\"betas\"].append(BETA)\n",
    "                    resuts[\"estimators\"].append(ESTIMATOR)\n",
    "                except:\n",
    "                    print('Error',filename)"
   ]
  },
  {
   "cell_type": "code",
   "execution_count": null,
   "metadata": {},
   "outputs": [],
   "source": [
    "resuts.keys()"
   ]
  },
  {
   "cell_type": "code",
   "execution_count": null,
   "metadata": {},
   "outputs": [],
   "source": [
    "pd.DataFrame.from_dict(resuts).groupby(['estimators','ib_dims','betas']).head()"
   ]
  },
  {
   "cell_type": "code",
   "execution_count": null,
   "metadata": {},
   "outputs": [],
   "source": [
    "import numpy\n",
    "numpy.std(list(range(9)))"
   ]
  },
  {
   "cell_type": "code",
   "execution_count": null,
   "metadata": {},
   "outputs": [],
   "source": [
    "pd.DataFrame.from_dict(resuts).groupby(['estimators','ib_dims','betas']).mean().to_csv('ib_results_sts.csv')"
   ]
  },
  {
   "cell_type": "code",
   "execution_count": null,
   "metadata": {},
   "outputs": [],
   "source": [
    "(pd.DataFrame.from_dict(resuts).groupby(['estimators','ib_dims','betas']).std() ).to_csv('ib_results_sts_var.csv')"
   ]
  },
  {
   "cell_type": "code",
   "execution_count": null,
   "metadata": {},
   "outputs": [],
   "source": [
    "folder ='results_mrpc'"
   ]
  },
  {
   "cell_type": "code",
   "execution_count": null,
   "metadata": {},
   "outputs": [],
   "source": [
    "resuts = {\n",
    "    \"seed\" : [], \n",
    "    \"ib_dims\" : [], \n",
    "    \"betas\" : [], \n",
    "    \"estimators\":[],\n",
    "    \"accuracy\" : [],\n",
    "    \n",
    "    \"f1\" : []\n",
    "    \n",
    "}\n",
    "\n",
    "SEEDS=[1,2, 3, 4, 5, 6, 7, 8 ,9]\n",
    "IB_DIMS = [144, 192, 288 ,384]\n",
    "BETAS = [\"0.001\" ,\"0.0001\" ,\"0.00001\"]\n",
    "ESTIMATORS  = ['CLUBSample', 'MINE' ,'L1OutUB', 'NWJ', 'InfoNCE', 'KERNEL_E' ,'KERNEL_A']\n",
    "for SEED in SEEDS:\n",
    "    filename = '{}/results_baseline_{}.csv'.format(folder,SEED)\n",
    "    try :\n",
    "        resuts[\"accuracy\"].append(max(pd.read_csv(filename,delimiter=';').acc_dev.values))\n",
    "        resuts[\"f1\"].append(max(pd.read_csv(filename,delimiter=';').f1_dev.values))\n",
    "        \n",
    "        resuts[\"seed\"].append(SEED)\n",
    "        resuts[\"ib_dims\"].append(0)\n",
    "        resuts[\"betas\"].append(0)\n",
    "        resuts[\"estimators\"].append('BASELINE')\n",
    "    except:\n",
    "        print('Error',filename)\n",
    "    for BETA in BETAS:\n",
    "        for IB_DIM in IB_DIMS:\n",
    "            filename = '{}/results_ibbaseline_{}_{}_{}.csv'.format(folder,SEED,IB_DIM,BETA)\n",
    "            try :\n",
    "                resuts[\"accuracy\"].append(max(pd.read_csv(filename,delimiter=';').acc_dev.values))\n",
    "                resuts[\"seed\"].append(SEED)\n",
    "                resuts[\"f1\"].append(max(pd.read_csv(filename,delimiter=';').f1_dev.values))\n",
    "                resuts[\"ib_dims\"].append(IB_DIM)\n",
    "                resuts[\"betas\"].append(BETA)\n",
    "                resuts[\"estimators\"].append('IB_BASELINE')\n",
    "            except :\n",
    "                print(filename)\n",
    "            for ESTIMATOR in ESTIMATORS:\n",
    "                filename = '{}/results_{}_{}_{}_{}.csv'.format(folder,ESTIMATOR,SEED,IB_DIM,BETA)\n",
    "                try:\n",
    "                    resuts[\"accuracy\"].append(max(pd.read_csv(filename,delimiter=';').acc_dev.values))\n",
    "                    resuts[\"seed\"].append(SEED)\n",
    "                    resuts[\"f1\"].append(max(pd.read_csv(filename,delimiter=';').f1_dev.values))\n",
    "                    resuts[\"ib_dims\"].append(IB_DIM)\n",
    "                    resuts[\"betas\"].append(BETA)\n",
    "                    resuts[\"estimators\"].append(ESTIMATOR)\n",
    "                except:\n",
    "                    print('Error',filename)"
   ]
  },
  {
   "cell_type": "code",
   "execution_count": null,
   "metadata": {},
   "outputs": [],
   "source": [
    "pd.DataFrame.from_dict(resuts).groupby(['estimators','ib_dims','betas']).mean().to_csv('ib_results_mrpc.csv')"
   ]
  },
  {
   "cell_type": "code",
   "execution_count": null,
   "metadata": {},
   "outputs": [],
   "source": [
    "pd.DataFrame.from_dict(resuts).groupby(['estimators','ib_dims','betas']).std().to_csv('ib_results_mrpc_var.csv')"
   ]
  },
  {
   "cell_type": "code",
   "execution_count": null,
   "metadata": {},
   "outputs": [],
   "source": [
    "folder ='results_rte'"
   ]
  },
  {
   "cell_type": "code",
   "execution_count": null,
   "metadata": {},
   "outputs": [],
   "source": [
    "resuts = {\n",
    "    \"seed\" : [], \n",
    "    \"ib_dims\" : [], \n",
    "    \"betas\" : [], \n",
    "    \"estimators\":[],\n",
    "    \"accuracy\" : []\n",
    "    \n",
    "    \n",
    "}\n",
    "\n",
    "SEEDS=[1,2, 3, 4, 5, 6, 7, 8 ,9 ,10]\n",
    "IB_DIMS = [144, 192, 288 ,384]\n",
    "BETAS = [\"0.001\" ,\"0.0001\" ,\"0.00001\"]\n",
    "ESTIMATORS  = ['CLUBSample', 'MINE' ,'L1OutUB', 'NWJ', 'InfoNCE', 'KERNEL_E' ,'KERNEL_A']\n",
    "for SEED in SEEDS:\n",
    "    filename = '{}/results_baseline_{}.csv'.format(folder,SEED)\n",
    "    try :\n",
    "        resuts[\"accuracy\"].append(max(pd.read_csv(filename,delimiter=';').acc_dev.values))\n",
    "        resuts[\"seed\"].append(SEED)\n",
    "        resuts[\"ib_dims\"].append(0)\n",
    "        resuts[\"betas\"].append(0)\n",
    "        resuts[\"estimators\"].append('BASELINE')\n",
    "    except:\n",
    "        print(filename)\n",
    "    for BETA in BETAS:\n",
    "        for IB_DIM in IB_DIMS:\n",
    "            filename = '{}/results_ibbaseline_{}_{}_{}.csv'.format(folder,SEED,IB_DIM,BETA)\n",
    "            try :\n",
    "                resuts[\"accuracy\"].append(max(pd.read_csv(filename,delimiter=';').acc_dev.values))\n",
    "                resuts[\"seed\"].append(SEED)\n",
    "                resuts[\"ib_dims\"].append(IB_DIM)\n",
    "                resuts[\"betas\"].append(BETA)\n",
    "                resuts[\"estimators\"].append('IB_BASELINE')\n",
    "            except :\n",
    "                print(filename)\n",
    "            for ESTIMATOR in ESTIMATORS:\n",
    "                filename = '{}/results_{}_{}_{}_{}.csv'.format(folder,ESTIMATOR,SEED,IB_DIM,BETA)\n",
    "                try:\n",
    "                    resuts[\"accuracy\"].append(max(pd.read_csv(filename,delimiter=';').acc_dev.values))\n",
    "                    resuts[\"seed\"].append(SEED)\n",
    "                    resuts[\"ib_dims\"].append(IB_DIM)\n",
    "                    resuts[\"betas\"].append(BETA)\n",
    "                    resuts[\"estimators\"].append(ESTIMATOR)\n",
    "                except:\n",
    "                    print(filename)"
   ]
  },
  {
   "cell_type": "code",
   "execution_count": null,
   "metadata": {},
   "outputs": [],
   "source": [
    "len(resuts)"
   ]
  },
  {
   "cell_type": "code",
   "execution_count": null,
   "metadata": {},
   "outputs": [],
   "source": [
    "len(pd.DataFrame.from_dict(resuts))"
   ]
  },
  {
   "cell_type": "code",
   "execution_count": null,
   "metadata": {},
   "outputs": [],
   "source": [
    "pd.DataFrame.from_dict(resuts).groupby(['estimators','ib_dims','betas']).mean().to_csv('ib_results_rte.csv')"
   ]
  },
  {
   "cell_type": "code",
   "execution_count": null,
   "metadata": {},
   "outputs": [],
   "source": [
    "pd.DataFrame.from_dict(resuts).groupby('estimators').mean()"
   ]
  },
  {
   "cell_type": "code",
   "execution_count": null,
   "metadata": {},
   "outputs": [],
   "source": [
    "pd.DataFrame.from_dict(resuts).betas.values"
   ]
  },
  {
   "cell_type": "code",
   "execution_count": null,
   "metadata": {},
   "outputs": [],
   "source": [
    "pd.DataFrame.from_dict(resuts).groupby(['estimators','ib_dims','betas']).mean().to_csv('ib_results.csv')"
   ]
  },
  {
   "cell_type": "code",
   "execution_count": null,
   "metadata": {},
   "outputs": [],
   "source": [
    "pd.DataFrame.from_dict(resuts).groupby(['estimators','ib_dims','betas']).mean()"
   ]
  },
  {
   "cell_type": "code",
   "execution_count": null,
   "metadata": {},
   "outputs": [],
   "source": []
  }
 ],
 "metadata": {
  "kernelspec": {
   "display_name": "Python 3",
   "language": "python",
   "name": "python3"
  },
  "language_info": {
   "codemirror_mode": {
    "name": "ipython",
    "version": 3
   },
   "file_extension": ".py",
   "mimetype": "text/x-python",
   "name": "python",
   "nbconvert_exporter": "python",
   "pygments_lexer": "ipython3",
   "version": "3.7.4"
  }
 },
 "nbformat": 4,
 "nbformat_minor": 2
}
