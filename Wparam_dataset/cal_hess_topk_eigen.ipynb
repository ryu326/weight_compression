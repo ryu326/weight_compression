{
 "cells": [
  {
   "cell_type": "code",
   "execution_count": 1,
   "metadata": {},
   "outputs": [
    {
     "name": "stderr",
     "output_type": "stream",
     "text": [
      "/home/jgryu/miniconda3/envs/nic/lib/python3.10/site-packages/tqdm/auto.py:21: TqdmWarning: IProgress not found. Please update jupyter and ipywidgets. See https://ipywidgets.readthedocs.io/en/stable/user_install.html\n",
      "  from .autonotebook import tqdm as notebook_tqdm\n"
     ]
    }
   ],
   "source": [
    "import numpy as np\n",
    "import os\n",
    "dtype = np.float32\n",
    "\n",
    "import torch\n",
    "import torch.nn as nn\n",
    "import torchvision\n",
    "from tqdm import tqdm\n",
    "import os\n",
    "\n",
    "from transformers import CLIPVisionModelWithProjection, AutoModelForCausalLM, LlamaForCausalLM\n",
    "from transformers import AutoModel, AutoTokenizer, OPTForCausalLM, BloomForCausalLM\n",
    "import numpy\n",
    "\n",
    "from huggingface_hub import try_to_load_from_cache, _CACHED_NO_EXIST\n",
    "from huggingface_hub import scan_cache_dir\n",
    "\n",
    "import glob\n",
    "import random\n",
    "import json\n",
    "import os\n",
    "\n",
    "from datasets import load_dataset\n",
    "\n",
    "import functools\n",
    "import gc\n",
    "from collections import defaultdict\n",
    "from typing import List\n",
    "\n",
    "import torch\n",
    "import torch.nn as nn\n",
    "import tqdm\n",
    "# from tinychat.models import LlavaLlamaForCausalLM\n",
    "from transformers.models.bloom.modeling_bloom import BloomForCausalLM\n",
    "from transformers.models.llama.modeling_llama import LlamaForCausalLM\n",
    "from transformers.models.opt.modeling_opt import OPTForCausalLM\n",
    "\n",
    "import numpy as np\n",
    "from scipy.linalg import eigh\n",
    "\n",
    "def topk_eigenvectors(A, k):\n",
    "    # A는 대칭 행렬이어야 합니다.\n",
    "    # k는 추출할 최상위 고유벡터의 수입니다.\n",
    "    \n",
    "    # 고유값과 고유벡터 계산\n",
    "    # 'LA'는 가장 큰 고유값을 의미\n",
    "    eigenvalues, eigenvectors = eigh(A, subset_by_index=(A.shape[0] - k, A.shape[0] - 1))\n",
    "    \n",
    "    # 고유벡터의 노름이 1인지 확인\n",
    "    norms = np.linalg.norm(eigenvectors, axis=0)\n",
    "    # print(\"Norms of eigenvectors:\", norms)\n",
    "    \n",
    "    assert np.allclose(norms, 1)\n",
    "    # 고유벡터의 노름이 1에 가까운지 확인\n",
    "    # if np.allclose(norms, 1):\n",
    "    #     print(\"All eigenvectors are normalized.\")\n",
    "    # else:\n",
    "    #     print(\"Some eigenvectors are not normalized.\")\n",
    "        \n",
    "    eigenvectors\n",
    "    \n",
    "    return eigenvalues, eigenvectors.T"
   ]
  },
  {
   "cell_type": "markdown",
   "metadata": {},
   "source": [
    "# Cal Hess topk eigens"
   ]
  },
  {
   "cell_type": "code",
   "execution_count": 2,
   "metadata": {},
   "outputs": [
    {
     "name": "stdout",
     "output_type": "stream",
     "text": [
      "model_name:  facebook--opt-6.7b\n"
     ]
    },
    {
     "name": "stderr",
     "output_type": "stream",
     "text": [
      "/tmp/ipykernel_3312821/1584214709.py:28: FutureWarning: You are using `torch.load` with `weights_only=False` (the current default value), which uses the default pickle module implicitly. It is possible to construct malicious pickle data which will execute arbitrary code during unpickling (See https://github.com/pytorch/pytorch/blob/main/SECURITY.md#untrusted-models for more details). In a future release, the default value for `weights_only` will be flipped to `True`. This limits the functions that could be executed during unpickling. Arbitrary objects will no longer be allowed to be loaded via this mode unless they are explicitly allowlisted by the user via `torch.serialization.add_safe_globals`. We recommend you start setting `weights_only=True` for any use case where you don't have full control of the loaded file. Please open an issue on GitHub for any issues related to this experimental feature.\n",
      "  hess  = torch.load(save_path + f'/{calib_data}_n_samples{n_samples}_seqlen{seqlen}.pt')\n"
     ]
    },
    {
     "name": "stderr",
     "output_type": "stream",
     "text": [
      "100%|██████████| 32/32 [31:41<00:00, 59.41s/it]\n"
     ]
    }
   ],
   "source": [
    "model_list = [\n",
    "    # 'meta-llama/Meta-Llama-3-8B',\n",
    "    # 'meta-llama/Llama-2-7b-hf',\n",
    "    # 'meta-llama/Llama-2-13b-hf',\n",
    "    # 'lmsys/vicuna-7b-v1.5',\n",
    "    # 'lmsys/vicuna-13b-v1.5',\n",
    "    'facebook/opt-6.7b',\n",
    "]\n",
    "\n",
    "n_samples=128\n",
    "seqlen=512\n",
    "calib_data=\"pileval\"\n",
    "batch_size = 12\n",
    "rank = 10\n",
    "\n",
    "# top = np.array([0.1,1,10])\n",
    "# qlevel = [3,2,1]\n",
    "\n",
    "for model_name in model_list:\n",
    "    \n",
    "    model_name = model_name.replace('/', '--')\n",
    "    print('model_name: ', model_name)\n",
    "\n",
    "    model_path = f\"./hf_model/{model_name}\"\n",
    "\n",
    "    save_path = f'./hessian/{model_name}'\n",
    "    os.makedirs(save_path, exist_ok=True)\n",
    "    hess  = torch.load(save_path + f'/{calib_data}_n_samples{n_samples}_seqlen{seqlen}.pt')\n",
    "    \n",
    "    hess_eigen = []\n",
    "    for i in tqdm.tqdm(range(len(hess))):\n",
    "        \n",
    "        eigen_one_layer = defaultdict(list)\n",
    "        \n",
    "        for n, h in hess[i].items():\n",
    "            # print(i, n, h.shape)\n",
    "            \n",
    "            eigen = {}\n",
    "            \n",
    "            eigenvalues, eigenvectors = topk_eigenvectors(h, rank)\n",
    "            \n",
    "            eigen['eigenvalues'] = torch.from_numpy(eigenvalues)\n",
    "            eigen['eigenvectors'] = torch.from_numpy(eigenvectors)\n",
    "            \n",
    "            # print(eigen['eigenvalues'].shape)\n",
    "            # print(eigen['eigenvectors'].shape)\n",
    "            \n",
    "            eigen_one_layer[n] = eigen\n",
    "        \n",
    "        hess_eigen.append(eigen_one_layer)\n",
    "    \n",
    "    torch.save(hess_eigen, save_path + f'/{calib_data}_n_samples{n_samples}_seqlen{seqlen}_rank{rank}_eigen.pt')\n",
    "    "
   ]
  }
 ],
 "metadata": {
  "kernelspec": {
   "display_name": "base",
   "language": "python",
   "name": "python3"
  },
  "language_info": {
   "codemirror_mode": {
    "name": "ipython",
    "version": 3
   },
   "file_extension": ".py",
   "mimetype": "text/x-python",
   "name": "python",
   "nbconvert_exporter": "python",
   "pygments_lexer": "ipython3",
   "version": "3.10.13"
  }
 },
 "nbformat": 4,
 "nbformat_minor": 2
}
