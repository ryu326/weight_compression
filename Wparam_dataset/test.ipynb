{
 "cells": [
  {
   "cell_type": "code",
   "execution_count": 38,
   "id": "ce5f87df",
   "metadata": {},
   "outputs": [],
   "source": [
    "import requests\n",
    "import torch\n",
    "from PIL import Image\n",
    "from transformers import MllamaForConditionalGeneration, AutoProcessor, AutoModel, AutoModelForImageClassification\n",
    "\n",
    "# path = '/workspace/Weight_compression/Wparam_dataset/hf_model/llava-hf--llava-1.5-7b-hf'\n",
    "\n",
    "# model = LlavaForConditionalGeneration.from_pretrained(path)"
   ]
  },
  {
   "cell_type": "code",
   "execution_count": 41,
   "id": "7cf318ae",
   "metadata": {},
   "outputs": [],
   "source": [
    "model = AutoModelForImageClassification.from_pretrained(\"/workspace/Weight_compression/Wparam_dataset/hf_model/facebook--dinov2-large-imagenet1k-1-layer\")"
   ]
  },
  {
   "cell_type": "code",
   "execution_count": 40,
   "id": "19bde789",
   "metadata": {},
   "outputs": [
    {
     "data": {
      "text/plain": [
       "Dinov2ForImageClassification(\n",
       "  (dinov2): Dinov2Model(\n",
       "    (embeddings): Dinov2Embeddings(\n",
       "      (patch_embeddings): Dinov2PatchEmbeddings(\n",
       "        (projection): Conv2d(3, 1024, kernel_size=(14, 14), stride=(14, 14))\n",
       "      )\n",
       "      (dropout): Dropout(p=0.0, inplace=False)\n",
       "    )\n",
       "    (encoder): Dinov2Encoder(\n",
       "      (layer): ModuleList(\n",
       "        (0-23): 24 x Dinov2Layer(\n",
       "          (norm1): LayerNorm((1024,), eps=1e-06, elementwise_affine=True)\n",
       "          (attention): Dinov2SdpaAttention(\n",
       "            (attention): Dinov2SdpaSelfAttention(\n",
       "              (query): Linear(in_features=1024, out_features=1024, bias=True)\n",
       "              (key): Linear(in_features=1024, out_features=1024, bias=True)\n",
       "              (value): Linear(in_features=1024, out_features=1024, bias=True)\n",
       "              (dropout): Dropout(p=0.0, inplace=False)\n",
       "            )\n",
       "            (output): Dinov2SelfOutput(\n",
       "              (dense): Linear(in_features=1024, out_features=1024, bias=True)\n",
       "              (dropout): Dropout(p=0.0, inplace=False)\n",
       "            )\n",
       "          )\n",
       "          (layer_scale1): Dinov2LayerScale()\n",
       "          (drop_path): Identity()\n",
       "          (norm2): LayerNorm((1024,), eps=1e-06, elementwise_affine=True)\n",
       "          (mlp): Dinov2MLP(\n",
       "            (fc1): Linear(in_features=1024, out_features=4096, bias=True)\n",
       "            (activation): GELUActivation()\n",
       "            (fc2): Linear(in_features=4096, out_features=1024, bias=True)\n",
       "          )\n",
       "          (layer_scale2): Dinov2LayerScale()\n",
       "        )\n",
       "      )\n",
       "    )\n",
       "    (layernorm): LayerNorm((1024,), eps=1e-06, elementwise_affine=True)\n",
       "  )\n",
       "  (classifier): Linear(in_features=2048, out_features=1000, bias=True)\n",
       ")"
      ]
     },
     "execution_count": 40,
     "metadata": {},
     "output_type": "execute_result"
    }
   ],
   "source": [
    "model"
   ]
  },
  {
   "cell_type": "code",
   "execution_count": null,
   "id": "1be01def",
   "metadata": {},
   "outputs": [],
   "source": [
    "import datasets\n",
    "from datasets import load_dataset\n",
    "import os\n",
    "os.environ['HF_HOME'] = \"/workspace/hf_cache/huggingface_nwc\"\n",
    "\n",
    "dataset = load_dataset(\"liuhaotian/LLaVA-Instruct-150K\", split=\"train\")\n"
   ]
  },
  {
   "cell_type": "code",
   "execution_count": null,
   "id": "fa0ee6ee",
   "metadata": {},
   "outputs": [],
   "source": [
    "import pandas as pd\n",
    "from datasets.arrow_dataset import Dataset as HFDataset\n",
    "# df = pd.read_json(\"/workspace/hf_cache/huggingface_nwc/hub/datasets--liuhaotian--LLaVA-Instruct-150K/snapshots/9d451dc7629cfe0469f6ae4432b765cd603d5fcb/llava_v1_5_mix665k.json\").drop(columns=[\"id\", \"model\"])\n",
    "path = '/workspace/hf_cache/huggingface_nwc/hub/datasets--liuhaotian--LLaVA-Instruct-150K/snapshots/9d451dc7629cfe0469f6ae4432b765cd603d5fcb/llava_instruct_150k.json'\n",
    "df = pd.read_json(path).drop(columns=[\"id\"])\n",
    "\n",
    "ds = HFDataset.from_pandas(df, preserve_index=False)\n",
    "    # llava_features = Features({\n",
    "    #         'id': Value('string'),\n",
    "    #         'image': Image(),\n",
    "    #         'conversations': Sequence({\n",
    "    #             'from': Value('string'),\n",
    "    #             'value': Value('string'),\n",
    "    #         })\n",
    "    #     })\n",
    "    # print(\"loading dataset with explicit features...\")\n",
    "    # load_dataset 호출 시 'features' 인자를 추가합니다.\n",
    "    # dataset = load_dataset(\"liuhaotian/LLaVA-Instruct-150K\", split=\"train\", features=llava_features)\n",
    "    # data_files = {\"train\": \"https://huggingface.co/datasets/liuhaotian/LLaVA-Instruct-150K/resolve/main/llava_instruct_150k.json\"}\n",
    "    # dataset = load_dataset(\"json\", data_files=data_files, split=\"train\", features=llava_features)\n",
    "    # dataset = load_dataset(\"liuhaotian/LLaVA-Instruct-150K\", split=\"train\")"
   ]
  },
  {
   "cell_type": "code",
   "execution_count": null,
   "id": "6c530d39",
   "metadata": {},
   "outputs": [],
   "source": [
    "ds = ds.shuffle(seed=42).select(range(10))"
   ]
  },
  {
   "cell_type": "code",
   "execution_count": null,
   "id": "14d31819",
   "metadata": {},
   "outputs": [],
   "source": [
    "ds['image']"
   ]
  },
  {
   "cell_type": "code",
   "execution_count": 26,
   "id": "7b7673ec",
   "metadata": {},
   "outputs": [],
   "source": [
    "import torch\n",
    "q = torch.load('/workspace/Weight_compression/Wparam_dataset/quip_hess/llava-hf--llava-1.5-7b-hf_512/lang_0_q.pt')\n",
    "v = torch.load('/workspace/Weight_compression/Wparam_dataset/quip_hess/llava-hf--llava-1.5-7b-hf_512/lang_0_k.pt')"
   ]
  },
  {
   "cell_type": "code",
   "execution_count": 21,
   "id": "69f1bb6c",
   "metadata": {},
   "outputs": [
    {
     "data": {
      "text/plain": [
       "{'n': 4096,\n",
       " 'ct': 2097152,\n",
       " 'flatH': tensor([ 3.3080e-04,  9.9871e-05,  7.8034e-05,  ..., -3.4949e-07,\n",
       "          3.6878e-06,  7.5221e-06])}"
      ]
     },
     "execution_count": 21,
     "metadata": {},
     "output_type": "execute_result"
    }
   ],
   "source": [
    "q"
   ]
  },
  {
   "cell_type": "code",
   "execution_count": 22,
   "id": "b749e457",
   "metadata": {},
   "outputs": [
    {
     "data": {
      "text/plain": [
       "{'n': 4096,\n",
       " 'ct': 2097152,\n",
       " 'flatH': tensor([ 3.3080e-04,  9.9871e-05,  7.8034e-05,  ..., -3.4949e-07,\n",
       "          3.6878e-06,  7.5221e-06])}"
      ]
     },
     "execution_count": 22,
     "metadata": {},
     "output_type": "execute_result"
    }
   ],
   "source": [
    "k"
   ]
  },
  {
   "cell_type": "code",
   "execution_count": 27,
   "id": "e5b93643",
   "metadata": {},
   "outputs": [
    {
     "name": "stdout",
     "output_type": "stream",
     "text": [
      "True\n"
     ]
    }
   ],
   "source": [
    "def compare_dicts(d1, d2, tol=1e-8):\n",
    "    if d1.keys() != d2.keys():\n",
    "        return False\n",
    "    for k in d1:\n",
    "        v1, v2 = d1[k], d2[k]\n",
    "        if isinstance(v1, torch.Tensor) and isinstance(v2, torch.Tensor):\n",
    "            # if not torch.allclose(v1, v2, atol=tol, rtol=0):\n",
    "            if not torch.equal(v1, v2):\n",
    "                return False\n",
    "        else:\n",
    "            if v1 != v2:\n",
    "                return False\n",
    "    return True\n",
    "\n",
    "print(compare_dicts(q, v))  "
   ]
  },
  {
   "cell_type": "code",
   "execution_count": null,
   "id": "d94b5642",
   "metadata": {},
   "outputs": [],
   "source": []
  }
 ],
 "metadata": {
  "kernelspec": {
   "display_name": "base",
   "language": "python",
   "name": "python3"
  },
  "language_info": {
   "codemirror_mode": {
    "name": "ipython",
    "version": 3
   },
   "file_extension": ".py",
   "mimetype": "text/x-python",
   "name": "python",
   "nbconvert_exporter": "python",
   "pygments_lexer": "ipython3",
   "version": "3.11.10"
  }
 },
 "nbformat": 4,
 "nbformat_minor": 5
}
