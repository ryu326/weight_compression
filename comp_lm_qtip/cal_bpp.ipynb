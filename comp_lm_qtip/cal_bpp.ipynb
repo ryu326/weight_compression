{
 "cells": [
  {
   "cell_type": "code",
   "execution_count": 1,
   "metadata": {},
   "outputs": [],
   "source": [
    "import torch\n",
    "import os"
   ]
  },
  {
   "cell_type": "code",
   "execution_count": 3,
   "metadata": {},
   "outputs": [
    {
     "name": "stderr",
     "output_type": "stream",
     "text": [
      "/opt/conda/lib/python3.10/site-packages/tqdm/auto.py:21: TqdmWarning: IProgress not found. Please update jupyter and ipywidgets. See https://ipywidgets.readthedocs.io/en/stable/user_install.html\n",
      "  from .autonotebook import tqdm as notebook_tqdm\n"
     ]
    },
    {
     "name": "stdout",
     "output_type": "stream",
     "text": [
      "[2.640922043993683, 3.1394193181719805, 3.643218957389575, 3.9339819589118266]\n"
     ]
    }
   ],
   "source": [
    "bpp_list = []\n",
    "for l in [50, 100, 200, 300]:\n",
    "    ckpt = f'/workspace/Weight_compression/comp_lm_qtip/ckpt/meta-llama--Llama-2-7b-hf/lmbda{l}_ql'\n",
    "    list = os.listdir(ckpt)\n",
    "    bpp = 0\n",
    "    num = 0\n",
    "    \n",
    "    for i in list:\n",
    "        save = torch.load(f'{ckpt}/{i}')\n",
    "        # print(save.keys())\n",
    "        try:\n",
    "            bpp += save['bpp_loss_sum']\n",
    "            num += save['num_pixels']\n",
    "        except:\n",
    "            pass\n",
    "        \n",
    "    bpp_list.append(bpp/num)\n",
    "print(bpp_list)"
   ]
  },
  {
   "cell_type": "code",
   "execution_count": 1,
   "metadata": {},
   "outputs": [],
   "source": [
    "import torch"
   ]
  },
  {
   "cell_type": "code",
   "execution_count": 2,
   "metadata": {},
   "outputs": [],
   "source": [
    "d = torch.load(\"/workspace/Weight_compression/hf_model_comp/comp_qtip/ckpt/meta-llama--Meta-Llama-3-8B/ql_ldlq128_rnorm_ft/lmbda50/0_gate.pt\")"
   ]
  },
  {
   "cell_type": "code",
   "execution_count": null,
   "metadata": {},
   "outputs": [
    {
     "data": {
      "text/plain": [
       "dict_keys(['W_hat', 'codes', 'SU', 'SV', 'scaleWH', 'proxy_err', 'proxy_err_init', 'proxy_err_round', 'proxy_err_sga', 'err', 'err_init', 'err_round', 'err_sga', 'tr(WHW.T)', 'mse', 'mse_init', 'bpp_loss', 'W_hat_init', 'W_hat_round', 'W_hat_sga', 'bpp_loss_init', 'bpp_loss_round', 'bpp_loss_sga', 'bpp_loss_sum', 'bpp_loss_sum_init', 'bpp_loss_sum_round', 'bpp_loss_sum_sga', 'bpp', 'bpp_init', 'bpp_sum', 'num_pixels', 'optimize_out', 'direction'])"
      ]
     },
     "execution_count": 5,
     "metadata": {},
     "output_type": "execute_result"
    }
   ],
   "source": [
    "d.keys()"
   ]
  },
  {
   "cell_type": "code",
   "execution_count": null,
   "metadata": {},
   "outputs": [],
   "source": []
  }
 ],
 "metadata": {
  "kernelspec": {
   "display_name": "base",
   "language": "python",
   "name": "python3"
  },
  "language_info": {
   "codemirror_mode": {
    "name": "ipython",
    "version": 3
   },
   "file_extension": ".py",
   "mimetype": "text/x-python",
   "name": "python",
   "nbconvert_exporter": "python",
   "pygments_lexer": "ipython3",
   "version": "3.10.13"
  }
 },
 "nbformat": 4,
 "nbformat_minor": 2
}
