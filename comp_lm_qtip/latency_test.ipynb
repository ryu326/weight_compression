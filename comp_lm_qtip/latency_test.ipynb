{
 "cells": [
  {
   "cell_type": "code",
   "execution_count": 22,
   "id": "1977f888",
   "metadata": {},
   "outputs": [],
   "source": [
    "import argparse\n",
    "import os\n",
    "import time\n",
    "\n",
    "import glog, json\n",
    "\n",
    "os.environ['PYTORCH_CUDA_ALLOC_CONF'] = 'max_split_size_mb:512'\n",
    "\n",
    "import torch\n",
    "import torch.multiprocessing as mp\n",
    "from transformers import AutoModelForCausalLM, AutoTokenizer\n",
    "from transformers.modeling_attn_mask_utils import \\\n",
    "    _prepare_4d_causal_attention_mask\n",
    "\n",
    "from lib import utils\n",
    "from lib.algo import finetune\n",
    "from lib.codebook import bitshift\n",
    "from operator import attrgetter\n",
    "\n",
    "import sys\n",
    "notebook_dir = os.path.dirname(os.path.abspath(\"__file__\"))\n",
    "project_root = os.path.abspath(os.path.join(notebook_dir, \"..\"))\n",
    "\n",
    "from NWC.models import get_model"
   ]
  },
  {
   "cell_type": "code",
   "execution_count": 23,
   "id": "d5e8224a",
   "metadata": {},
   "outputs": [
    {
     "data": {
      "text/plain": [
       "True"
      ]
     },
     "execution_count": 23,
     "metadata": {},
     "output_type": "execute_result"
    }
   ],
   "source": [
    "class Config:\n",
    "    def __init__(self, **entries):\n",
    "        self.__dict__.update(entries)\n",
    "\n",
    "comp_model_path = '/workspace/Weight_compression/NWC/checkpoint/nwc_ql/block_seq_ql_random_scaler_meta-llama--Meta-Llama-3-8B__col_1024_gaussian_padding.pt/M16/lmbda50_rdloss_ql_size16_encdim512_M16_Q4_R0_m0_batch_size2048_total_iter200000_lr0.0001_seed100/best_loss_model_loss_3.87239_bpp_4.65884_MSE_0.0162_total_iter_95000.pth.tar'\n",
    "# comp_model_path = '/workspace/Weight_compression/NWC/checkpoint/nwc_scale_cond/block_seq_scale_cond_scaler_meta-llama--Meta-Llama-3-8B__scaleH_sig0.0001_std_rnormed_with_col_std_lidx_row_1024.pt/rdloss_size128_encdim1024_M256_Q0_R0_m0_batch_size2048_total_iter200000_lr0.0001_seed100/lmbda50_/best_loss_model_loss_3.94749_bpp_3.26997_MSE_4.91093_total_iter_192500.pth.tar'\n",
    "config = os.path.join(os.path.dirname(comp_model_path), 'config.json')\n",
    "with open(config, 'r', encoding='utf-8') as file:\n",
    "    config = json.load(file)\n",
    "config = Config(**config)\n",
    "\n",
    "shift, scale = None, None\n",
    "if config.architecture == 'nwc_ql' and not hasattr(config, \"Q\"):\n",
    "    config.Q = 4\n",
    "if not hasattr(config, \"no_layernorm\"):\n",
    "    config.no_layernorm = False\n",
    "\n",
    "\n",
    "comp_model = get_model(config.architecture, config, scale=scale, shift=shift)\n",
    "comp_model.config = config\n",
    "ckpt = torch.load(comp_model_path, weights_only=False)\n",
    "scale, shift  = torch.zeros(1), torch.zeros(1)\n",
    "\n",
    "comp_model.load_state_dict(ckpt[\"state_dict\"], strict = False)\n",
    "comp_model.scale = scale\n",
    "comp_model.shift = shift\n",
    "comp_model.eval()\n",
    "comp_model.update()"
   ]
  },
  {
   "cell_type": "code",
   "execution_count": null,
   "id": "0b30ad73",
   "metadata": {},
   "outputs": [
    {
     "name": "stdout",
     "output_type": "stream",
     "text": [
      "Decompress time: 17.725 ms\n"
     ]
    },
    {
     "ename": "",
     "evalue": "",
     "output_type": "error",
     "traceback": [
      "\u001b[1;31m현재 셀 또는 이전 셀에서 코드를 실행하는 동안 Kernel이 충돌했습니다. \n",
      "\u001b[1;31m셀의 코드를 검토하여 가능한 오류 원인을 식별하세요. \n",
      "\u001b[1;31m자세한 내용을 보려면 <a href='https://aka.ms/vscodeJupyterKernelCrash'>여기</a>를 클릭하세요. \n",
      "\u001b[1;31m자세한 내용은 Jupyter <a href='command:jupyter.viewOutput'>로그</a>를 참조하세요."
     ]
    }
   ],
   "source": [
    "import torch\n",
    "\n",
    "device = torch.device('cuda:5')\n",
    "T  = torch.zeros(256, 256)\n",
    "T = T.reshape(1, -1, 16).to(device)\n",
    "# T = T.reshape(1, -1, 128).to(device)\n",
    "data = {}\n",
    "data['weight_block'] = T\n",
    "data['q_level'] = torch.zeros(1, T.shape[1]).to(torch.int).to(device)\n",
    "# data['scale_cond'] = torch.zeros_like(T).to(device)\n",
    "\n",
    "comp_model.to(device)\n",
    "out_enc = comp_model.compress(data)\n",
    "\n",
    "# torch.cuda.synchronize()\n",
    "start = time.time()\n",
    "out_dec = comp_model.decompress(out_enc)\n",
    "# torch.cuda.synchronize()\n",
    "end = time.time()\n",
    "\n",
    "elapsed_ms = (end - start) * 1000\n",
    "print(f\"Decompress time: {elapsed_ms:.3f} ms\")\n"
   ]
  },
  {
   "cell_type": "code",
   "execution_count": null,
   "id": "0c6f8504",
   "metadata": {},
   "outputs": [],
   "source": []
  },
  {
   "cell_type": "code",
   "execution_count": null,
   "id": "28f2bdc2",
   "metadata": {},
   "outputs": [],
   "source": []
  }
 ],
 "metadata": {
  "kernelspec": {
   "display_name": "base",
   "language": "python",
   "name": "python3"
  },
  "language_info": {
   "codemirror_mode": {
    "name": "ipython",
    "version": 3
   },
   "file_extension": ".py",
   "mimetype": "text/x-python",
   "name": "python",
   "nbconvert_exporter": "python",
   "pygments_lexer": "ipython3",
   "version": "3.10.13"
  }
 },
 "nbformat": 4,
 "nbformat_minor": 5
}
