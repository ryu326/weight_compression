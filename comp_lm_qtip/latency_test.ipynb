{
 "cells": [
  {
   "cell_type": "code",
   "execution_count": 1,
   "id": "1977f888",
   "metadata": {},
   "outputs": [
    {
     "name": "stderr",
     "output_type": "stream",
     "text": [
      "W0723 16:13:23.622034 3504666 warnings.py:109] /opt/conda/lib/python3.10/site-packages/tqdm/auto.py:21: TqdmWarning: IProgress not found. Please update jupyter and ipywidgets. See https://ipywidgets.readthedocs.io/en/stable/user_install.html\n",
      "  from .autonotebook import tqdm as notebook_tqdm\n",
      "\n",
      "I0723 16:13:24.247952 3504666 utils.py:146] Note: detected 128 virtual cores but NumExpr set to maximum of 64, check \"NUMEXPR_MAX_THREADS\" environment variable.\n",
      "I0723 16:13:24.249204 3504666 utils.py:149] Note: NumExpr detected 128 cores but \"NUMEXPR_MAX_THREADS\" not set, so enforcing safe limit of 16.\n",
      "I0723 16:13:24.249735 3504666 utils.py:162] NumExpr defaulting to 16 threads.\n",
      "I0723 16:13:24.385351 3504666 config.py:54] PyTorch version 2.6.0 available.\n",
      "W0723 16:13:26.770972 3504666 warnings.py:109] /opt/conda/lib/python3.10/site-packages/compressai/models/video/google.py:353: FutureWarning: `torch.cuda.amp.autocast(args...)` is deprecated. Please use `torch.amp.autocast('cuda', args...)` instead.\n",
      "  @amp.autocast(enabled=False)\n",
      "\n"
     ]
    }
   ],
   "source": [
    "import argparse\n",
    "import os\n",
    "import time\n",
    "\n",
    "import glog, json\n",
    "\n",
    "os.environ['PYTORCH_CUDA_ALLOC_CONF'] = 'max_split_size_mb:512'\n",
    "\n",
    "import torch\n",
    "import torch.multiprocessing as mp\n",
    "from transformers import AutoModelForCausalLM, AutoTokenizer\n",
    "from transformers.modeling_attn_mask_utils import \\\n",
    "    _prepare_4d_causal_attention_mask\n",
    "\n",
    "from lib import utils\n",
    "from lib.algo import finetune\n",
    "from lib.codebook import bitshift\n",
    "from operator import attrgetter\n",
    "\n",
    "import sys\n",
    "notebook_dir = os.path.dirname(os.path.abspath(\"__file__\"))\n",
    "project_root = os.path.abspath(os.path.join(notebook_dir, \"..\"))\n",
    "\n",
    "from NWC.models import get_model"
   ]
  },
  {
   "cell_type": "code",
   "execution_count": 2,
   "id": "d5e8224a",
   "metadata": {},
   "outputs": [
    {
     "data": {
      "text/plain": [
       "tensor([[    0,     1,     2,  ..., 65534, 65535, 65536],\n",
       "        [    0,     1,     2,  ...,     0,     0,     0],\n",
       "        [    0,     1,     2,  ...,     0,     0,     0],\n",
       "        ...,\n",
       "        [    0,     1,     2,  ...,     0,     0,     0],\n",
       "        [    0,     1,     2,  ...,     0,     0,     0],\n",
       "        [    0,     1,     2,  ...,     0,     0,     0]], dtype=torch.int32)"
      ]
     },
     "execution_count": 2,
     "metadata": {},
     "output_type": "execute_result"
    }
   ],
   "source": [
    "class Config:\n",
    "    def __init__(self, **entries):\n",
    "        self.__dict__.update(entries)\n",
    "\n",
    "comp_model_path = '/workspace/Weight_compression/NWC/checkpoint/nwc_ql/block_seq_ql_random_scaler_meta-llama--Meta-Llama-3-8B__col_1024_gaussian_padding.pt/M16/lmbda50_rdloss_ql_size16_encdim512_M16_Q4_R0_m0_batch_size2048_total_iter200000_lr0.0001_seed100/best_loss_model_loss_3.87239_bpp_4.65884_MSE_0.0162_total_iter_95000.pth.tar'\n",
    "# comp_model_path = '/workspace/Weight_compression/NWC/checkpoint/nwc_scale_cond/block_seq_scale_cond_scaler_meta-llama--Meta-Llama-3-8B__scaleH_sig0.0001_std_rnormed_with_col_std_lidx_row_1024.pt/rdloss_size128_encdim1024_M256_Q0_R0_m0_batch_size2048_total_iter200000_lr0.0001_seed100/lmbda50_/best_loss_model_loss_3.94749_bpp_3.26997_MSE_4.91093_total_iter_192500.pth.tar'\n",
    "config = os.path.join(os.path.dirname(comp_model_path), 'config.json')\n",
    "with open(config, 'r', encoding='utf-8') as file:\n",
    "    config = json.load(file)\n",
    "config = Config(**config)\n",
    "\n",
    "shift, scale = None, None\n",
    "if config.architecture == 'nwc_ql' and not hasattr(config, \"Q\"):\n",
    "    config.Q = 4\n",
    "if not hasattr(config, \"no_layernorm\"):\n",
    "    config.no_layernorm = False\n",
    "\n",
    "\n",
    "comp_model = get_model(config.architecture, config, scale=scale, shift=shift)\n",
    "comp_model.config = config\n",
    "ckpt = torch.load(comp_model_path, weights_only=False)\n",
    "scale, shift  = torch.zeros(1), torch.zeros(1)\n",
    "\n",
    "comp_model.load_state_dict(ckpt[\"state_dict\"], strict = False)\n",
    "comp_model.scale = scale\n",
    "comp_model.shift = shift\n",
    "comp_model.eval()\n",
    "comp_model.update()\n",
    "\n",
    "comp_model.update(force=True)              # CompressAI: CDF 고정 및 버퍼 등록\n",
    "comp_model.entropy_bottleneck._quantized_cdf  # 캐시되어 이후 재계산 안 됨"
   ]
  },
  {
   "cell_type": "code",
   "execution_count": 3,
   "id": "0b30ad73",
   "metadata": {},
   "outputs": [
    {
     "name": "stdout",
     "output_type": "stream",
     "text": [
      "Average: 20.220 ms\n"
     ]
    }
   ],
   "source": [
    "import torch\n",
    "\n",
    "device = torch.device('cuda:4')\n",
    "\n",
    "tt = []\n",
    "with torch.no_grad():\n",
    "    for i in range(10):\n",
    "        T  = torch.zeros(256, 256)\n",
    "        T = T.reshape(1, -1, 16).to(device)\n",
    "        # T = T.reshape(1, -1, 128).to(device)\n",
    "        data = {}\n",
    "        data['weight_block'] = T\n",
    "        data['q_level'] = torch.zeros(1, T.shape[1]).to(torch.int).to(device)\n",
    "        # data['scale_cond'] = torch.zeros_like(T).to(device)\n",
    "\n",
    "        comp_model.to(device)\n",
    "        out_enc = comp_model.compress(data)\n",
    "\n",
    "        # torch.cuda.synchronize()\n",
    "        start = time.time()\n",
    "        out_dec, timings  = comp_model.fast_decompress(out_enc)\n",
    "        # out_dec  = comp_model.decompress(out_enc)\n",
    "        # torch.cuda.synchronize()\n",
    "        end = time.time()\n",
    "        elapsed_ms = (end - start) * 1000\n",
    "        tt.append(elapsed_ms)\n",
    "        # print(f\"Decompress time: {elapsed_ms:.3f} ms\")\n",
    "        # for step, duration in timings.items():\n",
    "        #     print(f\"{step:<25}: {duration:.4f} ms\")\n",
    "\n",
    "\n",
    "avg = 0\n",
    "for t in tt:\n",
    "    avg += t\n",
    "avg /= len(tt)\n",
    "print(f\"Average: {avg:.3f} ms\")"
   ]
  },
  {
   "cell_type": "code",
   "execution_count": 4,
   "id": "0e994bf0",
   "metadata": {},
   "outputs": [
    {
     "name": "stdout",
     "output_type": "stream",
     "text": [
      "\n",
      "--- 각 단계별 평균 소요 시간 (10회 실행) ---\n",
      "total_decompress_ms      : 17.9213 ms\n",
      "entropy_decompress_ms    : 17.1925 ms\n",
      "synthesis_g_s_ms         : 0.5853 ms\n",
      "quality_embedding_ms     : 0.0557 ms\n",
      "permute_ms               : 0.0363 ms\n",
      "rescale_shift_ms         : 0.0339 ms\n",
      "parse_input_ms           : 0.0014 ms\n"
     ]
    }
   ],
   "source": [
    "import torch\n",
    "import time\n",
    "from collections import defaultdict\n",
    "\n",
    "# 이전에 정의된 comp_model이 있다고 가정합니다.\n",
    "# device = torch.device('cuda:5')\n",
    "\n",
    "# 각 스텝별 시간을 저장할 딕셔너리\n",
    "all_timings = defaultdict(list)\n",
    "\n",
    "with torch.no_grad():\n",
    "    for i in range(10):\n",
    "        # --- 데이터 준비 (기존 코드와 동일) ---\n",
    "        T = torch.zeros(256, 256)\n",
    "        T = T.reshape(1, -1, 16).to(device)\n",
    "        data = {}\n",
    "        data['weight_block'] = T\n",
    "        data['q_level'] = torch.zeros(1, T.shape[1], dtype=torch.int).to(device)\n",
    "\n",
    "        comp_model.to(device)\n",
    "        out_enc = comp_model.compress(data)\n",
    "\n",
    "        # Decompress 실행 및 시간 측정\n",
    "        # fast_decompress는 (결과, 시간_딕셔너리)를 반환한다고 가정\n",
    "        out_dec, timings = comp_model.fast_decompress(out_enc)\n",
    "\n",
    "        # 각 단계의 측정 시간을 리스트에 추가\n",
    "        for step, duration in timings.items():\n",
    "            all_timings[step].append(duration)\n",
    "\n",
    "# --- 각 단계별 평균 시간 계산 및 출력 ---\n",
    "print(\"\\n--- 각 단계별 평균 소요 시간 (10회 실행) ---\")\n",
    "avg_timings = {}\n",
    "for step, duration_list in all_timings.items():\n",
    "    # 저장된 시간 리스트의 평균을 계산\n",
    "    average_duration = sum(duration_list) / len(duration_list)\n",
    "    avg_timings[step] = average_duration\n",
    "\n",
    "# 보기 좋게 정렬하여 출력 (총 소요시간이 긴 순서대로)\n",
    "sorted_avg_timings = sorted(avg_timings.items(), key=lambda item: item[1], reverse=True)\n",
    "\n",
    "for step, avg_duration in sorted_avg_timings:\n",
    "    print(f\"{step:<25}: {avg_duration:.4f} ms\")"
   ]
  }
 ],
 "metadata": {
  "kernelspec": {
   "display_name": "base",
   "language": "python",
   "name": "python3"
  },
  "language_info": {
   "codemirror_mode": {
    "name": "ipython",
    "version": 3
   },
   "file_extension": ".py",
   "mimetype": "text/x-python",
   "name": "python",
   "nbconvert_exporter": "python",
   "pygments_lexer": "ipython3",
   "version": "3.10.13"
  }
 },
 "nbformat": 4,
 "nbformat_minor": 5
}
