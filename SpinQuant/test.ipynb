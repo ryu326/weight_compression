{
 "cells": [
  {
   "cell_type": "code",
   "execution_count": null,
   "id": "af5e9be2",
   "metadata": {},
   "outputs": [],
   "source": [
    "from transformers import AutoTokenizer, AutoModelForCausalLM\n",
    "import torch\n",
    "\n",
    "# 모델과 토크나이저 로드\n",
    "model_name = \"gpt2\"  # 예시로 gpt2\n",
    "tokenizer = AutoTokenizer.from_pretrained(model_name)\n",
    "model = AutoModelForCausalLM.from_pretrained(model_name)\n",
    "\n",
    "# 프롬프트 입력\n",
    "prompt = \"Once upon a time\"\n",
    "input_ids = tokenizer(prompt, return_tensors=\"pt\").input_ids\n",
    "\n",
    "# 생성\n",
    "with torch.no_grad():\n",
    "    generated_ids = model.generate(input_ids, max_length=50)\n",
    "\n",
    "# 결과 디코딩\n",
    "generated_text = tokenizer.decode(generated_ids[0], skip_special_tokens=True)\n",
    "print(generated_text)\n"
   ]
  },
  {
   "cell_type": "code",
   "execution_count": 1,
   "id": "a7135236",
   "metadata": {},
   "outputs": [
    {
     "name": "stderr",
     "output_type": "stream",
     "text": [
      "/tmp/ipykernel_2932625/4066357415.py:3: FutureWarning: You are using `torch.load` with `weights_only=False` (the current default value), which uses the default pickle module implicitly. It is possible to construct malicious pickle data which will execute arbitrary code during unpickling (See https://github.com/pytorch/pytorch/blob/main/SECURITY.md#untrusted-models for more details). In a future release, the default value for `weights_only` will be flipped to `True`. This limits the functions that could be executed during unpickling. Arbitrary objects will no longer be allowed to be loaded via this mode unless they are explicitly allowlisted by the user via `torch.serialization.add_safe_globals`. We recommend you start setting `weights_only=True` for any use case where you don't have full control of the loaded file. Please open an issue on GitHub for any issues related to this experimental feature.\n",
      "  model = torch.load('/workspace/Weight_compression/SpinQuant/output_qmodel/8B_w5a16.pth')\n"
     ]
    }
   ],
   "source": [
    "import torch\n",
    "\n",
    "model = torch.load('/workspace/Weight_compression/SpinQuant/output_qmodel/8B_w5a16.pth')"
   ]
  },
  {
   "cell_type": "code",
   "execution_count": 3,
   "id": "41efcdc4",
   "metadata": {},
   "outputs": [
    {
     "data": {
      "text/plain": [
       "dict_keys(['layers.0.attention_norm.weight', 'layers.0.ffn_norm.weight', 'layers.0.attention.wq.weight', 'layers.0.attention.wk.weight', 'layers.0.attention.wv.weight', 'layers.0.attention.wo.weight', 'layers.0.feed_forward.w1.weight', 'layers.0.feed_forward.w2.weight', 'layers.0.feed_forward.w3.weight', 'layers.1.attention_norm.weight', 'layers.1.ffn_norm.weight', 'layers.1.attention.wq.weight', 'layers.1.attention.wk.weight', 'layers.1.attention.wv.weight', 'layers.1.attention.wo.weight', 'layers.1.feed_forward.w1.weight', 'layers.1.feed_forward.w2.weight', 'layers.1.feed_forward.w3.weight', 'layers.2.attention_norm.weight', 'layers.2.ffn_norm.weight', 'layers.2.attention.wq.weight', 'layers.2.attention.wk.weight', 'layers.2.attention.wv.weight', 'layers.2.attention.wo.weight', 'layers.2.feed_forward.w1.weight', 'layers.2.feed_forward.w2.weight', 'layers.2.feed_forward.w3.weight', 'layers.3.attention_norm.weight', 'layers.3.ffn_norm.weight', 'layers.3.attention.wq.weight', 'layers.3.attention.wk.weight', 'layers.3.attention.wv.weight', 'layers.3.attention.wo.weight', 'layers.3.feed_forward.w1.weight', 'layers.3.feed_forward.w2.weight', 'layers.3.feed_forward.w3.weight', 'layers.4.attention_norm.weight', 'layers.4.ffn_norm.weight', 'layers.4.attention.wq.weight', 'layers.4.attention.wk.weight', 'layers.4.attention.wv.weight', 'layers.4.attention.wo.weight', 'layers.4.feed_forward.w1.weight', 'layers.4.feed_forward.w2.weight', 'layers.4.feed_forward.w3.weight', 'layers.5.attention_norm.weight', 'layers.5.ffn_norm.weight', 'layers.5.attention.wq.weight', 'layers.5.attention.wk.weight', 'layers.5.attention.wv.weight', 'layers.5.attention.wo.weight', 'layers.5.feed_forward.w1.weight', 'layers.5.feed_forward.w2.weight', 'layers.5.feed_forward.w3.weight', 'layers.6.attention_norm.weight', 'layers.6.ffn_norm.weight', 'layers.6.attention.wq.weight', 'layers.6.attention.wk.weight', 'layers.6.attention.wv.weight', 'layers.6.attention.wo.weight', 'layers.6.feed_forward.w1.weight', 'layers.6.feed_forward.w2.weight', 'layers.6.feed_forward.w3.weight', 'layers.7.attention_norm.weight', 'layers.7.ffn_norm.weight', 'layers.7.attention.wq.weight', 'layers.7.attention.wk.weight', 'layers.7.attention.wv.weight', 'layers.7.attention.wo.weight', 'layers.7.feed_forward.w1.weight', 'layers.7.feed_forward.w2.weight', 'layers.7.feed_forward.w3.weight', 'layers.8.attention_norm.weight', 'layers.8.ffn_norm.weight', 'layers.8.attention.wq.weight', 'layers.8.attention.wk.weight', 'layers.8.attention.wv.weight', 'layers.8.attention.wo.weight', 'layers.8.feed_forward.w1.weight', 'layers.8.feed_forward.w2.weight', 'layers.8.feed_forward.w3.weight', 'layers.9.attention_norm.weight', 'layers.9.ffn_norm.weight', 'layers.9.attention.wq.weight', 'layers.9.attention.wk.weight', 'layers.9.attention.wv.weight', 'layers.9.attention.wo.weight', 'layers.9.feed_forward.w1.weight', 'layers.9.feed_forward.w2.weight', 'layers.9.feed_forward.w3.weight', 'layers.10.attention_norm.weight', 'layers.10.ffn_norm.weight', 'layers.10.attention.wq.weight', 'layers.10.attention.wk.weight', 'layers.10.attention.wv.weight', 'layers.10.attention.wo.weight', 'layers.10.feed_forward.w1.weight', 'layers.10.feed_forward.w2.weight', 'layers.10.feed_forward.w3.weight', 'layers.11.attention_norm.weight', 'layers.11.ffn_norm.weight', 'layers.11.attention.wq.weight', 'layers.11.attention.wk.weight', 'layers.11.attention.wv.weight', 'layers.11.attention.wo.weight', 'layers.11.feed_forward.w1.weight', 'layers.11.feed_forward.w2.weight', 'layers.11.feed_forward.w3.weight', 'layers.12.attention_norm.weight', 'layers.12.ffn_norm.weight', 'layers.12.attention.wq.weight', 'layers.12.attention.wk.weight', 'layers.12.attention.wv.weight', 'layers.12.attention.wo.weight', 'layers.12.feed_forward.w1.weight', 'layers.12.feed_forward.w2.weight', 'layers.12.feed_forward.w3.weight', 'layers.13.attention_norm.weight', 'layers.13.ffn_norm.weight', 'layers.13.attention.wq.weight', 'layers.13.attention.wk.weight', 'layers.13.attention.wv.weight', 'layers.13.attention.wo.weight', 'layers.13.feed_forward.w1.weight', 'layers.13.feed_forward.w2.weight', 'layers.13.feed_forward.w3.weight', 'layers.14.attention_norm.weight', 'layers.14.ffn_norm.weight', 'layers.14.attention.wq.weight', 'layers.14.attention.wk.weight', 'layers.14.attention.wv.weight', 'layers.14.attention.wo.weight', 'layers.14.feed_forward.w1.weight', 'layers.14.feed_forward.w2.weight', 'layers.14.feed_forward.w3.weight', 'layers.15.attention_norm.weight', 'layers.15.ffn_norm.weight', 'layers.15.attention.wq.weight', 'layers.15.attention.wk.weight', 'layers.15.attention.wv.weight', 'layers.15.attention.wo.weight', 'layers.15.feed_forward.w1.weight', 'layers.15.feed_forward.w2.weight', 'layers.15.feed_forward.w3.weight', 'layers.16.attention_norm.weight', 'layers.16.ffn_norm.weight', 'layers.16.attention.wq.weight', 'layers.16.attention.wk.weight', 'layers.16.attention.wv.weight', 'layers.16.attention.wo.weight', 'layers.16.feed_forward.w1.weight', 'layers.16.feed_forward.w2.weight', 'layers.16.feed_forward.w3.weight', 'layers.17.attention_norm.weight', 'layers.17.ffn_norm.weight', 'layers.17.attention.wq.weight', 'layers.17.attention.wk.weight', 'layers.17.attention.wv.weight', 'layers.17.attention.wo.weight', 'layers.17.feed_forward.w1.weight', 'layers.17.feed_forward.w2.weight', 'layers.17.feed_forward.w3.weight', 'layers.18.attention_norm.weight', 'layers.18.ffn_norm.weight', 'layers.18.attention.wq.weight', 'layers.18.attention.wk.weight', 'layers.18.attention.wv.weight', 'layers.18.attention.wo.weight', 'layers.18.feed_forward.w1.weight', 'layers.18.feed_forward.w2.weight', 'layers.18.feed_forward.w3.weight', 'layers.19.attention_norm.weight', 'layers.19.ffn_norm.weight', 'layers.19.attention.wq.weight', 'layers.19.attention.wk.weight', 'layers.19.attention.wv.weight', 'layers.19.attention.wo.weight', 'layers.19.feed_forward.w1.weight', 'layers.19.feed_forward.w2.weight', 'layers.19.feed_forward.w3.weight', 'layers.20.attention_norm.weight', 'layers.20.ffn_norm.weight', 'layers.20.attention.wq.weight', 'layers.20.attention.wk.weight', 'layers.20.attention.wv.weight', 'layers.20.attention.wo.weight', 'layers.20.feed_forward.w1.weight', 'layers.20.feed_forward.w2.weight', 'layers.20.feed_forward.w3.weight', 'layers.21.attention_norm.weight', 'layers.21.ffn_norm.weight', 'layers.21.attention.wq.weight', 'layers.21.attention.wk.weight', 'layers.21.attention.wv.weight', 'layers.21.attention.wo.weight', 'layers.21.feed_forward.w1.weight', 'layers.21.feed_forward.w2.weight', 'layers.21.feed_forward.w3.weight', 'layers.22.attention_norm.weight', 'layers.22.ffn_norm.weight', 'layers.22.attention.wq.weight', 'layers.22.attention.wk.weight', 'layers.22.attention.wv.weight', 'layers.22.attention.wo.weight', 'layers.22.feed_forward.w1.weight', 'layers.22.feed_forward.w2.weight', 'layers.22.feed_forward.w3.weight', 'layers.23.attention_norm.weight', 'layers.23.ffn_norm.weight', 'layers.23.attention.wq.weight', 'layers.23.attention.wk.weight', 'layers.23.attention.wv.weight', 'layers.23.attention.wo.weight', 'layers.23.feed_forward.w1.weight', 'layers.23.feed_forward.w2.weight', 'layers.23.feed_forward.w3.weight', 'layers.24.attention_norm.weight', 'layers.24.ffn_norm.weight', 'layers.24.attention.wq.weight', 'layers.24.attention.wk.weight', 'layers.24.attention.wv.weight', 'layers.24.attention.wo.weight', 'layers.24.feed_forward.w1.weight', 'layers.24.feed_forward.w2.weight', 'layers.24.feed_forward.w3.weight', 'layers.25.attention_norm.weight', 'layers.25.ffn_norm.weight', 'layers.25.attention.wq.weight', 'layers.25.attention.wk.weight', 'layers.25.attention.wv.weight', 'layers.25.attention.wo.weight', 'layers.25.feed_forward.w1.weight', 'layers.25.feed_forward.w2.weight', 'layers.25.feed_forward.w3.weight', 'layers.26.attention_norm.weight', 'layers.26.ffn_norm.weight', 'layers.26.attention.wq.weight', 'layers.26.attention.wk.weight', 'layers.26.attention.wv.weight', 'layers.26.attention.wo.weight', 'layers.26.feed_forward.w1.weight', 'layers.26.feed_forward.w2.weight', 'layers.26.feed_forward.w3.weight', 'layers.27.attention_norm.weight', 'layers.27.ffn_norm.weight', 'layers.27.attention.wq.weight', 'layers.27.attention.wk.weight', 'layers.27.attention.wv.weight', 'layers.27.attention.wo.weight', 'layers.27.feed_forward.w1.weight', 'layers.27.feed_forward.w2.weight', 'layers.27.feed_forward.w3.weight', 'layers.28.attention_norm.weight', 'layers.28.ffn_norm.weight', 'layers.28.attention.wq.weight', 'layers.28.attention.wk.weight', 'layers.28.attention.wv.weight', 'layers.28.attention.wo.weight', 'layers.28.feed_forward.w1.weight', 'layers.28.feed_forward.w2.weight', 'layers.28.feed_forward.w3.weight', 'layers.29.attention_norm.weight', 'layers.29.ffn_norm.weight', 'layers.29.attention.wq.weight', 'layers.29.attention.wk.weight', 'layers.29.attention.wv.weight', 'layers.29.attention.wo.weight', 'layers.29.feed_forward.w1.weight', 'layers.29.feed_forward.w2.weight', 'layers.29.feed_forward.w3.weight', 'layers.30.attention_norm.weight', 'layers.30.ffn_norm.weight', 'layers.30.attention.wq.weight', 'layers.30.attention.wk.weight', 'layers.30.attention.wv.weight', 'layers.30.attention.wo.weight', 'layers.30.feed_forward.w1.weight', 'layers.30.feed_forward.w2.weight', 'layers.30.feed_forward.w3.weight', 'layers.31.attention_norm.weight', 'layers.31.ffn_norm.weight', 'layers.31.attention.wq.weight', 'layers.31.attention.wk.weight', 'layers.31.attention.wv.weight', 'layers.31.attention.wo.weight', 'layers.31.feed_forward.w1.weight', 'layers.31.feed_forward.w2.weight', 'layers.31.feed_forward.w3.weight', 'norm.weight', 'tok_embeddings.weight', 'output.weight', 'layers.0.attention.wq.scales', 'layers.0.attention.wk.scales', 'layers.0.attention.wv.scales', 'layers.0.attention.wo.scales', 'layers.0.feed_forward.w1.scales', 'layers.0.feed_forward.w2.scales', 'layers.0.feed_forward.w3.scales', 'layers.1.attention.wq.scales', 'layers.1.attention.wk.scales', 'layers.1.attention.wv.scales', 'layers.1.attention.wo.scales', 'layers.1.feed_forward.w1.scales', 'layers.1.feed_forward.w2.scales', 'layers.1.feed_forward.w3.scales', 'layers.2.attention.wq.scales', 'layers.2.attention.wk.scales', 'layers.2.attention.wv.scales', 'layers.2.attention.wo.scales', 'layers.2.feed_forward.w1.scales', 'layers.2.feed_forward.w2.scales', 'layers.2.feed_forward.w3.scales', 'layers.3.attention.wq.scales', 'layers.3.attention.wk.scales', 'layers.3.attention.wv.scales', 'layers.3.attention.wo.scales', 'layers.3.feed_forward.w1.scales', 'layers.3.feed_forward.w2.scales', 'layers.3.feed_forward.w3.scales', 'layers.4.attention.wq.scales', 'layers.4.attention.wk.scales', 'layers.4.attention.wv.scales', 'layers.4.attention.wo.scales', 'layers.4.feed_forward.w1.scales', 'layers.4.feed_forward.w2.scales', 'layers.4.feed_forward.w3.scales', 'layers.5.attention.wq.scales', 'layers.5.attention.wk.scales', 'layers.5.attention.wv.scales', 'layers.5.attention.wo.scales', 'layers.5.feed_forward.w1.scales', 'layers.5.feed_forward.w2.scales', 'layers.5.feed_forward.w3.scales', 'layers.6.attention.wq.scales', 'layers.6.attention.wk.scales', 'layers.6.attention.wv.scales', 'layers.6.attention.wo.scales', 'layers.6.feed_forward.w1.scales', 'layers.6.feed_forward.w2.scales', 'layers.6.feed_forward.w3.scales', 'layers.7.attention.wq.scales', 'layers.7.attention.wk.scales', 'layers.7.attention.wv.scales', 'layers.7.attention.wo.scales', 'layers.7.feed_forward.w1.scales', 'layers.7.feed_forward.w2.scales', 'layers.7.feed_forward.w3.scales', 'layers.8.attention.wq.scales', 'layers.8.attention.wk.scales', 'layers.8.attention.wv.scales', 'layers.8.attention.wo.scales', 'layers.8.feed_forward.w1.scales', 'layers.8.feed_forward.w2.scales', 'layers.8.feed_forward.w3.scales', 'layers.9.attention.wq.scales', 'layers.9.attention.wk.scales', 'layers.9.attention.wv.scales', 'layers.9.attention.wo.scales', 'layers.9.feed_forward.w1.scales', 'layers.9.feed_forward.w2.scales', 'layers.9.feed_forward.w3.scales', 'layers.10.attention.wq.scales', 'layers.10.attention.wk.scales', 'layers.10.attention.wv.scales', 'layers.10.attention.wo.scales', 'layers.10.feed_forward.w1.scales', 'layers.10.feed_forward.w2.scales', 'layers.10.feed_forward.w3.scales', 'layers.11.attention.wq.scales', 'layers.11.attention.wk.scales', 'layers.11.attention.wv.scales', 'layers.11.attention.wo.scales', 'layers.11.feed_forward.w1.scales', 'layers.11.feed_forward.w2.scales', 'layers.11.feed_forward.w3.scales', 'layers.12.attention.wq.scales', 'layers.12.attention.wk.scales', 'layers.12.attention.wv.scales', 'layers.12.attention.wo.scales', 'layers.12.feed_forward.w1.scales', 'layers.12.feed_forward.w2.scales', 'layers.12.feed_forward.w3.scales', 'layers.13.attention.wq.scales', 'layers.13.attention.wk.scales', 'layers.13.attention.wv.scales', 'layers.13.attention.wo.scales', 'layers.13.feed_forward.w1.scales', 'layers.13.feed_forward.w2.scales', 'layers.13.feed_forward.w3.scales', 'layers.14.attention.wq.scales', 'layers.14.attention.wk.scales', 'layers.14.attention.wv.scales', 'layers.14.attention.wo.scales', 'layers.14.feed_forward.w1.scales', 'layers.14.feed_forward.w2.scales', 'layers.14.feed_forward.w3.scales', 'layers.15.attention.wq.scales', 'layers.15.attention.wk.scales', 'layers.15.attention.wv.scales', 'layers.15.attention.wo.scales', 'layers.15.feed_forward.w1.scales', 'layers.15.feed_forward.w2.scales', 'layers.15.feed_forward.w3.scales', 'layers.16.attention.wq.scales', 'layers.16.attention.wk.scales', 'layers.16.attention.wv.scales', 'layers.16.attention.wo.scales', 'layers.16.feed_forward.w1.scales', 'layers.16.feed_forward.w2.scales', 'layers.16.feed_forward.w3.scales', 'layers.17.attention.wq.scales', 'layers.17.attention.wk.scales', 'layers.17.attention.wv.scales', 'layers.17.attention.wo.scales', 'layers.17.feed_forward.w1.scales', 'layers.17.feed_forward.w2.scales', 'layers.17.feed_forward.w3.scales', 'layers.18.attention.wq.scales', 'layers.18.attention.wk.scales', 'layers.18.attention.wv.scales', 'layers.18.attention.wo.scales', 'layers.18.feed_forward.w1.scales', 'layers.18.feed_forward.w2.scales', 'layers.18.feed_forward.w3.scales', 'layers.19.attention.wq.scales', 'layers.19.attention.wk.scales', 'layers.19.attention.wv.scales', 'layers.19.attention.wo.scales', 'layers.19.feed_forward.w1.scales', 'layers.19.feed_forward.w2.scales', 'layers.19.feed_forward.w3.scales', 'layers.20.attention.wq.scales', 'layers.20.attention.wk.scales', 'layers.20.attention.wv.scales', 'layers.20.attention.wo.scales', 'layers.20.feed_forward.w1.scales', 'layers.20.feed_forward.w2.scales', 'layers.20.feed_forward.w3.scales', 'layers.21.attention.wq.scales', 'layers.21.attention.wk.scales', 'layers.21.attention.wv.scales', 'layers.21.attention.wo.scales', 'layers.21.feed_forward.w1.scales', 'layers.21.feed_forward.w2.scales', 'layers.21.feed_forward.w3.scales', 'layers.22.attention.wq.scales', 'layers.22.attention.wk.scales', 'layers.22.attention.wv.scales', 'layers.22.attention.wo.scales', 'layers.22.feed_forward.w1.scales', 'layers.22.feed_forward.w2.scales', 'layers.22.feed_forward.w3.scales', 'layers.23.attention.wq.scales', 'layers.23.attention.wk.scales', 'layers.23.attention.wv.scales', 'layers.23.attention.wo.scales', 'layers.23.feed_forward.w1.scales', 'layers.23.feed_forward.w2.scales', 'layers.23.feed_forward.w3.scales', 'layers.24.attention.wq.scales', 'layers.24.attention.wk.scales', 'layers.24.attention.wv.scales', 'layers.24.attention.wo.scales', 'layers.24.feed_forward.w1.scales', 'layers.24.feed_forward.w2.scales', 'layers.24.feed_forward.w3.scales', 'layers.25.attention.wq.scales', 'layers.25.attention.wk.scales', 'layers.25.attention.wv.scales', 'layers.25.attention.wo.scales', 'layers.25.feed_forward.w1.scales', 'layers.25.feed_forward.w2.scales', 'layers.25.feed_forward.w3.scales', 'layers.26.attention.wq.scales', 'layers.26.attention.wk.scales', 'layers.26.attention.wv.scales', 'layers.26.attention.wo.scales', 'layers.26.feed_forward.w1.scales', 'layers.26.feed_forward.w2.scales', 'layers.26.feed_forward.w3.scales', 'layers.27.attention.wq.scales', 'layers.27.attention.wk.scales', 'layers.27.attention.wv.scales', 'layers.27.attention.wo.scales', 'layers.27.feed_forward.w1.scales', 'layers.27.feed_forward.w2.scales', 'layers.27.feed_forward.w3.scales', 'layers.28.attention.wq.scales', 'layers.28.attention.wk.scales', 'layers.28.attention.wv.scales', 'layers.28.attention.wo.scales', 'layers.28.feed_forward.w1.scales', 'layers.28.feed_forward.w2.scales', 'layers.28.feed_forward.w3.scales', 'layers.29.attention.wq.scales', 'layers.29.attention.wk.scales', 'layers.29.attention.wv.scales', 'layers.29.attention.wo.scales', 'layers.29.feed_forward.w1.scales', 'layers.29.feed_forward.w2.scales', 'layers.29.feed_forward.w3.scales', 'layers.30.attention.wq.scales', 'layers.30.attention.wk.scales', 'layers.30.attention.wv.scales', 'layers.30.attention.wo.scales', 'layers.30.feed_forward.w1.scales', 'layers.30.feed_forward.w2.scales', 'layers.30.feed_forward.w3.scales', 'layers.31.attention.wq.scales', 'layers.31.attention.wk.scales', 'layers.31.attention.wv.scales', 'layers.31.attention.wo.scales', 'layers.31.feed_forward.w1.scales', 'layers.31.feed_forward.w2.scales', 'layers.31.feed_forward.w3.scales', 'tok_embeddings.scales', 'output.scales'])"
      ]
     },
     "execution_count": 3,
     "metadata": {},
     "output_type": "execute_result"
    }
   ],
   "source": [
    "model.keys()"
   ]
  },
  {
   "cell_type": "code",
   "execution_count": null,
   "id": "472397a6",
   "metadata": {},
   "outputs": [],
   "source": []
  }
 ],
 "metadata": {
  "kernelspec": {
   "display_name": "base",
   "language": "python",
   "name": "python3"
  },
  "language_info": {
   "codemirror_mode": {
    "name": "ipython",
    "version": 3
   },
   "file_extension": ".py",
   "mimetype": "text/x-python",
   "name": "python",
   "nbconvert_exporter": "python",
   "pygments_lexer": "ipython3",
   "version": "3.11.10"
  }
 },
 "nbformat": 4,
 "nbformat_minor": 5
}
