{
 "cells": [
  {
   "cell_type": "code",
   "execution_count": 51,
   "metadata": {},
   "outputs": [],
   "source": [
    "import matplotlib.pyplot as plt\n",
    "import json\n",
    "\n",
    "import json\n",
    "import matplotlib.pyplot as plt\n",
    "import os\n",
    "import glob\n",
    "import numpy as np\n",
    "\n",
    "from PIL import Image\n",
    "import numpy as np\n",
    "\n",
    "plot_data = {}"
   ]
  },
  {
   "cell_type": "markdown",
   "metadata": {},
   "source": [
    "# RDsandwich"
   ]
  },
  {
   "cell_type": "code",
   "execution_count": 52,
   "metadata": {},
   "outputs": [],
   "source": [
    "def divide_non_none_elements(input_list, n):\n",
    "    # 각 요소가 None이 아닐 경우 n으로 나누고, None일 경우 그대로 유지\n",
    "    # return [x / n if x is not None else x for x in input_list]\n",
    "    return [x / n for x in input_list if x is not None]\n",
    "\n",
    "\n",
    "def get_data(directory, e):\n",
    "    file_list = glob.glob(f'{directory}/**/*.jsonl', recursive=True)\n",
    "\n",
    "    dirlist  = os.listdir(directory)\n",
    "    # lmbdas = set([0])\n",
    "    lmbdas = set([])\n",
    "    for d in dirlist:\n",
    "        if not 'lmbda=' in d:\n",
    "            continue\n",
    "        start = d.find('lmbda=') + len('lmbda=')\n",
    "        end = d.find('-encoder', start)\n",
    "        lmbda_value = float(d[start:end])\n",
    "        # print(lmbda_value)\n",
    "        lmbdas.add(lmbda_value)\n",
    "\n",
    "    # print(lmbdas)\n",
    "    lmbdas = sorted(lmbdas)\n",
    "    # lmbdas = lmbdas[1:19]\n",
    "    # print(lmbdas)\n",
    "    data_dict = {}\n",
    "\n",
    "    if 0 in lmbdas:\n",
    "        for file_path in file_list:\n",
    "            if (not f'lmbda' in file_path):\n",
    "                with open(file_path, 'r') as f:\n",
    "                    for line in f:\n",
    "                        data_dict[0].append(json.loads(line))\n",
    "\n",
    "    for l in lmbdas: \n",
    "        data_dict[l] = []\n",
    "    for l in lmbdas:\n",
    "        for file_path in file_list:\n",
    "            if (f'lmbda={l}' in file_path):\n",
    "                with open(file_path, 'r') as f:\n",
    "                    for line in f:\n",
    "                        data_dict[l].append(json.loads(line))\n",
    "\n",
    "\n",
    "    def get_rate_mse(e, data):\n",
    "        for entry in data:\n",
    "            if entry['epoch'] == e:\n",
    "                return entry['val_rate'], entry['val_mse'], entry['rate'], entry['mse']\n",
    "        return None, None, None, None  # 해당 epoch이 없을 경우\n",
    "\n",
    "    # sub_lmbdas = [1e-12, 1e-11, 1e-10, 1e-09, 1e-08, 1e-07, 1e-06, 1e-05, 0.0001, 0.001, 0.01]\n",
    "        \n",
    "    data = [get_rate_mse(e, data_dict[l]) for l in lmbdas]\n",
    "    # sorted_data = sorted(data, key=lambda x: x[1])\n",
    "    return data, lmbdas, data_dict"
   ]
  },
  {
   "cell_type": "code",
   "execution_count": 53,
   "metadata": {},
   "outputs": [],
   "source": [
    "def get_RD_plot_data(directory, e, label):\n",
    "    data, lmbdas, data_dict = get_data(directory, e)\n",
    "    \n",
    "    val_rate = [entry[0] for entry in data]\n",
    "    val_mse = [entry[1] for entry in data]\n",
    "    val_rate = divide_non_none_elements(val_rate, 1)\n",
    "    val_mse = divide_non_none_elements(val_mse, 1)\n",
    "    rate = [entry[2] for entry in data]\n",
    "    mse = [entry[3] for entry in data]\n",
    "    rate = divide_non_none_elements(rate, 1)\n",
    "    mse = divide_non_none_elements(mse, 1)\n",
    "    \n",
    "    return val_mse, val_rate, mse, rate, label\n"
   ]
  },
  {
   "cell_type": "code",
   "execution_count": 54,
   "metadata": {},
   "outputs": [],
   "source": [
    "directories = [\n",
    "    # (f'/home/jgryu/Weight_compression/RD-sandwich/checkpoints_v2/llama3_mlp/llama3-8B_d256_b1024_e150_lr1e-4_normalize', 'U.B. MLP'),\n",
    "    (f'/home/jgryu/Weight_compression/RD-sandwich/checkpoints_v2/llama3_attn/attn_llama3-8B_d256_b1024_e150_lr5e-6_normalize', 'U.B. Attn'),\n",
    "]\n",
    "\n",
    "# title =  'Llama3-8B, MLP'\n",
    "# pairs = [(16, '5e-5'),\n",
    "#          (64, '5e-6'),\n",
    "#          (128, '1e-4'), \n",
    "#          (256, '1e-4'), \n",
    "\n",
    "for directory, label, in directories:\n",
    "    val_mse, val_rate, mse, rate, label = get_RD_plot_data(directory=directory, e=149, label=label)\n",
    "    plot_data[label] = {'val_mse': val_mse, 'val_rate':val_rate, 'mse': mse, 'rate': rate}\n"
   ]
  },
  {
   "cell_type": "markdown",
   "metadata": {},
   "source": [
    "# Gaussian"
   ]
  },
  {
   "cell_type": "code",
   "execution_count": 55,
   "metadata": {},
   "outputs": [],
   "source": [
    "def get_data(directory, e, unit, latent_dim):\n",
    "    file_list = glob.glob(f'{directory}/**/*.jsonl', recursive=True)\n",
    "\n",
    "    dirlist  = os.listdir(directory)\n",
    "    # lmbdas = set([0])\n",
    "    lmbdas = set([])\n",
    "    for d in dirlist:\n",
    "        if not 'lmbda=' in d:\n",
    "            continue\n",
    "        start = d.find('lmbda=') + len('lmbda=')\n",
    "        end = d.find('-encoder', start)\n",
    "        end = d.find('-dec', start)\n",
    "        lmbda_value = float(d[start:end])\n",
    "        # print(lmbda_value)\n",
    "        lmbdas.add(lmbda_value)\n",
    "\n",
    "    # print(lmbdas)\n",
    "    lmbdas = sorted(lmbdas)\n",
    "    # lmbdas = lmbdas[1:19]\n",
    "    print(lmbdas)\n",
    "    data_dict = {}\n",
    "\n",
    "    if 0 in lmbdas:\n",
    "        for file_path in file_list:\n",
    "            if (not f'lmbda' in file_path) and f'units={unit}' in file_path:\n",
    "                with open(file_path, 'r') as f:\n",
    "                    for line in f:\n",
    "                        data_dict[0].append(json.loads(line))\n",
    "\n",
    "    for l in lmbdas: \n",
    "        data_dict[l] = []\n",
    "    for l in lmbdas:\n",
    "        for file_path in file_list:\n",
    "            if f'lmbda={l}' in file_path and f'units={unit}' in file_path and f'latent_dim={latent_dim}' in file_path:\n",
    "                with open(file_path, 'r') as f:\n",
    "                    for line in f:\n",
    "                        try:\n",
    "                            data_dict[l].append(json.loads(line))\n",
    "                        except json.JSONDecodeError as err:\n",
    "                            print(f\"JSONDecodeError: {err} in line: {line}\")\n",
    "\n",
    "    def get_rate_mse(e, data):\n",
    "        for entry in data:\n",
    "            if entry['epoch'] == e:\n",
    "                return entry['val_rate'], entry['val_mse'], entry['rate'], entry['mse']\n",
    "        return None, None, None, None  # 해당 epoch이 없을 경우\n",
    "\n",
    "    # sub_lmbdas = [1e-12, 1e-11, 1e-10, 1e-09, 1e-08, 1e-07, 1e-06, 1e-05, 0.0001, 0.001, 0.01]\n",
    "        \n",
    "    data = [get_rate_mse(e, data_dict[l]) for l in lmbdas]\n",
    "    # sorted_data = sorted(data, key=lambda x: x[1])\n",
    "    return data, lmbdas, data_dict"
   ]
  },
  {
   "cell_type": "code",
   "execution_count": 56,
   "metadata": {},
   "outputs": [
    {
     "name": "stdout",
     "output_type": "stream",
     "text": [
      "[0.3, 1.0, 3.0, 10.0, 30.0, 100.0, 300.0]\n"
     ]
    }
   ],
   "source": [
    "dim = 1024\n",
    "e = 79\n",
    "unit = '1000'\n",
    "directory = '/home/jgryu/Weight_compression/RD-sandwich/checkpoints_v2/gaussian/gaussian_default'\n",
    "\n",
    "# 요소를 나누기 위한 함수\n",
    "def divide_non_none_elements(input_list, n):\n",
    "    return [x / n for x in input_list if x is not None]\n",
    "\n",
    "# for l_dim in ['400', '500', '600', '800', '1000']:\n",
    "for l_dim in ['1000']:\n",
    "    data, lmbdas, data_dict = get_data(directory, e, unit, l_dim)\n",
    "\n",
    "    # 데이터 전처리\n",
    "    val_rate = [entry[0] for entry in data]\n",
    "    val_mse = [entry[1] for entry in data]\n",
    "    rate = [entry[2] for entry in data]\n",
    "    mse = [entry[3] for entry in data]\n",
    "\n",
    "    val_rate = divide_non_none_elements(val_rate, 1)\n",
    "    val_mse = divide_non_none_elements(val_mse, 1)\n",
    "    rate = divide_non_none_elements(rate, 1)\n",
    "    mse = divide_non_none_elements(mse, 1)\n",
    "\n",
    "\n",
    "plot_data['gaussian'] = {'val_mse': val_mse, 'val_rate':val_rate, 'mse': mse, 'rate': rate}"
   ]
  },
  {
   "cell_type": "markdown",
   "metadata": {},
   "source": [
    "# JPEG"
   ]
  },
  {
   "cell_type": "code",
   "execution_count": 57,
   "metadata": {},
   "outputs": [],
   "source": [
    "# json_path = '/home/jgryu/Weight_compression/JPEG/results/meta-llama-3-8b_mlp_val_json/256_256/results.json'\n",
    "json_path = '/home/jgryu/Weight_compression/JPEG/results/meta-llama-3-8b_attn_val_json/512_512/results.json'\n",
    "with open(json_path, 'r') as json_file:\n",
    "    jpeg_data = json.load(json_file)\n",
    "    \n",
    "mse_list = []\n",
    "mse_npy_list = []\n",
    "bpp_list = []\n",
    "for c, values in jpeg_data.items():\n",
    "    mse_list.append(values['mses'][0])\n",
    "    mse_npy_list.append(values['mse_from_npy'][0])\n",
    "    bpp_list.append(values['bpps'][0])\n",
    "    \n",
    "plot_data['JPEG'] = {'val_mse': mse_npy_list, 'val_rate':bpp_list, 'mse': mse_npy_list, 'rate': bpp_list}"
   ]
  },
  {
   "cell_type": "markdown",
   "metadata": {},
   "source": [
    "# LIC TCM"
   ]
  },
  {
   "cell_type": "code",
   "execution_count": 58,
   "metadata": {},
   "outputs": [
    {
     "data": {
      "text/plain": [
       "<Figure size 800x500 with 0 Axes>"
      ]
     },
     "metadata": {},
     "output_type": "display_data"
    }
   ],
   "source": [
    "# result_dir = '/home/jgryu/Weight_compression/nic_weight_comp/test_wp_with_image_pt_model_1/meta-llama-3-8b_mlp_val_json'\n",
    "result_dir = '/home/jgryu/Weight_compression/nic_weight_comp/test_wp_with_image_pt_model_1/meta-llama-3-8b_attn_val_json'\n",
    "\n",
    "plt.figure(figsize=(8, 5))\n",
    "# for dim in [32, 64, 256, 512, 1024]:\n",
    "for dim in [256]:\n",
    "    json_file_path = os.path.join(result_dir, f'{dim}_{dim}_normalize', 'rd_data.json')\n",
    "    with open(json_file_path, 'r') as file:\n",
    "        data = json.load(file)\n",
    "    plot_data[f'LIC-TCM (Pretrained)'] = {'val_mse': data['mse'], 'val_rate':data['bpp'], 'mse': data['mse'], 'rate': data['bpp']}"
   ]
  },
  {
   "cell_type": "markdown",
   "metadata": {},
   "source": [
    "# Plot"
   ]
  },
  {
   "cell_type": "code",
   "execution_count": 60,
   "metadata": {},
   "outputs": [
    {
     "data": {
      "image/png": "[encoded data removed]",
      "text/plain": [
       "<Figure size 650x500 with 1 Axes>"
      ]
     },
     "metadata": {},
     "output_type": "display_data"
    }
   ],
   "source": [
    "plt.figure(figsize=(6.5, 5))\n",
    "\n",
    "# plt.subplot(1, 2, 1)\n",
    "for l, v in plot_data.items():\n",
    "    if l == 'gaussian': \n",
    "        # plt.plot(v['val_mse'], v['val_rate'], marker='o', markersize = 5, linestyle='--', label=l, c= 'r')\n",
    "        continue\n",
    "    else:\n",
    "        plt.plot(v['val_mse'], v['val_rate'], marker='o', markersize = 3, linestyle='-', label=l)\n",
    "    # plt.plot(v['val_mse'], v['val_rate'], linestyle='-', label=l)\n",
    "\n",
    "# Training subplot\n",
    "# # plt.subplot(1, 2, 2)\n",
    "# for l, v in plot_data.items():\n",
    "#     if l == 'gaussian': continue\n",
    "#     plt.plot(v['mse'], v['rate'], marker='o', markersize = 3, linestyle='-', label=l)\n",
    "    # plt.plot(v['mse'], v['rate'], linestyle='-', label=l)\n",
    "\n",
    "# Validation subplot 설정\n",
    "# plt.subplot(1, 2, 1)\n",
    "quant_bits = [1, 2, 3, 4, 5, 6, 7, 8]\n",
    "mlp_quant_mse = [1.0000164869236037, 0.9993737145706393, 0.9887189679460173, 0.7952778297410023, 0.37116162976546385, 0.10550744880290548, 0.02616760658136518, 0.006492661767538381]\n",
    "attn_quant_mse = [1.6436466818640247, 1.6236762742152016, 1.2921279783070763, 0.6426828348204263, 0.22821856959557643, 0.0611583548993061, 0.01520839248038775, 0.003791649803076995]\n",
    "plt.plot(attn_quant_mse[:7], quant_bits[:7], marker='o', markersize = 3, linestyle='-', label=f'Linear Quantization', alpha = 1)\n",
    "\n",
    "# plt.scatter(x, y, color = 'red', s = 30, label=f'Linear Quantization')\n",
    "plt.title('Llama3-8B, Attn')\n",
    "plt.xlabel('MSE')\n",
    "plt.ylabel('Rate (bits per element)')\n",
    "plt.legend()\n",
    "plt.grid(True)\n",
    "\n",
    "# # Training subplot 설정\n",
    "# plt.subplot(1, 2, 2)\n",
    "# plt.title('Llama3-8B, MLP')\n",
    "# plt.xlabel('MSE')\n",
    "# plt.ylabel('Rate (bits per element)')\n",
    "# plt.legend()\n",
    "# plt.grid(True)\n",
    "\n",
    "# 서브플롯 전체 보여주기\n",
    "plt.tight_layout()\n",
    "plt.show()"
   ]
  },
  {
   "cell_type": "code",
   "execution_count": null,
   "metadata": {},
   "outputs": [],
   "source": []
  }
 ],
 "metadata": {
  "kernelspec": {
   "display_name": "RD",
   "language": "python",
   "name": "python3"
  },
  "language_info": {
   "codemirror_mode": {
    "name": "ipython",
    "version": 3
   },
   "file_extension": ".py",
   "mimetype": "text/x-python",
   "name": "python",
   "nbconvert_exporter": "python",
   "pygments_lexer": "ipython3",
   "version": "3.8.20"
  }
 },
 "nbformat": 4,
 "nbformat_minor": 2
}
