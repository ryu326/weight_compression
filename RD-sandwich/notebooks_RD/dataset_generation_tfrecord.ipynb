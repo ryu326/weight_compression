{
 "cells": [
  {
   "cell_type": "code",
   "execution_count": 8,
   "id": "93a367b1",
   "metadata": {},
   "outputs": [],
   "source": [
    "import numpy as np\n",
    "import os\n",
    "dtype = np.float32\n",
    "import torch\n",
    "import torchvision\n",
    "# import tqdm\n",
    "import os\n",
    "\n",
    "from transformers import CLIPVisionModelWithProjection, ViTForImageClassification, AutoModelForCausalLM\n",
    "from transformers import AutoModel, AutoTokenizer\n",
    "import numpy\n",
    "\n",
    "from huggingface_hub import try_to_load_from_cache, _CACHED_NO_EXIST\n",
    "from huggingface_hub import scan_cache_dir"
   ]
  },
  {
   "cell_type": "markdown",
   "id": "e9f47345",
   "metadata": {},
   "source": [
    "### 2. 모델의 tensor를 모아서 자르고 TFRecord로 저장\n",
    "tensor 별로 train, val split"
   ]
  },
  {
   "cell_type": "code",
   "execution_count": 9,
   "id": "d329dd55",
   "metadata": {},
   "outputs": [],
   "source": [
    "\n",
    "# filters = ['mlp', 'attn']\n",
    "filters = ['layers-0', 'q_proj']\n",
    "model_names = ['meta-llama/Meta-Llama-3-8B']\n",
    "tensor_zoo_path = '/home/jgryu/Weight_compression/Wparam_dataset/model_param_tensor/'\n",
    "save_path = '/home/jgryu/Weight_compression/Wparam_dataset/TFRecord/'\n",
    "\n",
    "# # model_name = model_names[0]\n",
    "# model_name = model_names[0]"
   ]
  },
  {
   "cell_type": "code",
   "execution_count": 10,
   "id": "98262883",
   "metadata": {},
   "outputs": [
    {
     "name": "stdout",
     "output_type": "stream",
     "text": [
      "meta-llama/Meta-Llama-3-8B\n",
      "dim = 4096\n"
     ]
    },
    {
     "name": "stderr",
     "output_type": "stream",
     "text": [
      "100%|██████████| 291/291 [00:00<00:00, 10659.67it/s]\n"
     ]
    },
    {
     "name": "stdout",
     "output_type": "stream",
     "text": [
      "model-layers-0-self_attn-q_proj-weight.npy\n",
      "(3276, 4096) (820, 4096)\n",
      "## Saving train dataset ##\n"
     ]
    },
    {
     "name": "stderr",
     "output_type": "stream",
     "text": [
      "100%|██████████| 3276/3276 [00:02<00:00, 1609.98it/s]\n"
     ]
    },
    {
     "name": "stdout",
     "output_type": "stream",
     "text": [
      "## Saving val dataset ##\n"
     ]
    },
    {
     "name": "stderr",
     "output_type": "stream",
     "text": [
      "100%|██████████| 820/820 [00:00<00:00, 1613.18it/s]\n"
     ]
    },
    {
     "name": "stdout",
     "output_type": "stream",
     "text": [
      "dim = 1024\n"
     ]
    },
    {
     "name": "stderr",
     "output_type": "stream",
     "text": [
      "100%|██████████| 291/291 [00:00<00:00, 9370.77it/s]\n"
     ]
    },
    {
     "name": "stdout",
     "output_type": "stream",
     "text": [
      "model-layers-0-self_attn-q_proj-weight.npy\n",
      "(13107, 1024) (3277, 1024)\n",
      "## Saving train dataset ##\n"
     ]
    },
    {
     "name": "stderr",
     "output_type": "stream",
     "text": [
      "100%|██████████| 13107/13107 [00:02<00:00, 5550.61it/s]\n"
     ]
    },
    {
     "name": "stdout",
     "output_type": "stream",
     "text": [
      "## Saving val dataset ##\n"
     ]
    },
    {
     "name": "stderr",
     "output_type": "stream",
     "text": [
      "100%|██████████| 3277/3277 [00:00<00:00, 5510.88it/s]\n"
     ]
    },
    {
     "name": "stdout",
     "output_type": "stream",
     "text": [
      "dim = 256\n"
     ]
    },
    {
     "name": "stderr",
     "output_type": "stream",
     "text": [
      "100%|██████████| 291/291 [00:00<00:00, 7603.54it/s]\n"
     ]
    },
    {
     "name": "stdout",
     "output_type": "stream",
     "text": [
      "model-layers-0-self_attn-q_proj-weight.npy\n",
      "(52428, 256) (13108, 256)\n",
      "## Saving train dataset ##\n"
     ]
    },
    {
     "name": "stderr",
     "output_type": "stream",
     "text": [
      "100%|██████████| 52428/52428 [00:03<00:00, 16902.05it/s]\n"
     ]
    },
    {
     "name": "stdout",
     "output_type": "stream",
     "text": [
      "## Saving val dataset ##\n"
     ]
    },
    {
     "name": "stderr",
     "output_type": "stream",
     "text": [
      "100%|██████████| 13108/13108 [00:00<00:00, 14785.91it/s]\n"
     ]
    },
    {
     "name": "stdout",
     "output_type": "stream",
     "text": [
      "dim = 128\n"
     ]
    },
    {
     "name": "stderr",
     "output_type": "stream",
     "text": [
      "100%|██████████| 291/291 [00:00<00:00, 7140.72it/s]\n"
     ]
    },
    {
     "name": "stdout",
     "output_type": "stream",
     "text": [
      "model-layers-0-self_attn-q_proj-weight.npy\n",
      "(104857, 128) (26215, 128)\n",
      "## Saving train dataset ##\n"
     ]
    },
    {
     "name": "stderr",
     "output_type": "stream",
     "text": [
      "100%|██████████| 104857/104857 [00:03<00:00, 29833.57it/s]\n"
     ]
    },
    {
     "name": "stdout",
     "output_type": "stream",
     "text": [
      "## Saving val dataset ##\n"
     ]
    },
    {
     "name": "stderr",
     "output_type": "stream",
     "text": [
      "100%|██████████| 26215/26215 [00:00<00:00, 30829.89it/s]\n"
     ]
    },
    {
     "name": "stdout",
     "output_type": "stream",
     "text": [
      "dim = 64\n"
     ]
    },
    {
     "name": "stderr",
     "output_type": "stream",
     "text": [
      "100%|██████████| 291/291 [00:00<00:00, 5702.00it/s]\n"
     ]
    },
    {
     "name": "stdout",
     "output_type": "stream",
     "text": [
      "model-layers-0-self_attn-q_proj-weight.npy\n",
      "(209715, 64) (52429, 64)\n",
      "## Saving train dataset ##\n"
     ]
    },
    {
     "name": "stderr",
     "output_type": "stream",
     "text": [
      "100%|██████████| 209715/209715 [00:04<00:00, 45051.99it/s]\n"
     ]
    },
    {
     "name": "stdout",
     "output_type": "stream",
     "text": [
      "## Saving val dataset ##\n"
     ]
    },
    {
     "name": "stderr",
     "output_type": "stream",
     "text": [
      "100%|██████████| 52429/52429 [00:01<00:00, 44937.13it/s]\n"
     ]
    },
    {
     "name": "stdout",
     "output_type": "stream",
     "text": [
      "dim = 32\n"
     ]
    },
    {
     "name": "stderr",
     "output_type": "stream",
     "text": [
      "100%|██████████| 291/291 [00:00<00:00, 4067.06it/s]\n"
     ]
    },
    {
     "name": "stdout",
     "output_type": "stream",
     "text": [
      "model-layers-0-self_attn-q_proj-weight.npy\n",
      "(419430, 32) (104858, 32)\n",
      "## Saving train dataset ##\n"
     ]
    },
    {
     "name": "stderr",
     "output_type": "stream",
     "text": [
      "100%|██████████| 419430/419430 [00:07<00:00, 56344.26it/s]\n"
     ]
    },
    {
     "name": "stdout",
     "output_type": "stream",
     "text": [
      "## Saving val dataset ##\n"
     ]
    },
    {
     "name": "stderr",
     "output_type": "stream",
     "text": [
      "100%|██████████| 104858/104858 [00:01<00:00, 57337.06it/s]\n"
     ]
    },
    {
     "name": "stdout",
     "output_type": "stream",
     "text": [
      "dim = 16\n"
     ]
    },
    {
     "name": "stderr",
     "output_type": "stream",
     "text": [
      "100%|██████████| 291/291 [00:00<00:00, 2525.09it/s]\n"
     ]
    },
    {
     "name": "stdout",
     "output_type": "stream",
     "text": [
      "model-layers-0-self_attn-q_proj-weight.npy\n",
      "(838860, 16) (209716, 16)\n",
      "## Saving train dataset ##\n"
     ]
    },
    {
     "name": "stderr",
     "output_type": "stream",
     "text": [
      "100%|██████████| 838860/838860 [00:12<00:00, 65535.98it/s]\n"
     ]
    },
    {
     "name": "stdout",
     "output_type": "stream",
     "text": [
      "## Saving val dataset ##\n"
     ]
    },
    {
     "name": "stderr",
     "output_type": "stream",
     "text": [
      "100%|██████████| 209716/209716 [00:03<00:00, 65120.19it/s]\n"
     ]
    }
   ],
   "source": [
    "import glob\n",
    "import random\n",
    "import json\n",
    "import tensorflow as tf\n",
    "from tqdm import tqdm\n",
    "\n",
    "def check_contains_all_substrings(string, substrings):\n",
    "    return all(substring in string for substring in substrings)\n",
    "\n",
    "def check_contains_any_substrings(string, substrings):\n",
    "    return any(substring in string for substring in substrings)\n",
    "\n",
    "def serialize_example(slice):\n",
    "    feature_dict = {\n",
    "        'slice': tf.train.Feature(float_list=tf.train.FloatList(value=slice))\n",
    "    }\n",
    "    example_proto = tf.train.Example(features=tf.train.Features(feature=feature_dict))\n",
    "    return example_proto.SerializeToString()\n",
    "\n",
    "chunk_direction = 'out' ## 같은 Out channel 요소들이 같이 묶이게 차름\n",
    "# chunk_direction = 'in'\n",
    "\n",
    "for model_name in model_names:\n",
    "    print(model_name)\n",
    "    for d in [4096, 1024, 256, 128, 64, 32, 16]:\n",
    "        print(f'dim = {d}')\n",
    "        target_model_tensor_path = tensor_zoo_path + model_name\n",
    "        tensor_path_list = glob.glob(f'{target_model_tensor_path}/**/*.npy', recursive=True)\n",
    "\n",
    "        random.seed(100)\n",
    "\n",
    "        # all_tensors = []\n",
    "        tensors_train = []\n",
    "        tensors_val = []\n",
    "\n",
    "        for tensor_path in tqdm(tensor_path_list):\n",
    "            if not check_contains_all_substrings(tensor_path, filters):\n",
    "                continue\n",
    "            print(tensor_path.split('/')[-1])\n",
    "            t = np.load(tensor_path)\n",
    "            # print(t.shape)\n",
    "            if chunk_direction == 'in':\n",
    "                t = t.T\n",
    "            t = t.astype(np.float32)\n",
    "            t = t.reshape(-1, d)\n",
    "            # print(t.shape)\n",
    "            # all_tensors.append(t)\n",
    "            \n",
    "            indices = np.random.permutation(len(t))\n",
    "            split_index = int(len(t) * 0.8)\n",
    "            train_indices = indices[:split_index]\n",
    "            val_indices = indices[split_index:]\n",
    "\n",
    "            tensors_train.append(t[train_indices])\n",
    "            tensors_val.append(t[val_indices])\n",
    "            \n",
    "        dataset = {}\n",
    "        dataset['train'] = np.vstack(tensors_train)\n",
    "        dataset['val'] = np.vstack(tensors_val)\n",
    "\n",
    "        print(dataset['train'].shape, dataset['val'].shape)\n",
    "\n",
    "        save_model_path = os.path.join(save_path, model_name.replace('/', '--'), '_'.join(filters), f'd{d}')\n",
    "        os.makedirs(save_model_path, exist_ok = True)\n",
    "\n",
    "        mean_vector = dataset['train'].mean(axis=0)\n",
    "        mean_value = dataset['train'].mean()\n",
    "        std_vector = dataset['train'].std(axis=0)\n",
    "        std_value = dataset['train'].std()\n",
    "        # print(mean_value, std_value)\n",
    "        \n",
    "        filename = os.path.join(save_model_path, '_'.join(filters) + f'_d{d}_train_{chunk_direction}.tfrecord')\n",
    "        np.save(filename.replace('.tfrecord', '_mean_vector.npy'), mean_vector)\n",
    "        np.save(filename.replace('.tfrecord', '_std_vector.npy'), std_vector)\n",
    "        np.save(filename.replace('.tfrecord', '_mean.npy'), mean_value)\n",
    "        np.save(filename.replace('.tfrecord', '_std.npy'), std_value)\n",
    "\n",
    "        for split in ['train', 'val']:\n",
    "            print(f'## Saving {split} dataset ##')\n",
    "            filename = os.path.join(save_model_path, '_'.join(filters) + f'_d{d}_{split}_{chunk_direction}.tfrecord')\n",
    "            with tf.io.TFRecordWriter(filename) as writer:\n",
    "                for slice in tqdm(dataset[split]):\n",
    "                    example = serialize_example(slice)\n",
    "                    writer.write(example)\n",
    "                    "
   ]
  },
  {
   "cell_type": "code",
   "execution_count": null,
   "id": "4fe06142",
   "metadata": {},
   "outputs": [
    {
     "data": {
      "text/plain": [
       "array(-2.1057717e-06, dtype=float32)"
      ]
     },
     "execution_count": 15,
     "metadata": {},
     "output_type": "execute_result"
    }
   ],
   "source": [
    "n = np.load('/home/jgryu/Weight_compression/Wparam_dataset/TFRecord/meta-llama/Meta-Llama-3-8B/mlp_layers-0_down_d4096_train_mean.npy')"
   ]
  },
  {
   "cell_type": "code",
   "execution_count": null,
   "id": "3b49f950",
   "metadata": {},
   "outputs": [],
   "source": [
    "## 불려오기\n",
    "def parse_example(example_proto):\n",
    "    feature_description = {\n",
    "        'slice': tf.io.FixedLenFeature([d], tf.float32),  # feature 크기만큼 설정\n",
    "    }\n",
    "    return tf.io.parse_single_example(example_proto, feature_description)\n",
    "\n",
    "dataset = tf.data.TFRecordDataset(filename)\n",
    "dataset = dataset.map(parse_example)\n",
    "\n",
    "for record in dataset:\n",
    "    print(record['slice'])  # feature만 출력\n"
   ]
  },
  {
   "cell_type": "markdown",
   "id": "cf12ec18",
   "metadata": {},
   "source": [
    "# 텐서별로 tfrecord 만들기"
   ]
  },
  {
   "cell_type": "code",
   "execution_count": 3,
   "id": "6bf004e3",
   "metadata": {},
   "outputs": [],
   "source": [
    "model_names = ['meta-llama/Meta-Llama-3-8B']\n",
    "tensor_zoo_path = '/home/jgryu/Weight_compression/Wparam_dataset/model_param_tensor/'\n",
    "save_path = '/home/jgryu/Weight_compression/Wparam_dataset/TFRecord/'\n",
    "\n",
    "# # model_name = model_names[0]\n",
    "# model_name = model_names[0]"
   ]
  },
  {
   "cell_type": "code",
   "execution_count": 4,
   "id": "5c998e0a",
   "metadata": {},
   "outputs": [
    {
     "name": "stdout",
     "output_type": "stream",
     "text": [
      "meta-llama/Meta-Llama-3-8B\n",
      "dim = 16\n"
     ]
    },
    {
     "name": "stderr",
     "output_type": "stream",
     "text": [
      "  0%|          | 0/291 [00:00<?, ?it/s]"
     ]
    },
    {
     "name": "stdout",
     "output_type": "stream",
     "text": [
      "model-layers-28-self_attn-k_proj-weight.npy\n",
      "(209715, 16) (52429, 16)\n",
      "## Saving train dataset ##\n"
     ]
    },
    {
     "name": "stderr",
     "output_type": "stream",
     "text": [
      "100%|██████████| 209715/209715 [00:02<00:00, 71409.53it/s]\n"
     ]
    },
    {
     "name": "stdout",
     "output_type": "stream",
     "text": [
      "## Saving val dataset ##\n"
     ]
    },
    {
     "name": "stderr",
     "output_type": "stream",
     "text": [
      "100%|██████████| 52429/52429 [00:00<00:00, 70772.97it/s]\n",
      "  0%|          | 1/291 [00:03<18:03,  3.74s/it]"
     ]
    },
    {
     "name": "stdout",
     "output_type": "stream",
     "text": [
      "model-layers-12-mlp-down_proj-weight.npy\n",
      "(2936012, 16) (734004, 16)\n",
      "## Saving train dataset ##\n"
     ]
    },
    {
     "name": "stderr",
     "output_type": "stream",
     "text": [
      "100%|██████████| 2936012/2936012 [00:40<00:00, 73312.62it/s]\n"
     ]
    },
    {
     "name": "stdout",
     "output_type": "stream",
     "text": [
      "## Saving val dataset ##\n"
     ]
    },
    {
     "name": "stderr",
     "output_type": "stream",
     "text": [
      "100%|██████████| 734004/734004 [00:10<00:00, 71852.06it/s]\n",
      "  1%|          | 2/291 [00:54<2:31:56, 31.55s/it]"
     ]
    },
    {
     "name": "stdout",
     "output_type": "stream",
     "text": [
      "model-layers-9-mlp-gate_proj-weight.npy\n",
      "(2936012, 16) (734004, 16)\n",
      "## Saving train dataset ##\n"
     ]
    },
    {
     "name": "stderr",
     "output_type": "stream",
     "text": [
      "100%|██████████| 2936012/2936012 [00:40<00:00, 72209.68it/s]\n"
     ]
    },
    {
     "name": "stdout",
     "output_type": "stream",
     "text": [
      "## Saving val dataset ##\n"
     ]
    },
    {
     "name": "stderr",
     "output_type": "stream",
     "text": [
      "100%|██████████| 734004/734004 [00:10<00:00, 71985.37it/s]\n",
      "  2%|▏         | 5/291 [01:46<1:41:23, 21.27s/it]"
     ]
    },
    {
     "name": "stdout",
     "output_type": "stream",
     "text": [
      "model-layers-2-mlp-gate_proj-weight.npy\n",
      "(2936012, 16) (734004, 16)\n",
      "## Saving train dataset ##\n"
     ]
    },
    {
     "name": "stderr",
     "output_type": "stream",
     "text": [
      "100%|██████████| 2936012/2936012 [00:40<00:00, 72110.78it/s]\n"
     ]
    },
    {
     "name": "stdout",
     "output_type": "stream",
     "text": [
      "## Saving val dataset ##\n"
     ]
    },
    {
     "name": "stderr",
     "output_type": "stream",
     "text": [
      "100%|██████████| 734004/734004 [00:10<00:00, 72372.84it/s]\n",
      "  2%|▏         | 6/291 [02:37<2:17:39, 28.98s/it]"
     ]
    },
    {
     "name": "stdout",
     "output_type": "stream",
     "text": [
      "model-layers-25-self_attn-v_proj-weight.npy\n",
      "(209715, 16) (52429, 16)\n",
      "## Saving train dataset ##\n"
     ]
    },
    {
     "name": "stderr",
     "output_type": "stream",
     "text": [
      "100%|██████████| 209715/209715 [00:02<00:00, 72063.34it/s]\n"
     ]
    },
    {
     "name": "stdout",
     "output_type": "stream",
     "text": [
      "## Saving val dataset ##\n"
     ]
    },
    {
     "name": "stderr",
     "output_type": "stream",
     "text": [
      "100%|██████████| 52429/52429 [00:00<00:00, 71700.58it/s]\n",
      "  2%|▏         | 7/291 [02:41<1:45:17, 22.24s/it]"
     ]
    },
    {
     "name": "stdout",
     "output_type": "stream",
     "text": [
      "model-layers-13-mlp-down_proj-weight.npy\n",
      "(2936012, 16) (734004, 16)\n",
      "## Saving train dataset ##\n"
     ]
    },
    {
     "name": "stderr",
     "output_type": "stream",
     "text": [
      "100%|██████████| 2936012/2936012 [00:39<00:00, 73895.89it/s]\n"
     ]
    },
    {
     "name": "stdout",
     "output_type": "stream",
     "text": [
      "## Saving val dataset ##\n"
     ]
    },
    {
     "name": "stderr",
     "output_type": "stream",
     "text": [
      "100%|██████████| 734004/734004 [00:09<00:00, 74164.55it/s]\n",
      "  3%|▎         | 8/291 [03:31<2:21:27, 29.99s/it]"
     ]
    },
    {
     "name": "stdout",
     "output_type": "stream",
     "text": [
      "model-layers-31-mlp-down_proj-weight.npy\n",
      "(2936012, 16) (734004, 16)\n",
      "## Saving train dataset ##\n"
     ]
    },
    {
     "name": "stderr",
     "output_type": "stream",
     "text": [
      "100%|██████████| 2936012/2936012 [00:41<00:00, 71433.18it/s]\n"
     ]
    },
    {
     "name": "stdout",
     "output_type": "stream",
     "text": [
      "## Saving val dataset ##\n"
     ]
    },
    {
     "name": "stderr",
     "output_type": "stream",
     "text": [
      "100%|██████████| 734004/734004 [00:10<00:00, 70093.56it/s]\n",
      "  3%|▎         | 10/291 [04:24<2:12:31, 28.30s/it]"
     ]
    },
    {
     "name": "stdout",
     "output_type": "stream",
     "text": [
      "model-layers-1-self_attn-o_proj-weight.npy\n",
      "(838860, 16) (209716, 16)\n",
      "## Saving train dataset ##\n"
     ]
    },
    {
     "name": "stderr",
     "output_type": "stream",
     "text": [
      "100%|██████████| 838860/838860 [00:11<00:00, 71351.50it/s]\n"
     ]
    },
    {
     "name": "stdout",
     "output_type": "stream",
     "text": [
      "## Saving val dataset ##\n"
     ]
    },
    {
     "name": "stderr",
     "output_type": "stream",
     "text": [
      "100%|██████████| 209716/209716 [00:02<00:00, 73103.33it/s]\n",
      "  4%|▍         | 11/291 [04:39<1:57:01, 25.08s/it]"
     ]
    },
    {
     "name": "stdout",
     "output_type": "stream",
     "text": [
      "model-layers-4-mlp-up_proj-weight.npy\n",
      "(2936012, 16) (734004, 16)\n",
      "## Saving train dataset ##\n"
     ]
    },
    {
     "name": "stderr",
     "output_type": "stream",
     "text": [
      "100%|██████████| 2936012/2936012 [00:39<00:00, 73831.75it/s]\n"
     ]
    },
    {
     "name": "stdout",
     "output_type": "stream",
     "text": [
      "## Saving val dataset ##\n"
     ]
    },
    {
     "name": "stderr",
     "output_type": "stream",
     "text": [
      "100%|██████████| 734004/734004 [00:09<00:00, 74521.62it/s]\n",
      "  4%|▍         | 12/291 [05:29<2:26:31, 31.51s/it]"
     ]
    },
    {
     "name": "stdout",
     "output_type": "stream",
     "text": [
      "model-layers-29-self_attn-k_proj-weight.npy\n",
      "(209715, 16) (52429, 16)\n",
      "## Saving train dataset ##\n"
     ]
    },
    {
     "name": "stderr",
     "output_type": "stream",
     "text": [
      "100%|██████████| 209715/209715 [00:02<00:00, 71191.50it/s]\n"
     ]
    },
    {
     "name": "stdout",
     "output_type": "stream",
     "text": [
      "## Saving val dataset ##\n"
     ]
    },
    {
     "name": "stderr",
     "output_type": "stream",
     "text": [
      "100%|██████████| 52429/52429 [00:00<00:00, 69955.79it/s]\n",
      "  5%|▍         | 14/291 [05:33<1:27:49, 19.02s/it]"
     ]
    },
    {
     "name": "stdout",
     "output_type": "stream",
     "text": [
      "model-layers-20-mlp-up_proj-weight.npy\n",
      "(2936012, 16) (734004, 16)\n",
      "## Saving train dataset ##\n"
     ]
    },
    {
     "name": "stderr",
     "output_type": "stream",
     "text": [
      "100%|██████████| 2936012/2936012 [00:41<00:00, 71237.42it/s]\n"
     ]
    },
    {
     "name": "stdout",
     "output_type": "stream",
     "text": [
      "## Saving val dataset ##\n"
     ]
    },
    {
     "name": "stderr",
     "output_type": "stream",
     "text": [
      "100%|██████████| 734004/734004 [00:10<00:00, 71368.27it/s]\n",
      "  5%|▌         | 15/291 [06:25<2:02:52, 26.71s/it]"
     ]
    },
    {
     "name": "stdout",
     "output_type": "stream",
     "text": [
      "model-layers-24-mlp-down_proj-weight.npy\n",
      "(2936012, 16) (734004, 16)\n",
      "## Saving train dataset ##\n"
     ]
    },
    {
     "name": "stderr",
     "output_type": "stream",
     "text": [
      "100%|██████████| 2936012/2936012 [00:41<00:00, 70850.15it/s]\n"
     ]
    },
    {
     "name": "stdout",
     "output_type": "stream",
     "text": [
      "## Saving val dataset ##\n"
     ]
    },
    {
     "name": "stderr",
     "output_type": "stream",
     "text": [
      "100%|██████████| 734004/734004 [00:10<00:00, 70891.00it/s]\n",
      "  5%|▌         | 16/291 [07:17<2:31:50, 33.13s/it]"
     ]
    },
    {
     "name": "stdout",
     "output_type": "stream",
     "text": [
      "model-layers-14-self_attn-o_proj-weight.npy\n",
      "(838860, 16) (209716, 16)\n",
      "## Saving train dataset ##\n"
     ]
    },
    {
     "name": "stderr",
     "output_type": "stream",
     "text": [
      "100%|██████████| 838860/838860 [00:11<00:00, 71072.62it/s]\n"
     ]
    },
    {
     "name": "stdout",
     "output_type": "stream",
     "text": [
      "## Saving val dataset ##\n"
     ]
    },
    {
     "name": "stderr",
     "output_type": "stream",
     "text": [
      "100%|██████████| 209716/209716 [00:02<00:00, 70777.41it/s]\n",
      "  6%|▌         | 18/291 [07:32<1:42:19, 22.49s/it]"
     ]
    },
    {
     "name": "stdout",
     "output_type": "stream",
     "text": [
      "model-layers-11-mlp-up_proj-weight.npy\n",
      "(2936012, 16) (734004, 16)\n",
      "## Saving train dataset ##\n"
     ]
    },
    {
     "name": "stderr",
     "output_type": "stream",
     "text": [
      "100%|██████████| 2936012/2936012 [00:40<00:00, 72722.96it/s]\n"
     ]
    },
    {
     "name": "stdout",
     "output_type": "stream",
     "text": [
      "## Saving val dataset ##\n"
     ]
    },
    {
     "name": "stderr",
     "output_type": "stream",
     "text": [
      "100%|██████████| 734004/734004 [00:10<00:00, 71631.45it/s]\n",
      "  7%|▋         | 21/291 [08:24<1:29:49, 19.96s/it]"
     ]
    },
    {
     "name": "stdout",
     "output_type": "stream",
     "text": [
      "model-layers-28-mlp-gate_proj-weight.npy\n",
      "(2936012, 16) (734004, 16)\n",
      "## Saving train dataset ##\n"
     ]
    },
    {
     "name": "stderr",
     "output_type": "stream",
     "text": [
      "100%|██████████| 2936012/2936012 [00:41<00:00, 71436.90it/s]\n"
     ]
    },
    {
     "name": "stdout",
     "output_type": "stream",
     "text": [
      "## Saving val dataset ##\n"
     ]
    },
    {
     "name": "stderr",
     "output_type": "stream",
     "text": [
      "100%|██████████| 734004/734004 [00:10<00:00, 71864.81it/s]\n",
      "  8%|▊         | 22/291 [09:16<1:55:51, 25.84s/it]"
     ]
    },
    {
     "name": "stdout",
     "output_type": "stream",
     "text": [
      "model-layers-17-self_attn-k_proj-weight.npy\n",
      "(209715, 16) (52429, 16)\n",
      "## Saving train dataset ##\n"
     ]
    },
    {
     "name": "stderr",
     "output_type": "stream",
     "text": [
      "100%|██████████| 209715/209715 [00:02<00:00, 71654.84it/s]\n"
     ]
    },
    {
     "name": "stdout",
     "output_type": "stream",
     "text": [
      "## Saving val dataset ##\n"
     ]
    },
    {
     "name": "stderr",
     "output_type": "stream",
     "text": [
      "100%|██████████| 52429/52429 [00:00<00:00, 71661.30it/s]\n",
      "  8%|▊         | 24/291 [09:20<1:18:19, 17.60s/it]"
     ]
    },
    {
     "name": "stdout",
     "output_type": "stream",
     "text": [
      "model-layers-8-mlp-gate_proj-weight.npy\n",
      "(2936012, 16) (734004, 16)\n",
      "## Saving train dataset ##\n"
     ]
    },
    {
     "name": "stderr",
     "output_type": "stream",
     "text": [
      "100%|██████████| 2936012/2936012 [00:40<00:00, 71765.69it/s]\n"
     ]
    },
    {
     "name": "stdout",
     "output_type": "stream",
     "text": [
      "## Saving val dataset ##\n"
     ]
    },
    {
     "name": "stderr",
     "output_type": "stream",
     "text": [
      "100%|██████████| 734004/734004 [00:10<00:00, 72308.03it/s]\n",
      "  9%|▊         | 25/291 [10:11<1:47:53, 24.34s/it]"
     ]
    },
    {
     "name": "stdout",
     "output_type": "stream",
     "text": [
      "model-layers-11-self_attn-q_proj-weight.npy\n",
      "(838860, 16) (209716, 16)\n",
      "## Saving train dataset ##\n"
     ]
    },
    {
     "name": "stderr",
     "output_type": "stream",
     "text": [
      "100%|██████████| 838860/838860 [00:11<00:00, 72404.95it/s]\n"
     ]
    },
    {
     "name": "stdout",
     "output_type": "stream",
     "text": [
      "## Saving val dataset ##\n"
     ]
    },
    {
     "name": "stderr",
     "output_type": "stream",
     "text": [
      "100%|██████████| 209716/209716 [00:02<00:00, 72418.02it/s]\n",
      "  9%|▉         | 26/291 [10:26<1:38:08, 22.22s/it]"
     ]
    },
    {
     "name": "stdout",
     "output_type": "stream",
     "text": [
      "model-layers-0-self_attn-k_proj-weight.npy\n",
      "(209715, 16) (52429, 16)\n",
      "## Saving train dataset ##\n"
     ]
    },
    {
     "name": "stderr",
     "output_type": "stream",
     "text": [
      "100%|██████████| 209715/209715 [00:02<00:00, 71953.35it/s]\n"
     ]
    },
    {
     "name": "stdout",
     "output_type": "stream",
     "text": [
      "## Saving val dataset ##\n"
     ]
    },
    {
     "name": "stderr",
     "output_type": "stream",
     "text": [
      "100%|██████████| 52429/52429 [00:00<00:00, 72100.15it/s]\n",
      "  9%|▉         | 27/291 [10:30<1:18:18, 17.80s/it]"
     ]
    },
    {
     "name": "stdout",
     "output_type": "stream",
     "text": [
      "model-layers-24-mlp-up_proj-weight.npy\n",
      "(2936012, 16) (734004, 16)\n",
      "## Saving train dataset ##\n"
     ]
    },
    {
     "name": "stderr",
     "output_type": "stream",
     "text": [
      "100%|██████████| 2936012/2936012 [00:40<00:00, 72739.30it/s]\n"
     ]
    },
    {
     "name": "stdout",
     "output_type": "stream",
     "text": [
      "## Saving val dataset ##\n"
     ]
    },
    {
     "name": "stderr",
     "output_type": "stream",
     "text": [
      "100%|██████████| 734004/734004 [00:10<00:00, 72112.56it/s]\n",
      " 10%|▉         | 29/291 [11:21<1:31:36, 20.98s/it]"
     ]
    },
    {
     "name": "stdout",
     "output_type": "stream",
     "text": [
      "model-layers-2-self_attn-v_proj-weight.npy\n",
      "(209715, 16) (52429, 16)\n",
      "## Saving train dataset ##\n"
     ]
    },
    {
     "name": "stderr",
     "output_type": "stream",
     "text": [
      "100%|██████████| 209715/209715 [00:02<00:00, 71908.83it/s]\n"
     ]
    },
    {
     "name": "stdout",
     "output_type": "stream",
     "text": [
      "## Saving val dataset ##\n"
     ]
    },
    {
     "name": "stderr",
     "output_type": "stream",
     "text": [
      "100%|██████████| 52429/52429 [00:00<00:00, 73174.22it/s]\n",
      " 11%|█         | 31/291 [11:25<1:00:28, 13.96s/it]"
     ]
    },
    {
     "name": "stdout",
     "output_type": "stream",
     "text": [
      "model-layers-20-self_attn-o_proj-weight.npy\n",
      "(838860, 16) (209716, 16)\n",
      "## Saving train dataset ##\n"
     ]
    },
    {
     "name": "stderr",
     "output_type": "stream",
     "text": [
      "100%|██████████| 838860/838860 [00:11<00:00, 72050.94it/s]\n"
     ]
    },
    {
     "name": "stdout",
     "output_type": "stream",
     "text": [
      "## Saving val dataset ##\n"
     ]
    },
    {
     "name": "stderr",
     "output_type": "stream",
     "text": [
      "100%|██████████| 209716/209716 [00:02<00:00, 72387.77it/s]\n",
      " 11%|█         | 32/291 [11:40<1:00:57, 14.12s/it]"
     ]
    },
    {
     "name": "stdout",
     "output_type": "stream",
     "text": [
      "model-layers-14-self_attn-v_proj-weight.npy\n",
      "(209715, 16) (52429, 16)\n",
      "## Saving train dataset ##\n"
     ]
    },
    {
     "name": "stderr",
     "output_type": "stream",
     "text": [
      "100%|██████████| 209715/209715 [00:02<00:00, 72011.96it/s]\n"
     ]
    },
    {
     "name": "stdout",
     "output_type": "stream",
     "text": [
      "## Saving val dataset ##\n"
     ]
    },
    {
     "name": "stderr",
     "output_type": "stream",
     "text": [
      "100%|██████████| 52429/52429 [00:00<00:00, 71440.67it/s]\n",
      " 12%|█▏        | 34/291 [11:43<40:55,  9.55s/it]  "
     ]
    },
    {
     "name": "stdout",
     "output_type": "stream",
     "text": [
      "model-layers-8-self_attn-k_proj-weight.npy\n",
      "(209715, 16) (52429, 16)\n",
      "## Saving train dataset ##\n"
     ]
    },
    {
     "name": "stderr",
     "output_type": "stream",
     "text": [
      "100%|██████████| 209715/209715 [00:02<00:00, 72375.39it/s]\n"
     ]
    },
    {
     "name": "stdout",
     "output_type": "stream",
     "text": [
      "## Saving val dataset ##\n"
     ]
    },
    {
     "name": "stderr",
     "output_type": "stream",
     "text": [
      "100%|██████████| 52429/52429 [00:00<00:00, 71506.32it/s]\n",
      " 12%|█▏        | 35/291 [11:47<35:29,  8.32s/it]"
     ]
    },
    {
     "name": "stdout",
     "output_type": "stream",
     "text": [
      "model-layers-22-mlp-up_proj-weight.npy\n",
      "(2936012, 16) (734004, 16)\n",
      "## Saving train dataset ##\n"
     ]
    },
    {
     "name": "stderr",
     "output_type": "stream",
     "text": [
      "100%|██████████| 2936012/2936012 [00:40<00:00, 72198.59it/s]\n"
     ]
    },
    {
     "name": "stdout",
     "output_type": "stream",
     "text": [
      "## Saving val dataset ##\n"
     ]
    },
    {
     "name": "stderr",
     "output_type": "stream",
     "text": [
      "100%|██████████| 734004/734004 [00:10<00:00, 72495.26it/s]\n",
      " 12%|█▏        | 36/291 [12:38<1:17:43, 18.29s/it]"
     ]
    },
    {
     "name": "stdout",
     "output_type": "stream",
     "text": [
      "model-layers-22-self_attn-q_proj-weight.npy\n",
      "(838860, 16) (209716, 16)\n",
      "## Saving train dataset ##\n"
     ]
    },
    {
     "name": "stderr",
     "output_type": "stream",
     "text": [
      "100%|██████████| 838860/838860 [00:11<00:00, 72510.03it/s]\n"
     ]
    },
    {
     "name": "stdout",
     "output_type": "stream",
     "text": [
      "## Saving val dataset ##\n"
     ]
    },
    {
     "name": "stderr",
     "output_type": "stream",
     "text": [
      "100%|██████████| 209716/209716 [00:02<00:00, 72488.55it/s]\n",
      " 13%|█▎        | 37/291 [12:53<1:13:38, 17.39s/it]"
     ]
    },
    {
     "name": "stdout",
     "output_type": "stream",
     "text": [
      "model-layers-17-self_attn-v_proj-weight.npy\n",
      "(209715, 16) (52429, 16)\n",
      "## Saving train dataset ##\n"
     ]
    },
    {
     "name": "stderr",
     "output_type": "stream",
     "text": [
      "100%|██████████| 209715/209715 [00:02<00:00, 72933.61it/s]\n"
     ]
    },
    {
     "name": "stdout",
     "output_type": "stream",
     "text": [
      "## Saving val dataset ##\n"
     ]
    },
    {
     "name": "stderr",
     "output_type": "stream",
     "text": [
      "100%|██████████| 52429/52429 [00:00<00:00, 71358.53it/s]\n",
      " 13%|█▎        | 38/291 [12:57<58:11, 13.80s/it]  "
     ]
    },
    {
     "name": "stdout",
     "output_type": "stream",
     "text": [
      "model-layers-18-self_attn-v_proj-weight.npy\n",
      "(209715, 16) (52429, 16)\n",
      "## Saving train dataset ##\n"
     ]
    },
    {
     "name": "stderr",
     "output_type": "stream",
     "text": [
      "100%|██████████| 209715/209715 [00:02<00:00, 71904.60it/s]\n"
     ]
    },
    {
     "name": "stdout",
     "output_type": "stream",
     "text": [
      "## Saving val dataset ##\n"
     ]
    },
    {
     "name": "stderr",
     "output_type": "stream",
     "text": [
      "100%|██████████| 52429/52429 [00:00<00:00, 71382.21it/s]\n",
      " 13%|█▎        | 39/291 [13:00<46:25, 11.05s/it]"
     ]
    },
    {
     "name": "stdout",
     "output_type": "stream",
     "text": [
      "model-layers-7-mlp-up_proj-weight.npy\n",
      "(2936012, 16) (734004, 16)\n",
      "## Saving train dataset ##\n"
     ]
    },
    {
     "name": "stderr",
     "output_type": "stream",
     "text": [
      "100%|██████████| 2936012/2936012 [00:39<00:00, 73693.00it/s]\n"
     ]
    },
    {
     "name": "stdout",
     "output_type": "stream",
     "text": [
      "## Saving val dataset ##\n"
     ]
    },
    {
     "name": "stderr",
     "output_type": "stream",
     "text": [
      "100%|██████████| 734004/734004 [00:09<00:00, 74463.84it/s]\n",
      " 14%|█▍        | 41/291 [13:51<1:11:49, 17.24s/it]"
     ]
    },
    {
     "name": "stdout",
     "output_type": "stream",
     "text": [
      "model-layers-23-self_attn-k_proj-weight.npy\n",
      "(209715, 16) (52429, 16)\n",
      "## Saving train dataset ##\n"
     ]
    },
    {
     "name": "stderr",
     "output_type": "stream",
     "text": [
      "100%|██████████| 209715/209715 [00:02<00:00, 74661.83it/s]\n"
     ]
    },
    {
     "name": "stdout",
     "output_type": "stream",
     "text": [
      "## Saving val dataset ##\n"
     ]
    },
    {
     "name": "stderr",
     "output_type": "stream",
     "text": [
      "100%|██████████| 52429/52429 [00:00<00:00, 73583.05it/s]\n",
      " 14%|█▍        | 42/291 [13:54<58:02, 13.99s/it]  "
     ]
    },
    {
     "name": "stdout",
     "output_type": "stream",
     "text": [
      "model-layers-20-self_attn-v_proj-weight.npy\n",
      "(209715, 16) (52429, 16)\n",
      "## Saving train dataset ##\n"
     ]
    },
    {
     "name": "stderr",
     "output_type": "stream",
     "text": [
      "100%|██████████| 209715/209715 [00:02<00:00, 75063.95it/s]\n"
     ]
    },
    {
     "name": "stdout",
     "output_type": "stream",
     "text": [
      "## Saving val dataset ##\n"
     ]
    },
    {
     "name": "stderr",
     "output_type": "stream",
     "text": [
      "100%|██████████| 52429/52429 [00:00<00:00, 74769.50it/s]\n",
      " 15%|█▍        | 43/291 [13:58<46:51, 11.34s/it]"
     ]
    },
    {
     "name": "stdout",
     "output_type": "stream",
     "text": [
      "model-layers-11-self_attn-v_proj-weight.npy\n",
      "(209715, 16) (52429, 16)\n",
      "## Saving train dataset ##\n"
     ]
    },
    {
     "name": "stderr",
     "output_type": "stream",
     "text": [
      "100%|██████████| 209715/209715 [00:02<00:00, 74084.51it/s]\n"
     ]
    },
    {
     "name": "stdout",
     "output_type": "stream",
     "text": [
      "## Saving val dataset ##\n"
     ]
    },
    {
     "name": "stderr",
     "output_type": "stream",
     "text": [
      "100%|██████████| 52429/52429 [00:00<00:00, 73996.13it/s]\n",
      " 15%|█▌        | 44/291 [14:02<38:10,  9.27s/it]"
     ]
    },
    {
     "name": "stdout",
     "output_type": "stream",
     "text": [
      "model-layers-8-self_attn-q_proj-weight.npy\n",
      "(838860, 16) (209716, 16)\n",
      "## Saving train dataset ##\n"
     ]
    },
    {
     "name": "stderr",
     "output_type": "stream",
     "text": [
      "100%|██████████| 838860/838860 [00:11<00:00, 73991.59it/s]\n"
     ]
    },
    {
     "name": "stdout",
     "output_type": "stream",
     "text": [
      "## Saving val dataset ##\n"
     ]
    },
    {
     "name": "stderr",
     "output_type": "stream",
     "text": [
      "100%|██████████| 209716/209716 [00:02<00:00, 70763.56it/s]\n",
      " 15%|█▌        | 45/291 [14:16<43:55, 10.71s/it]"
     ]
    },
    {
     "name": "stdout",
     "output_type": "stream",
     "text": [
      "model-norm-weight.npy\n",
      "(204, 16) (52, 16)\n",
      "## Saving train dataset ##\n"
     ]
    },
    {
     "name": "stderr",
     "output_type": "stream",
     "text": [
      "100%|██████████| 204/204 [00:00<00:00, 49373.23it/s]\n"
     ]
    },
    {
     "name": "stdout",
     "output_type": "stream",
     "text": [
      "## Saving val dataset ##\n"
     ]
    },
    {
     "name": "stderr",
     "output_type": "stream",
     "text": [
      "100%|██████████| 52/52 [00:00<00:00, 35331.90it/s]\n"
     ]
    },
    {
     "name": "stdout",
     "output_type": "stream",
     "text": [
      "model-layers-20-self_attn-q_proj-weight.npy\n",
      "(838860, 16) (209716, 16)\n",
      "## Saving train dataset ##\n"
     ]
    },
    {
     "name": "stderr",
     "output_type": "stream",
     "text": [
      "100%|██████████| 838860/838860 [00:11<00:00, 70358.13it/s]\n"
     ]
    },
    {
     "name": "stdout",
     "output_type": "stream",
     "text": [
      "## Saving val dataset ##\n"
     ]
    },
    {
     "name": "stderr",
     "output_type": "stream",
     "text": [
      "100%|██████████| 209716/209716 [00:02<00:00, 70563.06it/s]\n",
      " 16%|█▋        | 48/291 [14:31<30:56,  7.64s/it]"
     ]
    },
    {
     "name": "stdout",
     "output_type": "stream",
     "text": [
      "model-layers-5-self_attn-o_proj-weight.npy\n",
      "(838860, 16) (209716, 16)\n",
      "## Saving train dataset ##\n"
     ]
    },
    {
     "name": "stderr",
     "output_type": "stream",
     "text": [
      "100%|██████████| 838860/838860 [00:11<00:00, 70610.44it/s]\n"
     ]
    },
    {
     "name": "stdout",
     "output_type": "stream",
     "text": [
      "## Saving val dataset ##\n"
     ]
    },
    {
     "name": "stderr",
     "output_type": "stream",
     "text": [
      "100%|██████████| 209716/209716 [00:02<00:00, 70617.94it/s]\n",
      " 17%|█▋        | 49/291 [14:46<36:57,  9.16s/it]"
     ]
    },
    {
     "name": "stdout",
     "output_type": "stream",
     "text": [
      "model-layers-24-mlp-gate_proj-weight.npy\n",
      "(2936012, 16) (734004, 16)\n",
      "## Saving train dataset ##\n"
     ]
    },
    {
     "name": "stderr",
     "output_type": "stream",
     "text": [
      "100%|██████████| 2936012/2936012 [00:40<00:00, 73353.83it/s]\n"
     ]
    },
    {
     "name": "stdout",
     "output_type": "stream",
     "text": [
      "## Saving val dataset ##\n"
     ]
    },
    {
     "name": "stderr",
     "output_type": "stream",
     "text": [
      "100%|██████████| 734004/734004 [00:09<00:00, 74433.18it/s]\n",
      " 17%|█▋        | 50/291 [15:37<1:14:30, 18.55s/it]"
     ]
    },
    {
     "name": "stdout",
     "output_type": "stream",
     "text": [
      "model-layers-10-mlp-up_proj-weight.npy\n",
      "(2936012, 16) (734004, 16)\n",
      "## Saving train dataset ##\n"
     ]
    },
    {
     "name": "stderr",
     "output_type": "stream",
     "text": [
      "100%|██████████| 2936012/2936012 [00:40<00:00, 72898.54it/s]\n"
     ]
    },
    {
     "name": "stdout",
     "output_type": "stream",
     "text": [
      "## Saving val dataset ##\n"
     ]
    },
    {
     "name": "stderr",
     "output_type": "stream",
     "text": [
      "100%|██████████| 734004/734004 [00:10<00:00, 71410.10it/s]\n",
      " 18%|█▊        | 53/291 [16:28<1:10:42, 17.83s/it]"
     ]
    },
    {
     "name": "stdout",
     "output_type": "stream",
     "text": [
      "model-layers-14-mlp-up_proj-weight.npy\n",
      "(2936012, 16) (734004, 16)\n",
      "## Saving train dataset ##\n"
     ]
    },
    {
     "name": "stderr",
     "output_type": "stream",
     "text": [
      "100%|██████████| 2936012/2936012 [00:40<00:00, 71695.75it/s]\n"
     ]
    },
    {
     "name": "stdout",
     "output_type": "stream",
     "text": [
      "## Saving val dataset ##\n"
     ]
    },
    {
     "name": "stderr",
     "output_type": "stream",
     "text": [
      "100%|██████████| 734004/734004 [00:10<00:00, 71915.86it/s]\n",
      " 19%|█▊        | 54/291 [17:20<1:35:56, 24.29s/it]"
     ]
    },
    {
     "name": "stdout",
     "output_type": "stream",
     "text": [
      "model-layers-14-self_attn-k_proj-weight.npy\n",
      "(209715, 16) (52429, 16)\n",
      "## Saving train dataset ##\n"
     ]
    },
    {
     "name": "stderr",
     "output_type": "stream",
     "text": [
      "100%|██████████| 209715/209715 [00:02<00:00, 71736.92it/s]\n"
     ]
    },
    {
     "name": "stdout",
     "output_type": "stream",
     "text": [
      "## Saving val dataset ##\n"
     ]
    },
    {
     "name": "stderr",
     "output_type": "stream",
     "text": [
      "100%|██████████| 52429/52429 [00:00<00:00, 71383.50it/s]\n",
      " 19%|█▉        | 55/291 [17:24<1:18:15, 19.90s/it]"
     ]
    },
    {
     "name": "stdout",
     "output_type": "stream",
     "text": [
      "model-layers-12-self_attn-v_proj-weight.npy\n",
      "(209715, 16) (52429, 16)\n",
      "## Saving train dataset ##\n"
     ]
    },
    {
     "name": "stderr",
     "output_type": "stream",
     "text": [
      "100%|██████████| 209715/209715 [00:02<00:00, 71260.62it/s]\n"
     ]
    },
    {
     "name": "stdout",
     "output_type": "stream",
     "text": [
      "## Saving val dataset ##\n"
     ]
    },
    {
     "name": "stderr",
     "output_type": "stream",
     "text": [
      "100%|██████████| 52429/52429 [00:00<00:00, 71564.12it/s]\n",
      " 20%|█▉        | 57/291 [17:27<50:56, 13.06s/it]  "
     ]
    },
    {
     "name": "stdout",
     "output_type": "stream",
     "text": [
      "model-layers-3-mlp-up_proj-weight.npy\n",
      "(2936012, 16) (734004, 16)\n",
      "## Saving train dataset ##\n"
     ]
    },
    {
     "name": "stderr",
     "output_type": "stream",
     "text": [
      "100%|██████████| 2936012/2936012 [00:40<00:00, 71933.59it/s]\n"
     ]
    },
    {
     "name": "stdout",
     "output_type": "stream",
     "text": [
      "## Saving val dataset ##\n"
     ]
    },
    {
     "name": "stderr",
     "output_type": "stream",
     "text": [
      "100%|██████████| 734004/734004 [00:10<00:00, 72042.26it/s]\n",
      " 20%|█▉        | 58/291 [18:19<1:22:40, 21.29s/it]"
     ]
    },
    {
     "name": "stdout",
     "output_type": "stream",
     "text": [
      "model-layers-3-mlp-down_proj-weight.npy\n",
      "(2936012, 16) (734004, 16)\n",
      "## Saving train dataset ##\n"
     ]
    },
    {
     "name": "stderr",
     "output_type": "stream",
     "text": [
      "100%|██████████| 2936012/2936012 [00:40<00:00, 73061.56it/s]\n"
     ]
    },
    {
     "name": "stdout",
     "output_type": "stream",
     "text": [
      "## Saving val dataset ##\n"
     ]
    },
    {
     "name": "stderr",
     "output_type": "stream",
     "text": [
      "100%|██████████| 734004/734004 [00:10<00:00, 72093.38it/s]\n",
      " 20%|██        | 59/291 [19:10<1:49:11, 28.24s/it]"
     ]
    },
    {
     "name": "stdout",
     "output_type": "stream",
     "text": [
      "model-layers-21-mlp-up_proj-weight.npy\n",
      "(2936012, 16) (734004, 16)\n",
      "## Saving train dataset ##\n"
     ]
    },
    {
     "name": "stderr",
     "output_type": "stream",
     "text": [
      "100%|██████████| 2936012/2936012 [00:40<00:00, 72284.54it/s]\n"
     ]
    },
    {
     "name": "stdout",
     "output_type": "stream",
     "text": [
      "## Saving val dataset ##\n"
     ]
    },
    {
     "name": "stderr",
     "output_type": "stream",
     "text": [
      "100%|██████████| 734004/734004 [00:10<00:00, 72431.56it/s]\n",
      " 21%|██        | 61/291 [20:02<1:44:22, 27.23s/it]"
     ]
    },
    {
     "name": "stdout",
     "output_type": "stream",
     "text": [
      "model-layers-10-mlp-down_proj-weight.npy\n",
      "(2936012, 16) (734004, 16)\n",
      "## Saving train dataset ##\n"
     ]
    },
    {
     "name": "stderr",
     "output_type": "stream",
     "text": [
      "100%|██████████| 2936012/2936012 [00:40<00:00, 72145.77it/s]\n"
     ]
    },
    {
     "name": "stdout",
     "output_type": "stream",
     "text": [
      "## Saving val dataset ##\n"
     ]
    },
    {
     "name": "stderr",
     "output_type": "stream",
     "text": [
      "100%|██████████| 734004/734004 [00:10<00:00, 71655.74it/s]\n",
      " 21%|██▏       | 62/291 [20:53<2:04:37, 32.65s/it]"
     ]
    },
    {
     "name": "stdout",
     "output_type": "stream",
     "text": [
      "model-layers-6-mlp-gate_proj-weight.npy\n",
      "(2936012, 16) (734004, 16)\n",
      "## Saving train dataset ##\n"
     ]
    },
    {
     "name": "stderr",
     "output_type": "stream",
     "text": [
      "100%|██████████| 2936012/2936012 [00:39<00:00, 73406.70it/s]\n"
     ]
    },
    {
     "name": "stdout",
     "output_type": "stream",
     "text": [
      "## Saving val dataset ##\n"
     ]
    },
    {
     "name": "stderr",
     "output_type": "stream",
     "text": [
      "100%|██████████| 734004/734004 [00:10<00:00, 72093.48it/s]\n",
      " 22%|██▏       | 63/291 [21:44<2:20:46, 37.05s/it]"
     ]
    },
    {
     "name": "stdout",
     "output_type": "stream",
     "text": [
      "model-layers-16-mlp-gate_proj-weight.npy\n",
      "(2936012, 16) (734004, 16)\n",
      "## Saving train dataset ##\n"
     ]
    },
    {
     "name": "stderr",
     "output_type": "stream",
     "text": [
      "100%|██████████| 2936012/2936012 [00:40<00:00, 71961.08it/s]\n"
     ]
    },
    {
     "name": "stdout",
     "output_type": "stream",
     "text": [
      "## Saving val dataset ##\n"
     ]
    },
    {
     "name": "stderr",
     "output_type": "stream",
     "text": [
      "100%|██████████| 734004/734004 [00:10<00:00, 71900.34it/s]\n",
      " 22%|██▏       | 64/291 [22:36<2:34:21, 40.80s/it]"
     ]
    },
    {
     "name": "stdout",
     "output_type": "stream",
     "text": [
      "model-layers-10-self_attn-q_proj-weight.npy\n",
      "(838860, 16) (209716, 16)\n",
      "## Saving train dataset ##\n"
     ]
    },
    {
     "name": "stderr",
     "output_type": "stream",
     "text": [
      "100%|██████████| 838860/838860 [00:11<00:00, 71451.44it/s]\n"
     ]
    },
    {
     "name": "stdout",
     "output_type": "stream",
     "text": [
      "## Saving val dataset ##\n"
     ]
    },
    {
     "name": "stderr",
     "output_type": "stream",
     "text": [
      "100%|██████████| 209716/209716 [00:02<00:00, 72328.64it/s]\n",
      " 22%|██▏       | 65/291 [22:51<2:07:29, 33.85s/it]"
     ]
    },
    {
     "name": "stdout",
     "output_type": "stream",
     "text": [
      "model-layers-18-mlp-down_proj-weight.npy\n",
      "(2936012, 16) (734004, 16)\n",
      "## Saving train dataset ##\n"
     ]
    },
    {
     "name": "stderr",
     "output_type": "stream",
     "text": [
      "100%|██████████| 2936012/2936012 [00:40<00:00, 72174.56it/s]\n"
     ]
    },
    {
     "name": "stdout",
     "output_type": "stream",
     "text": [
      "## Saving val dataset ##\n"
     ]
    },
    {
     "name": "stderr",
     "output_type": "stream",
     "text": [
      "100%|██████████| 734004/734004 [00:10<00:00, 72714.70it/s]\n",
      " 23%|██▎       | 66/291 [23:42<2:25:12, 38.72s/it]"
     ]
    },
    {
     "name": "stdout",
     "output_type": "stream",
     "text": [
      "model-layers-30-self_attn-q_proj-weight.npy\n",
      "(838860, 16) (209716, 16)\n",
      "## Saving train dataset ##\n"
     ]
    },
    {
     "name": "stderr",
     "output_type": "stream",
     "text": [
      "100%|██████████| 838860/838860 [00:11<00:00, 74116.60it/s]\n"
     ]
    },
    {
     "name": "stdout",
     "output_type": "stream",
     "text": [
      "## Saving val dataset ##\n"
     ]
    },
    {
     "name": "stderr",
     "output_type": "stream",
     "text": [
      "100%|██████████| 209716/209716 [00:02<00:00, 73833.59it/s]\n",
      " 23%|██▎       | 67/291 [23:56<1:58:47, 31.82s/it]"
     ]
    },
    {
     "name": "stdout",
     "output_type": "stream",
     "text": [
      "model-layers-7-self_attn-v_proj-weight.npy\n",
      "(209715, 16) (52429, 16)\n",
      "## Saving train dataset ##\n"
     ]
    },
    {
     "name": "stderr",
     "output_type": "stream",
     "text": [
      "100%|██████████| 209715/209715 [00:02<00:00, 71730.61it/s]\n"
     ]
    },
    {
     "name": "stdout",
     "output_type": "stream",
     "text": [
      "## Saving val dataset ##\n"
     ]
    },
    {
     "name": "stderr",
     "output_type": "stream",
     "text": [
      "100%|██████████| 52429/52429 [00:00<00:00, 71821.44it/s]\n",
      " 23%|██▎       | 68/291 [24:00<1:28:09, 23.72s/it]"
     ]
    },
    {
     "name": "stdout",
     "output_type": "stream",
     "text": [
      "model-layers-19-self_attn-q_proj-weight.npy\n",
      "(838860, 16) (209716, 16)\n",
      "## Saving train dataset ##\n"
     ]
    },
    {
     "name": "stderr",
     "output_type": "stream",
     "text": [
      "100%|██████████| 838860/838860 [00:11<00:00, 72376.44it/s]\n"
     ]
    },
    {
     "name": "stdout",
     "output_type": "stream",
     "text": [
      "## Saving val dataset ##\n"
     ]
    },
    {
     "name": "stderr",
     "output_type": "stream",
     "text": [
      "100%|██████████| 209716/209716 [00:02<00:00, 72929.45it/s]\n",
      " 24%|██▎       | 69/291 [24:15<1:17:59, 21.08s/it]"
     ]
    },
    {
     "name": "stdout",
     "output_type": "stream",
     "text": [
      "model-layers-11-self_attn-o_proj-weight.npy\n",
      "(838860, 16) (209716, 16)\n",
      "## Saving train dataset ##\n"
     ]
    },
    {
     "name": "stderr",
     "output_type": "stream",
     "text": [
      "100%|██████████| 838860/838860 [00:11<00:00, 74791.57it/s]\n"
     ]
    },
    {
     "name": "stdout",
     "output_type": "stream",
     "text": [
      "## Saving val dataset ##\n"
     ]
    },
    {
     "name": "stderr",
     "output_type": "stream",
     "text": [
      "100%|██████████| 209716/209716 [00:02<00:00, 73983.89it/s]\n",
      " 24%|██▍       | 70/291 [24:29<1:10:14, 19.07s/it]"
     ]
    },
    {
     "name": "stdout",
     "output_type": "stream",
     "text": [
      "model-layers-13-self_attn-q_proj-weight.npy\n",
      "(838860, 16) (209716, 16)\n",
      "## Saving train dataset ##\n"
     ]
    },
    {
     "name": "stderr",
     "output_type": "stream",
     "text": [
      "100%|██████████| 838860/838860 [00:11<00:00, 74753.58it/s]\n"
     ]
    },
    {
     "name": "stdout",
     "output_type": "stream",
     "text": [
      "## Saving val dataset ##\n"
     ]
    },
    {
     "name": "stderr",
     "output_type": "stream",
     "text": [
      "100%|██████████| 209716/209716 [00:02<00:00, 72149.96it/s]\n",
      " 24%|██▍       | 71/291 [24:43<1:04:46, 17.67s/it]"
     ]
    },
    {
     "name": "stdout",
     "output_type": "stream",
     "text": [
      "model-layers-28-self_attn-q_proj-weight.npy\n",
      "(838860, 16) (209716, 16)\n",
      "## Saving train dataset ##\n"
     ]
    },
    {
     "name": "stderr",
     "output_type": "stream",
     "text": [
      "100%|██████████| 838860/838860 [00:11<00:00, 70122.73it/s]\n"
     ]
    },
    {
     "name": "stdout",
     "output_type": "stream",
     "text": [
      "## Saving val dataset ##\n"
     ]
    },
    {
     "name": "stderr",
     "output_type": "stream",
     "text": [
      "100%|██████████| 209716/209716 [00:03<00:00, 69570.32it/s]\n",
      " 25%|██▍       | 72/291 [24:59<1:01:47, 16.93s/it]"
     ]
    },
    {
     "name": "stdout",
     "output_type": "stream",
     "text": [
      "model-layers-24-self_attn-v_proj-weight.npy\n",
      "(209715, 16) (52429, 16)\n",
      "## Saving train dataset ##\n"
     ]
    },
    {
     "name": "stderr",
     "output_type": "stream",
     "text": [
      "100%|██████████| 209715/209715 [00:02<00:00, 70127.20it/s]\n"
     ]
    },
    {
     "name": "stdout",
     "output_type": "stream",
     "text": [
      "## Saving val dataset ##\n"
     ]
    },
    {
     "name": "stderr",
     "output_type": "stream",
     "text": [
      "100%|██████████| 52429/52429 [00:00<00:00, 69888.89it/s]\n",
      " 25%|██▌       | 73/291 [25:02<47:17, 13.01s/it]  "
     ]
    },
    {
     "name": "stdout",
     "output_type": "stream",
     "text": [
      "model-layers-3-self_attn-q_proj-weight.npy\n",
      "(838860, 16) (209716, 16)\n",
      "## Saving train dataset ##\n"
     ]
    },
    {
     "name": "stderr",
     "output_type": "stream",
     "text": [
      "100%|██████████| 838860/838860 [00:11<00:00, 70503.49it/s]\n"
     ]
    },
    {
     "name": "stdout",
     "output_type": "stream",
     "text": [
      "## Saving val dataset ##\n"
     ]
    },
    {
     "name": "stderr",
     "output_type": "stream",
     "text": [
      "100%|██████████| 209716/209716 [00:02<00:00, 70268.44it/s]\n",
      " 25%|██▌       | 74/291 [25:17<49:18, 13.63s/it]"
     ]
    },
    {
     "name": "stdout",
     "output_type": "stream",
     "text": [
      "model-layers-6-mlp-up_proj-weight.npy\n",
      "(2936012, 16) (734004, 16)\n",
      "## Saving train dataset ##\n"
     ]
    },
    {
     "name": "stderr",
     "output_type": "stream",
     "text": [
      "100%|██████████| 2936012/2936012 [00:39<00:00, 73886.70it/s]\n"
     ]
    },
    {
     "name": "stdout",
     "output_type": "stream",
     "text": [
      "## Saving val dataset ##\n"
     ]
    },
    {
     "name": "stderr",
     "output_type": "stream",
     "text": [
      "100%|██████████| 734004/734004 [00:09<00:00, 74293.15it/s]\n",
      " 26%|██▌       | 75/291 [26:08<1:28:34, 24.60s/it]"
     ]
    },
    {
     "name": "stdout",
     "output_type": "stream",
     "text": [
      "model-layers-9-self_attn-v_proj-weight.npy\n",
      "(209715, 16) (52429, 16)\n",
      "## Saving train dataset ##\n"
     ]
    },
    {
     "name": "stderr",
     "output_type": "stream",
     "text": [
      "100%|██████████| 209715/209715 [00:03<00:00, 69790.66it/s]\n"
     ]
    },
    {
     "name": "stdout",
     "output_type": "stream",
     "text": [
      "## Saving val dataset ##\n"
     ]
    },
    {
     "name": "stderr",
     "output_type": "stream",
     "text": [
      "100%|██████████| 52429/52429 [00:00<00:00, 70183.06it/s]\n",
      " 26%|██▋       | 77/291 [26:12<50:27, 14.15s/it]  "
     ]
    },
    {
     "name": "stdout",
     "output_type": "stream",
     "text": [
      "model-layers-13-mlp-up_proj-weight.npy\n",
      "(2936012, 16) (734004, 16)\n",
      "## Saving train dataset ##\n"
     ]
    },
    {
     "name": "stderr",
     "output_type": "stream",
     "text": [
      "100%|██████████| 2936012/2936012 [00:40<00:00, 72762.74it/s]\n"
     ]
    },
    {
     "name": "stdout",
     "output_type": "stream",
     "text": [
      "## Saving val dataset ##\n"
     ]
    },
    {
     "name": "stderr",
     "output_type": "stream",
     "text": [
      "100%|██████████| 734004/734004 [00:10<00:00, 71567.13it/s]\n",
      " 27%|██▋       | 78/291 [27:03<1:22:51, 23.34s/it]"
     ]
    },
    {
     "name": "stdout",
     "output_type": "stream",
     "text": [
      "model-layers-21-self_attn-v_proj-weight.npy\n",
      "(209715, 16) (52429, 16)\n",
      "## Saving train dataset ##\n"
     ]
    },
    {
     "name": "stderr",
     "output_type": "stream",
     "text": [
      "100%|██████████| 209715/209715 [00:02<00:00, 71027.84it/s]\n"
     ]
    },
    {
     "name": "stdout",
     "output_type": "stream",
     "text": [
      "## Saving val dataset ##\n"
     ]
    },
    {
     "name": "stderr",
     "output_type": "stream",
     "text": [
      "100%|██████████| 52429/52429 [00:00<00:00, 71518.32it/s]\n",
      " 27%|██▋       | 79/291 [27:07<1:04:22, 18.22s/it]"
     ]
    },
    {
     "name": "stdout",
     "output_type": "stream",
     "text": [
      "model-layers-16-self_attn-v_proj-weight.npy\n",
      "(209715, 16) (52429, 16)\n",
      "## Saving train dataset ##\n"
     ]
    },
    {
     "name": "stderr",
     "output_type": "stream",
     "text": [
      "100%|██████████| 209715/209715 [00:02<00:00, 71181.43it/s]\n"
     ]
    },
    {
     "name": "stdout",
     "output_type": "stream",
     "text": [
      "## Saving val dataset ##\n"
     ]
    },
    {
     "name": "stderr",
     "output_type": "stream",
     "text": [
      "100%|██████████| 52429/52429 [00:00<00:00, 70950.47it/s]\n",
      " 27%|██▋       | 80/291 [27:10<50:13, 14.28s/it]  "
     ]
    },
    {
     "name": "stdout",
     "output_type": "stream",
     "text": [
      "model-layers-18-mlp-gate_proj-weight.npy\n",
      "(2936012, 16) (734004, 16)\n",
      "## Saving train dataset ##\n"
     ]
    },
    {
     "name": "stderr",
     "output_type": "stream",
     "text": [
      "100%|██████████| 2936012/2936012 [00:40<00:00, 71881.60it/s]\n"
     ]
    },
    {
     "name": "stdout",
     "output_type": "stream",
     "text": [
      "## Saving val dataset ##\n"
     ]
    },
    {
     "name": "stderr",
     "output_type": "stream",
     "text": [
      "100%|██████████| 734004/734004 [00:10<00:00, 71763.75it/s]\n",
      " 28%|██▊       | 81/291 [28:02<1:26:41, 24.77s/it]"
     ]
    },
    {
     "name": "stdout",
     "output_type": "stream",
     "text": [
      "model-layers-9-self_attn-q_proj-weight.npy\n",
      "(838860, 16) (209716, 16)\n",
      "## Saving train dataset ##\n"
     ]
    },
    {
     "name": "stderr",
     "output_type": "stream",
     "text": [
      "100%|██████████| 838860/838860 [00:11<00:00, 71441.87it/s]\n"
     ]
    },
    {
     "name": "stdout",
     "output_type": "stream",
     "text": [
      "## Saving val dataset ##\n"
     ]
    },
    {
     "name": "stderr",
     "output_type": "stream",
     "text": [
      "100%|██████████| 209716/209716 [00:02<00:00, 71348.68it/s]\n",
      " 29%|██▊       | 83/291 [28:17<59:10, 17.07s/it]  "
     ]
    },
    {
     "name": "stdout",
     "output_type": "stream",
     "text": [
      "model-layers-18-self_attn-o_proj-weight.npy\n",
      "(838860, 16) (209716, 16)\n",
      "## Saving train dataset ##\n"
     ]
    },
    {
     "name": "stderr",
     "output_type": "stream",
     "text": [
      "100%|██████████| 838860/838860 [00:11<00:00, 71282.94it/s]\n"
     ]
    },
    {
     "name": "stdout",
     "output_type": "stream",
     "text": [
      "## Saving val dataset ##\n"
     ]
    },
    {
     "name": "stderr",
     "output_type": "stream",
     "text": [
      "100%|██████████| 209716/209716 [00:02<00:00, 71136.73it/s]\n",
      " 29%|██▉       | 84/291 [28:32<57:06, 16.55s/it]"
     ]
    },
    {
     "name": "stdout",
     "output_type": "stream",
     "text": [
      "model-layers-8-mlp-down_proj-weight.npy\n",
      "(2936012, 16) (734004, 16)\n",
      "## Saving train dataset ##\n"
     ]
    },
    {
     "name": "stderr",
     "output_type": "stream",
     "text": [
      "100%|██████████| 2936012/2936012 [00:40<00:00, 72908.30it/s]\n"
     ]
    },
    {
     "name": "stdout",
     "output_type": "stream",
     "text": [
      "## Saving val dataset ##\n"
     ]
    },
    {
     "name": "stderr",
     "output_type": "stream",
     "text": [
      "100%|██████████| 734004/734004 [00:10<00:00, 71240.26it/s]\n",
      " 29%|██▉       | 85/291 [29:23<1:27:19, 25.43s/it]"
     ]
    },
    {
     "name": "stdout",
     "output_type": "stream",
     "text": [
      "model-layers-29-mlp-up_proj-weight.npy\n",
      "(2936012, 16) (734004, 16)\n",
      "## Saving train dataset ##\n"
     ]
    },
    {
     "name": "stderr",
     "output_type": "stream",
     "text": [
      "100%|██████████| 2936012/2936012 [00:41<00:00, 71591.97it/s]\n"
     ]
    },
    {
     "name": "stdout",
     "output_type": "stream",
     "text": [
      "## Saving val dataset ##\n"
     ]
    },
    {
     "name": "stderr",
     "output_type": "stream",
     "text": [
      "100%|██████████| 734004/734004 [00:10<00:00, 71968.54it/s]\n",
      " 30%|██▉       | 86/291 [30:15<1:51:06, 32.52s/it]"
     ]
    },
    {
     "name": "stdout",
     "output_type": "stream",
     "text": [
      "model-layers-4-mlp-gate_proj-weight.npy\n",
      "(2936012, 16) (734004, 16)\n",
      "## Saving train dataset ##\n"
     ]
    },
    {
     "name": "stderr",
     "output_type": "stream",
     "text": [
      "100%|██████████| 2936012/2936012 [00:40<00:00, 72076.95it/s]\n"
     ]
    },
    {
     "name": "stdout",
     "output_type": "stream",
     "text": [
      "## Saving val dataset ##\n"
     ]
    },
    {
     "name": "stderr",
     "output_type": "stream",
     "text": [
      "100%|██████████| 734004/734004 [00:10<00:00, 72119.47it/s]\n",
      " 30%|██▉       | 87/291 [31:07<2:08:31, 37.80s/it]"
     ]
    },
    {
     "name": "stdout",
     "output_type": "stream",
     "text": [
      "model-layers-13-mlp-gate_proj-weight.npy\n",
      "(2936012, 16) (734004, 16)\n",
      "## Saving train dataset ##\n"
     ]
    },
    {
     "name": "stderr",
     "output_type": "stream",
     "text": [
      "100%|██████████| 2936012/2936012 [00:40<00:00, 72445.04it/s]\n"
     ]
    },
    {
     "name": "stdout",
     "output_type": "stream",
     "text": [
      "## Saving val dataset ##\n"
     ]
    },
    {
     "name": "stderr",
     "output_type": "stream",
     "text": [
      "100%|██████████| 734004/734004 [00:10<00:00, 72050.51it/s]\n",
      " 30%|███       | 88/291 [31:58<2:20:54, 41.65s/it]"
     ]
    },
    {
     "name": "stdout",
     "output_type": "stream",
     "text": [
      "model-layers-19-self_attn-v_proj-weight.npy\n",
      "(209715, 16) (52429, 16)\n",
      "## Saving train dataset ##\n"
     ]
    },
    {
     "name": "stderr",
     "output_type": "stream",
     "text": [
      "100%|██████████| 209715/209715 [00:02<00:00, 72069.60it/s]\n"
     ]
    },
    {
     "name": "stdout",
     "output_type": "stream",
     "text": [
      "## Saving val dataset ##\n"
     ]
    },
    {
     "name": "stderr",
     "output_type": "stream",
     "text": [
      "100%|██████████| 52429/52429 [00:00<00:00, 71687.98it/s]\n",
      " 31%|███       | 89/291 [32:02<1:43:23, 30.71s/it]"
     ]
    },
    {
     "name": "stdout",
     "output_type": "stream",
     "text": [
      "model-layers-15-mlp-up_proj-weight.npy\n",
      "(2936012, 16) (734004, 16)\n",
      "## Saving train dataset ##\n"
     ]
    },
    {
     "name": "stderr",
     "output_type": "stream",
     "text": [
      "100%|██████████| 2936012/2936012 [00:40<00:00, 72346.13it/s]\n"
     ]
    },
    {
     "name": "stdout",
     "output_type": "stream",
     "text": [
      "## Saving val dataset ##\n"
     ]
    },
    {
     "name": "stderr",
     "output_type": "stream",
     "text": [
      "100%|██████████| 734004/734004 [00:10<00:00, 72200.11it/s]\n",
      " 31%|███▏      | 91/291 [32:53<1:34:51, 28.46s/it]"
     ]
    },
    {
     "name": "stdout",
     "output_type": "stream",
     "text": [
      "model-layers-0-self_attn-q_proj-weight.npy\n",
      "(838860, 16) (209716, 16)\n",
      "## Saving train dataset ##\n"
     ]
    },
    {
     "name": "stderr",
     "output_type": "stream",
     "text": [
      "100%|██████████| 838860/838860 [00:11<00:00, 72300.36it/s]\n"
     ]
    },
    {
     "name": "stdout",
     "output_type": "stream",
     "text": [
      "## Saving val dataset ##\n"
     ]
    },
    {
     "name": "stderr",
     "output_type": "stream",
     "text": [
      "100%|██████████| 209716/209716 [00:02<00:00, 72337.85it/s]\n",
      " 32%|███▏      | 92/291 [33:08<1:23:15, 25.10s/it]"
     ]
    },
    {
     "name": "stdout",
     "output_type": "stream",
     "text": [
      "model-layers-16-mlp-down_proj-weight.npy\n",
      "(2936012, 16) (734004, 16)\n",
      "## Saving train dataset ##\n"
     ]
    },
    {
     "name": "stderr",
     "output_type": "stream",
     "text": [
      "100%|██████████| 2936012/2936012 [00:40<00:00, 71924.02it/s]\n"
     ]
    },
    {
     "name": "stdout",
     "output_type": "stream",
     "text": [
      "## Saving val dataset ##\n"
     ]
    },
    {
     "name": "stderr",
     "output_type": "stream",
     "text": [
      "100%|██████████| 734004/734004 [00:10<00:00, 72090.98it/s]\n",
      " 32%|███▏      | 93/291 [34:00<1:45:30, 31.97s/it]"
     ]
    },
    {
     "name": "stdout",
     "output_type": "stream",
     "text": [
      "model-layers-30-self_attn-v_proj-weight.npy\n",
      "(209715, 16) (52429, 16)\n",
      "## Saving train dataset ##\n"
     ]
    },
    {
     "name": "stderr",
     "output_type": "stream",
     "text": [
      "100%|██████████| 209715/209715 [00:02<00:00, 71526.73it/s]\n"
     ]
    },
    {
     "name": "stdout",
     "output_type": "stream",
     "text": [
      "## Saving val dataset ##\n"
     ]
    },
    {
     "name": "stderr",
     "output_type": "stream",
     "text": [
      "100%|██████████| 52429/52429 [00:00<00:00, 71836.31it/s]\n",
      " 33%|███▎      | 95/291 [34:03<1:02:39, 19.18s/it]"
     ]
    },
    {
     "name": "stdout",
     "output_type": "stream",
     "text": [
      "model-layers-24-self_attn-q_proj-weight.npy\n",
      "(838860, 16) (209716, 16)\n",
      "## Saving train dataset ##\n"
     ]
    },
    {
     "name": "stderr",
     "output_type": "stream",
     "text": [
      "100%|██████████| 838860/838860 [00:11<00:00, 73870.17it/s]\n"
     ]
    },
    {
     "name": "stdout",
     "output_type": "stream",
     "text": [
      "## Saving val dataset ##\n"
     ]
    },
    {
     "name": "stderr",
     "output_type": "stream",
     "text": [
      "100%|██████████| 209716/209716 [00:02<00:00, 75514.48it/s]\n",
      " 33%|███▎      | 96/291 [34:18<58:40, 18.05s/it]  "
     ]
    },
    {
     "name": "stdout",
     "output_type": "stream",
     "text": [
      "model-layers-29-mlp-down_proj-weight.npy\n",
      "(2936012, 16) (734004, 16)\n",
      "## Saving train dataset ##\n"
     ]
    },
    {
     "name": "stderr",
     "output_type": "stream",
     "text": [
      "100%|██████████| 2936012/2936012 [00:39<00:00, 73792.81it/s]\n"
     ]
    },
    {
     "name": "stdout",
     "output_type": "stream",
     "text": [
      "## Saving val dataset ##\n"
     ]
    },
    {
     "name": "stderr",
     "output_type": "stream",
     "text": [
      "100%|██████████| 734004/734004 [00:09<00:00, 74241.63it/s]\n",
      " 33%|███▎      | 97/291 [35:08<1:24:26, 26.12s/it]"
     ]
    },
    {
     "name": "stdout",
     "output_type": "stream",
     "text": [
      "model-layers-21-self_attn-q_proj-weight.npy\n",
      "(838860, 16) (209716, 16)\n",
      "## Saving train dataset ##\n"
     ]
    },
    {
     "name": "stderr",
     "output_type": "stream",
     "text": [
      "100%|██████████| 838860/838860 [00:11<00:00, 70915.85it/s]\n"
     ]
    },
    {
     "name": "stdout",
     "output_type": "stream",
     "text": [
      "## Saving val dataset ##\n"
     ]
    },
    {
     "name": "stderr",
     "output_type": "stream",
     "text": [
      "100%|██████████| 209716/209716 [00:02<00:00, 70574.91it/s]\n",
      " 34%|███▎      | 98/291 [35:23<1:14:36, 23.20s/it]"
     ]
    },
    {
     "name": "stdout",
     "output_type": "stream",
     "text": [
      "model-layers-0-mlp-down_proj-weight.npy\n",
      "(2936012, 16) (734004, 16)\n",
      "## Saving train dataset ##\n"
     ]
    },
    {
     "name": "stderr",
     "output_type": "stream",
     "text": [
      "100%|██████████| 2936012/2936012 [00:41<00:00, 70891.05it/s]\n"
     ]
    },
    {
     "name": "stdout",
     "output_type": "stream",
     "text": [
      "## Saving val dataset ##\n"
     ]
    },
    {
     "name": "stderr",
     "output_type": "stream",
     "text": [
      "100%|██████████| 734004/734004 [00:09<00:00, 74300.63it/s]\n",
      " 34%|███▍      | 99/291 [36:15<1:39:31, 31.10s/it]"
     ]
    },
    {
     "name": "stdout",
     "output_type": "stream",
     "text": [
      "model-layers-22-self_attn-o_proj-weight.npy\n",
      "(838860, 16) (209716, 16)\n",
      "## Saving train dataset ##\n"
     ]
    },
    {
     "name": "stderr",
     "output_type": "stream",
     "text": [
      "100%|██████████| 838860/838860 [00:11<00:00, 74557.49it/s]\n"
     ]
    },
    {
     "name": "stdout",
     "output_type": "stream",
     "text": [
      "## Saving val dataset ##\n"
     ]
    },
    {
     "name": "stderr",
     "output_type": "stream",
     "text": [
      "100%|██████████| 209716/209716 [00:02<00:00, 73531.43it/s]\n",
      " 35%|███▍      | 101/291 [36:29<1:05:15, 20.61s/it]"
     ]
    },
    {
     "name": "stdout",
     "output_type": "stream",
     "text": [
      "model-layers-23-mlp-up_proj-weight.npy\n",
      "(2936012, 16) (734004, 16)\n",
      "## Saving train dataset ##\n"
     ]
    },
    {
     "name": "stderr",
     "output_type": "stream",
     "text": [
      "100%|██████████| 2936012/2936012 [00:40<00:00, 73103.80it/s]\n"
     ]
    },
    {
     "name": "stdout",
     "output_type": "stream",
     "text": [
      "## Saving val dataset ##\n"
     ]
    },
    {
     "name": "stderr",
     "output_type": "stream",
     "text": [
      "100%|██████████| 734004/734004 [00:10<00:00, 71182.27it/s]\n",
      " 35%|███▌      | 103/291 [37:21<1:10:35, 22.53s/it]"
     ]
    },
    {
     "name": "stdout",
     "output_type": "stream",
     "text": [
      "model-layers-6-self_attn-k_proj-weight.npy\n",
      "(209715, 16) (52429, 16)\n",
      "## Saving train dataset ##\n"
     ]
    },
    {
     "name": "stderr",
     "output_type": "stream",
     "text": [
      "100%|██████████| 209715/209715 [00:02<00:00, 71216.07it/s]\n"
     ]
    },
    {
     "name": "stdout",
     "output_type": "stream",
     "text": [
      "## Saving val dataset ##\n"
     ]
    },
    {
     "name": "stderr",
     "output_type": "stream",
     "text": [
      "100%|██████████| 52429/52429 [00:00<00:00, 70824.83it/s]\n",
      " 36%|███▌      | 105/291 [37:24<47:06, 15.20s/it]  "
     ]
    },
    {
     "name": "stdout",
     "output_type": "stream",
     "text": [
      "model-layers-23-mlp-gate_proj-weight.npy\n",
      "(2936012, 16) (734004, 16)\n",
      "## Saving train dataset ##\n"
     ]
    },
    {
     "name": "stderr",
     "output_type": "stream",
     "text": [
      "100%|██████████| 2936012/2936012 [00:40<00:00, 71700.92it/s]\n"
     ]
    },
    {
     "name": "stdout",
     "output_type": "stream",
     "text": [
      "## Saving val dataset ##\n"
     ]
    },
    {
     "name": "stderr",
     "output_type": "stream",
     "text": [
      "100%|██████████| 734004/734004 [00:10<00:00, 71259.96it/s]\n",
      " 37%|███▋      | 108/291 [38:16<49:09, 16.12s/it]"
     ]
    },
    {
     "name": "stdout",
     "output_type": "stream",
     "text": [
      "model-layers-10-mlp-gate_proj-weight.npy\n",
      "(2936012, 16) (734004, 16)\n",
      "## Saving train dataset ##\n"
     ]
    },
    {
     "name": "stderr",
     "output_type": "stream",
     "text": [
      "100%|██████████| 2936012/2936012 [00:41<00:00, 71392.83it/s]\n"
     ]
    },
    {
     "name": "stdout",
     "output_type": "stream",
     "text": [
      "## Saving val dataset ##\n"
     ]
    },
    {
     "name": "stderr",
     "output_type": "stream",
     "text": [
      "100%|██████████| 734004/734004 [00:10<00:00, 71484.31it/s]\n",
      " 37%|███▋      | 109/291 [39:08<1:07:31, 22.26s/it]"
     ]
    },
    {
     "name": "stdout",
     "output_type": "stream",
     "text": [
      "model-layers-5-mlp-gate_proj-weight.npy\n",
      "(2936012, 16) (734004, 16)\n",
      "## Saving train dataset ##\n"
     ]
    },
    {
     "name": "stderr",
     "output_type": "stream",
     "text": [
      "100%|██████████| 2936012/2936012 [00:40<00:00, 73023.50it/s]\n"
     ]
    },
    {
     "name": "stdout",
     "output_type": "stream",
     "text": [
      "## Saving val dataset ##\n"
     ]
    },
    {
     "name": "stderr",
     "output_type": "stream",
     "text": [
      "100%|██████████| 734004/734004 [00:10<00:00, 71646.50it/s]\n",
      " 38%|███▊      | 110/291 [40:00<1:24:16, 27.94s/it]"
     ]
    },
    {
     "name": "stdout",
     "output_type": "stream",
     "text": [
      "model-layers-27-self_attn-v_proj-weight.npy\n",
      "(209715, 16) (52429, 16)\n",
      "## Saving train dataset ##\n"
     ]
    },
    {
     "name": "stderr",
     "output_type": "stream",
     "text": [
      "100%|██████████| 209715/209715 [00:02<00:00, 71768.19it/s]\n"
     ]
    },
    {
     "name": "stdout",
     "output_type": "stream",
     "text": [
      "## Saving val dataset ##\n"
     ]
    },
    {
     "name": "stderr",
     "output_type": "stream",
     "text": [
      "100%|██████████| 52429/52429 [00:00<00:00, 72091.81it/s]\n",
      " 38%|███▊      | 111/291 [40:03<1:07:54, 22.64s/it]"
     ]
    },
    {
     "name": "stdout",
     "output_type": "stream",
     "text": [
      "model-layers-21-mlp-down_proj-weight.npy\n",
      "(2936012, 16) (734004, 16)\n",
      "## Saving train dataset ##\n"
     ]
    },
    {
     "name": "stderr",
     "output_type": "stream",
     "text": [
      "100%|██████████| 2936012/2936012 [00:40<00:00, 71684.90it/s]\n"
     ]
    },
    {
     "name": "stdout",
     "output_type": "stream",
     "text": [
      "## Saving val dataset ##\n"
     ]
    },
    {
     "name": "stderr",
     "output_type": "stream",
     "text": [
      "100%|██████████| 734004/734004 [00:10<00:00, 71856.50it/s]\n",
      " 39%|███▉      | 113/291 [40:55<1:10:55, 23.91s/it]"
     ]
    },
    {
     "name": "stdout",
     "output_type": "stream",
     "text": [
      "model-layers-12-mlp-gate_proj-weight.npy\n",
      "(2936012, 16) (734004, 16)\n",
      "## Saving train dataset ##\n"
     ]
    },
    {
     "name": "stderr",
     "output_type": "stream",
     "text": [
      "100%|██████████| 2936012/2936012 [00:40<00:00, 71769.38it/s]\n"
     ]
    },
    {
     "name": "stdout",
     "output_type": "stream",
     "text": [
      "## Saving val dataset ##\n"
     ]
    },
    {
     "name": "stderr",
     "output_type": "stream",
     "text": [
      "100%|██████████| 734004/734004 [00:10<00:00, 71949.56it/s]\n",
      " 39%|███▉      | 114/291 [41:47<1:28:17, 29.93s/it]"
     ]
    },
    {
     "name": "stdout",
     "output_type": "stream",
     "text": [
      "model-layers-28-mlp-down_proj-weight.npy\n",
      "(2936012, 16) (734004, 16)\n",
      "## Saving train dataset ##\n"
     ]
    },
    {
     "name": "stderr",
     "output_type": "stream",
     "text": [
      "100%|██████████| 2936012/2936012 [00:39<00:00, 73646.25it/s]\n"
     ]
    },
    {
     "name": "stdout",
     "output_type": "stream",
     "text": [
      "## Saving val dataset ##\n"
     ]
    },
    {
     "name": "stderr",
     "output_type": "stream",
     "text": [
      "100%|██████████| 734004/734004 [00:10<00:00, 71948.77it/s]\n",
      " 40%|███▉      | 115/291 [42:38<1:42:12, 34.84s/it]"
     ]
    },
    {
     "name": "stdout",
     "output_type": "stream",
     "text": [
      "model-layers-18-self_attn-q_proj-weight.npy\n",
      "(838860, 16) (209716, 16)\n",
      "## Saving train dataset ##\n"
     ]
    },
    {
     "name": "stderr",
     "output_type": "stream",
     "text": [
      "100%|██████████| 838860/838860 [00:11<00:00, 71904.15it/s]\n"
     ]
    },
    {
     "name": "stdout",
     "output_type": "stream",
     "text": [
      "## Saving val dataset ##\n"
     ]
    },
    {
     "name": "stderr",
     "output_type": "stream",
     "text": [
      "100%|██████████| 209716/209716 [00:02<00:00, 71754.62it/s]\n",
      " 40%|███▉      | 116/291 [42:53<1:26:55, 29.80s/it]"
     ]
    },
    {
     "name": "stdout",
     "output_type": "stream",
     "text": [
      "model-layers-4-self_attn-q_proj-weight.npy\n",
      "(838860, 16) (209716, 16)\n",
      "## Saving train dataset ##\n"
     ]
    },
    {
     "name": "stderr",
     "output_type": "stream",
     "text": [
      "100%|██████████| 838860/838860 [00:11<00:00, 72097.49it/s]\n"
     ]
    },
    {
     "name": "stdout",
     "output_type": "stream",
     "text": [
      "## Saving val dataset ##\n"
     ]
    },
    {
     "name": "stderr",
     "output_type": "stream",
     "text": [
      "100%|██████████| 209716/209716 [00:02<00:00, 71909.47it/s]\n",
      " 40%|████      | 117/291 [43:07<1:14:53, 25.82s/it]"
     ]
    },
    {
     "name": "stdout",
     "output_type": "stream",
     "text": [
      "model-layers-26-mlp-gate_proj-weight.npy\n",
      "(2936012, 16) (734004, 16)\n",
      "## Saving train dataset ##\n"
     ]
    },
    {
     "name": "stderr",
     "output_type": "stream",
     "text": [
      "100%|██████████| 2936012/2936012 [00:40<00:00, 71984.87it/s]\n"
     ]
    },
    {
     "name": "stdout",
     "output_type": "stream",
     "text": [
      "## Saving val dataset ##\n"
     ]
    },
    {
     "name": "stderr",
     "output_type": "stream",
     "text": [
      "100%|██████████| 734004/734004 [00:10<00:00, 72128.31it/s]\n",
      " 41%|████      | 118/291 [43:59<1:34:55, 32.92s/it]"
     ]
    },
    {
     "name": "stdout",
     "output_type": "stream",
     "text": [
      "model-layers-15-self_attn-v_proj-weight.npy\n",
      "(209715, 16) (52429, 16)\n",
      "## Saving train dataset ##\n"
     ]
    },
    {
     "name": "stderr",
     "output_type": "stream",
     "text": [
      "100%|██████████| 209715/209715 [00:02<00:00, 72418.03it/s]\n"
     ]
    },
    {
     "name": "stdout",
     "output_type": "stream",
     "text": [
      "## Saving val dataset ##\n"
     ]
    },
    {
     "name": "stderr",
     "output_type": "stream",
     "text": [
      "100%|██████████| 52429/52429 [00:00<00:00, 73136.23it/s]\n",
      " 41%|████      | 119/291 [44:03<1:10:46, 24.69s/it]"
     ]
    },
    {
     "name": "stdout",
     "output_type": "stream",
     "text": [
      "model-layers-12-self_attn-k_proj-weight.npy\n",
      "(209715, 16) (52429, 16)\n",
      "## Saving train dataset ##\n"
     ]
    },
    {
     "name": "stderr",
     "output_type": "stream",
     "text": [
      "100%|██████████| 209715/209715 [00:02<00:00, 72358.76it/s]\n"
     ]
    },
    {
     "name": "stdout",
     "output_type": "stream",
     "text": [
      "## Saving val dataset ##\n"
     ]
    },
    {
     "name": "stderr",
     "output_type": "stream",
     "text": [
      "100%|██████████| 52429/52429 [00:00<00:00, 71824.72it/s]\n",
      " 41%|████      | 120/291 [44:07<53:11, 18.66s/it]  "
     ]
    },
    {
     "name": "stdout",
     "output_type": "stream",
     "text": [
      "model-layers-8-mlp-up_proj-weight.npy\n",
      "(2936012, 16) (734004, 16)\n",
      "## Saving train dataset ##\n"
     ]
    },
    {
     "name": "stderr",
     "output_type": "stream",
     "text": [
      "100%|██████████| 2936012/2936012 [00:40<00:00, 73010.11it/s]\n"
     ]
    },
    {
     "name": "stdout",
     "output_type": "stream",
     "text": [
      "## Saving val dataset ##\n"
     ]
    },
    {
     "name": "stderr",
     "output_type": "stream",
     "text": [
      "100%|██████████| 734004/734004 [00:09<00:00, 73777.78it/s]\n",
      " 42%|████▏     | 121/291 [44:57<1:19:24, 28.03s/it]"
     ]
    },
    {
     "name": "stdout",
     "output_type": "stream",
     "text": [
      "model-layers-30-mlp-gate_proj-weight.npy\n",
      "(2936012, 16) (734004, 16)\n",
      "## Saving train dataset ##\n"
     ]
    },
    {
     "name": "stderr",
     "output_type": "stream",
     "text": [
      "100%|██████████| 2936012/2936012 [00:39<00:00, 74024.13it/s]\n"
     ]
    },
    {
     "name": "stdout",
     "output_type": "stream",
     "text": [
      "## Saving val dataset ##\n"
     ]
    },
    {
     "name": "stderr",
     "output_type": "stream",
     "text": [
      "100%|██████████| 734004/734004 [00:10<00:00, 70217.49it/s]\n",
      " 42%|████▏     | 122/291 [45:48<1:37:47, 34.72s/it]"
     ]
    },
    {
     "name": "stdout",
     "output_type": "stream",
     "text": [
      "model-layers-17-self_attn-o_proj-weight.npy\n",
      "(838860, 16) (209716, 16)\n",
      "## Saving train dataset ##\n"
     ]
    },
    {
     "name": "stderr",
     "output_type": "stream",
     "text": [
      "100%|██████████| 838860/838860 [00:11<00:00, 70156.10it/s]\n"
     ]
    },
    {
     "name": "stdout",
     "output_type": "stream",
     "text": [
      "## Saving val dataset ##\n"
     ]
    },
    {
     "name": "stderr",
     "output_type": "stream",
     "text": [
      "100%|██████████| 209716/209716 [00:02<00:00, 70069.36it/s]\n",
      " 42%|████▏     | 123/291 [46:03<1:21:03, 28.95s/it]"
     ]
    },
    {
     "name": "stdout",
     "output_type": "stream",
     "text": [
      "model-layers-20-mlp-gate_proj-weight.npy\n",
      "(2936012, 16) (734004, 16)\n",
      "## Saving train dataset ##\n"
     ]
    },
    {
     "name": "stderr",
     "output_type": "stream",
     "text": [
      "100%|██████████| 2936012/2936012 [00:40<00:00, 72472.34it/s]\n"
     ]
    },
    {
     "name": "stdout",
     "output_type": "stream",
     "text": [
      "## Saving val dataset ##\n"
     ]
    },
    {
     "name": "stderr",
     "output_type": "stream",
     "text": [
      "100%|██████████| 734004/734004 [00:09<00:00, 74981.21it/s]\n",
      " 43%|████▎     | 124/291 [46:55<1:38:50, 35.51s/it]"
     ]
    },
    {
     "name": "stdout",
     "output_type": "stream",
     "text": [
      "model-layers-26-self_attn-k_proj-weight.npy\n",
      "(209715, 16) (52429, 16)\n",
      "## Saving train dataset ##\n"
     ]
    },
    {
     "name": "stderr",
     "output_type": "stream",
     "text": [
      "100%|██████████| 209715/209715 [00:02<00:00, 75178.07it/s]\n"
     ]
    },
    {
     "name": "stdout",
     "output_type": "stream",
     "text": [
      "## Saving val dataset ##\n"
     ]
    },
    {
     "name": "stderr",
     "output_type": "stream",
     "text": [
      "100%|██████████| 52429/52429 [00:00<00:00, 72958.39it/s]\n",
      " 43%|████▎     | 125/291 [46:58<1:11:55, 26.00s/it]"
     ]
    },
    {
     "name": "stdout",
     "output_type": "stream",
     "text": [
      "model-layers-0-mlp-gate_proj-weight.npy\n",
      "(2936012, 16) (734004, 16)\n",
      "## Saving train dataset ##\n"
     ]
    },
    {
     "name": "stderr",
     "output_type": "stream",
     "text": [
      "100%|██████████| 2936012/2936012 [00:40<00:00, 72855.83it/s]\n"
     ]
    },
    {
     "name": "stdout",
     "output_type": "stream",
     "text": [
      "## Saving val dataset ##\n"
     ]
    },
    {
     "name": "stderr",
     "output_type": "stream",
     "text": [
      "100%|██████████| 734004/734004 [00:10<00:00, 71370.57it/s]\n",
      " 43%|████▎     | 126/291 [47:49<1:32:15, 33.55s/it]"
     ]
    },
    {
     "name": "stdout",
     "output_type": "stream",
     "text": [
      "model-layers-11-mlp-gate_proj-weight.npy\n",
      "(2936012, 16) (734004, 16)\n",
      "## Saving train dataset ##\n"
     ]
    },
    {
     "name": "stderr",
     "output_type": "stream",
     "text": [
      "100%|██████████| 2936012/2936012 [00:41<00:00, 71439.79it/s]\n"
     ]
    },
    {
     "name": "stdout",
     "output_type": "stream",
     "text": [
      "## Saving val dataset ##\n"
     ]
    },
    {
     "name": "stderr",
     "output_type": "stream",
     "text": [
      "100%|██████████| 734004/734004 [00:10<00:00, 71307.76it/s]\n",
      " 44%|████▎     | 127/291 [48:42<1:46:53, 39.11s/it]"
     ]
    },
    {
     "name": "stdout",
     "output_type": "stream",
     "text": [
      "model-layers-30-mlp-up_proj-weight.npy\n",
      "(2936012, 16) (734004, 16)\n",
      "## Saving train dataset ##\n"
     ]
    },
    {
     "name": "stderr",
     "output_type": "stream",
     "text": [
      "100%|██████████| 2936012/2936012 [00:40<00:00, 71671.28it/s]\n"
     ]
    },
    {
     "name": "stdout",
     "output_type": "stream",
     "text": [
      "## Saving val dataset ##\n"
     ]
    },
    {
     "name": "stderr",
     "output_type": "stream",
     "text": [
      "100%|██████████| 734004/734004 [00:10<00:00, 71646.36it/s]\n",
      " 44%|████▍     | 128/291 [49:33<1:56:40, 42.95s/it]"
     ]
    },
    {
     "name": "stdout",
     "output_type": "stream",
     "text": [
      "model-layers-29-mlp-gate_proj-weight.npy\n",
      "(2936012, 16) (734004, 16)\n",
      "## Saving train dataset ##\n"
     ]
    },
    {
     "name": "stderr",
     "output_type": "stream",
     "text": [
      "100%|██████████| 2936012/2936012 [00:40<00:00, 73178.67it/s]\n"
     ]
    },
    {
     "name": "stdout",
     "output_type": "stream",
     "text": [
      "## Saving val dataset ##\n"
     ]
    },
    {
     "name": "stderr",
     "output_type": "stream",
     "text": [
      "100%|██████████| 734004/734004 [00:10<00:00, 71901.99it/s]\n",
      " 44%|████▍     | 129/291 [50:24<2:02:30, 45.37s/it]"
     ]
    },
    {
     "name": "stdout",
     "output_type": "stream",
     "text": [
      "model-layers-31-self_attn-o_proj-weight.npy\n",
      "(838860, 16) (209716, 16)\n",
      "## Saving train dataset ##\n"
     ]
    },
    {
     "name": "stderr",
     "output_type": "stream",
     "text": [
      "100%|██████████| 838860/838860 [00:11<00:00, 71763.34it/s]\n"
     ]
    },
    {
     "name": "stdout",
     "output_type": "stream",
     "text": [
      "## Saving val dataset ##\n"
     ]
    },
    {
     "name": "stderr",
     "output_type": "stream",
     "text": [
      "100%|██████████| 209716/209716 [00:02<00:00, 71305.50it/s]\n",
      " 45%|████▍     | 130/291 [50:39<1:37:12, 36.23s/it]"
     ]
    },
    {
     "name": "stdout",
     "output_type": "stream",
     "text": [
      "model-layers-9-self_attn-k_proj-weight.npy\n",
      "(209715, 16) (52429, 16)\n",
      "## Saving train dataset ##\n"
     ]
    },
    {
     "name": "stderr",
     "output_type": "stream",
     "text": [
      "100%|██████████| 209715/209715 [00:02<00:00, 71513.23it/s]\n"
     ]
    },
    {
     "name": "stdout",
     "output_type": "stream",
     "text": [
      "## Saving val dataset ##\n"
     ]
    },
    {
     "name": "stderr",
     "output_type": "stream",
     "text": [
      "100%|██████████| 52429/52429 [00:00<00:00, 71094.59it/s]\n",
      " 45%|████▌     | 131/291 [50:43<1:10:37, 26.49s/it]"
     ]
    },
    {
     "name": "stdout",
     "output_type": "stream",
     "text": [
      "model-layers-23-self_attn-q_proj-weight.npy\n",
      "(838860, 16) (209716, 16)\n",
      "## Saving train dataset ##\n"
     ]
    },
    {
     "name": "stderr",
     "output_type": "stream",
     "text": [
      "100%|██████████| 838860/838860 [00:11<00:00, 71996.24it/s]\n"
     ]
    },
    {
     "name": "stdout",
     "output_type": "stream",
     "text": [
      "## Saving val dataset ##\n"
     ]
    },
    {
     "name": "stderr",
     "output_type": "stream",
     "text": [
      "100%|██████████| 209716/209716 [00:02<00:00, 71317.18it/s]\n",
      " 45%|████▌     | 132/291 [50:58<1:00:54, 22.98s/it]"
     ]
    },
    {
     "name": "stdout",
     "output_type": "stream",
     "text": [
      "model-layers-23-self_attn-v_proj-weight.npy\n",
      "(209715, 16) (52429, 16)\n",
      "## Saving train dataset ##\n"
     ]
    },
    {
     "name": "stderr",
     "output_type": "stream",
     "text": [
      "100%|██████████| 209715/209715 [00:02<00:00, 72377.73it/s]\n"
     ]
    },
    {
     "name": "stdout",
     "output_type": "stream",
     "text": [
      "## Saving val dataset ##\n"
     ]
    },
    {
     "name": "stderr",
     "output_type": "stream",
     "text": [
      "100%|██████████| 52429/52429 [00:00<00:00, 71667.00it/s]\n",
      " 46%|████▋     | 135/291 [51:02<27:56, 10.75s/it]  "
     ]
    },
    {
     "name": "stdout",
     "output_type": "stream",
     "text": [
      "model-layers-12-self_attn-o_proj-weight.npy\n",
      "(838860, 16) (209716, 16)\n",
      "## Saving train dataset ##\n"
     ]
    },
    {
     "name": "stderr",
     "output_type": "stream",
     "text": [
      "100%|██████████| 838860/838860 [00:11<00:00, 71976.17it/s]\n"
     ]
    },
    {
     "name": "stdout",
     "output_type": "stream",
     "text": [
      "## Saving val dataset ##\n"
     ]
    },
    {
     "name": "stderr",
     "output_type": "stream",
     "text": [
      "100%|██████████| 209716/209716 [00:02<00:00, 71908.08it/s]\n",
      " 47%|████▋     | 136/291 [51:16<29:58, 11.60s/it]"
     ]
    },
    {
     "name": "stdout",
     "output_type": "stream",
     "text": [
      "model-layers-21-self_attn-k_proj-weight.npy\n",
      "(209715, 16) (52429, 16)\n",
      "## Saving train dataset ##\n"
     ]
    },
    {
     "name": "stderr",
     "output_type": "stream",
     "text": [
      "100%|██████████| 209715/209715 [00:02<00:00, 71792.72it/s]\n"
     ]
    },
    {
     "name": "stdout",
     "output_type": "stream",
     "text": [
      "## Saving val dataset ##\n"
     ]
    },
    {
     "name": "stderr",
     "output_type": "stream",
     "text": [
      "100%|██████████| 52429/52429 [00:00<00:00, 71166.49it/s]\n",
      " 47%|████▋     | 137/291 [51:20<25:04,  9.77s/it]"
     ]
    },
    {
     "name": "stdout",
     "output_type": "stream",
     "text": [
      "model-layers-25-mlp-up_proj-weight.npy\n",
      "(2936012, 16) (734004, 16)\n",
      "## Saving train dataset ##\n"
     ]
    },
    {
     "name": "stderr",
     "output_type": "stream",
     "text": [
      "100%|██████████| 2936012/2936012 [00:40<00:00, 71803.87it/s]\n"
     ]
    },
    {
     "name": "stdout",
     "output_type": "stream",
     "text": [
      "## Saving val dataset ##\n"
     ]
    },
    {
     "name": "stderr",
     "output_type": "stream",
     "text": [
      "100%|██████████| 734004/734004 [00:10<00:00, 71983.48it/s]\n",
      " 47%|████▋     | 138/291 [52:12<51:35, 20.23s/it]"
     ]
    },
    {
     "name": "stdout",
     "output_type": "stream",
     "text": [
      "model-layers-4-self_attn-o_proj-weight.npy\n",
      "(838860, 16) (209716, 16)\n",
      "## Saving train dataset ##\n"
     ]
    },
    {
     "name": "stderr",
     "output_type": "stream",
     "text": [
      "100%|██████████| 838860/838860 [00:11<00:00, 72080.98it/s]\n"
     ]
    },
    {
     "name": "stdout",
     "output_type": "stream",
     "text": [
      "## Saving val dataset ##\n"
     ]
    },
    {
     "name": "stderr",
     "output_type": "stream",
     "text": [
      "100%|██████████| 209716/209716 [00:02<00:00, 72297.36it/s]\n",
      " 48%|████▊     | 140/291 [52:27<37:28, 14.89s/it]"
     ]
    },
    {
     "name": "stdout",
     "output_type": "stream",
     "text": [
      "model-layers-23-mlp-down_proj-weight.npy\n",
      "(2936012, 16) (734004, 16)\n",
      "## Saving train dataset ##\n"
     ]
    },
    {
     "name": "stderr",
     "output_type": "stream",
     "text": [
      "100%|██████████| 2936012/2936012 [00:40<00:00, 73020.36it/s]\n"
     ]
    },
    {
     "name": "stdout",
     "output_type": "stream",
     "text": [
      "## Saving val dataset ##\n"
     ]
    },
    {
     "name": "stderr",
     "output_type": "stream",
     "text": [
      "100%|██████████| 734004/734004 [00:10<00:00, 72063.72it/s]\n",
      " 48%|████▊     | 141/291 [53:18<57:56, 23.18s/it]"
     ]
    },
    {
     "name": "stdout",
     "output_type": "stream",
     "text": [
      "model-layers-29-self_attn-o_proj-weight.npy\n",
      "(838860, 16) (209716, 16)\n",
      "## Saving train dataset ##\n"
     ]
    },
    {
     "name": "stderr",
     "output_type": "stream",
     "text": [
      "100%|██████████| 838860/838860 [00:11<00:00, 72146.07it/s]\n"
     ]
    },
    {
     "name": "stdout",
     "output_type": "stream",
     "text": [
      "## Saving val dataset ##\n"
     ]
    },
    {
     "name": "stderr",
     "output_type": "stream",
     "text": [
      "100%|██████████| 209716/209716 [00:02<00:00, 71969.15it/s]\n",
      " 49%|████▉     | 142/291 [53:32<52:24, 21.10s/it]"
     ]
    },
    {
     "name": "stdout",
     "output_type": "stream",
     "text": [
      "model-layers-16-self_attn-o_proj-weight.npy\n",
      "(838860, 16) (209716, 16)\n",
      "## Saving train dataset ##\n"
     ]
    },
    {
     "name": "stderr",
     "output_type": "stream",
     "text": [
      "100%|██████████| 838860/838860 [00:11<00:00, 72385.82it/s]\n"
     ]
    },
    {
     "name": "stdout",
     "output_type": "stream",
     "text": [
      "## Saving val dataset ##\n"
     ]
    },
    {
     "name": "stderr",
     "output_type": "stream",
     "text": [
      "100%|██████████| 209716/209716 [00:02<00:00, 71900.09it/s]\n",
      " 49%|████▉     | 143/291 [53:47<47:56, 19.44s/it]"
     ]
    },
    {
     "name": "stdout",
     "output_type": "stream",
     "text": [
      "model-layers-3-self_attn-o_proj-weight.npy\n",
      "(838860, 16) (209716, 16)\n",
      "## Saving train dataset ##\n"
     ]
    },
    {
     "name": "stderr",
     "output_type": "stream",
     "text": [
      "100%|██████████| 838860/838860 [00:11<00:00, 71739.98it/s]\n"
     ]
    },
    {
     "name": "stdout",
     "output_type": "stream",
     "text": [
      "## Saving val dataset ##\n"
     ]
    },
    {
     "name": "stderr",
     "output_type": "stream",
     "text": [
      "100%|██████████| 209716/209716 [00:02<00:00, 71951.76it/s]\n",
      " 49%|████▉     | 144/291 [54:02<44:33, 18.18s/it]"
     ]
    },
    {
     "name": "stdout",
     "output_type": "stream",
     "text": [
      "model-layers-28-mlp-up_proj-weight.npy\n",
      "(2936012, 16) (734004, 16)\n",
      "## Saving train dataset ##\n"
     ]
    },
    {
     "name": "stderr",
     "output_type": "stream",
     "text": [
      "100%|██████████| 2936012/2936012 [00:40<00:00, 72043.66it/s]\n"
     ]
    },
    {
     "name": "stdout",
     "output_type": "stream",
     "text": [
      "## Saving val dataset ##\n"
     ]
    },
    {
     "name": "stderr",
     "output_type": "stream",
     "text": [
      "100%|██████████| 734004/734004 [00:10<00:00, 71969.02it/s]\n",
      " 50%|████▉     | 145/291 [54:54<1:07:01, 27.54s/it]"
     ]
    },
    {
     "name": "stdout",
     "output_type": "stream",
     "text": [
      "model-layers-26-self_attn-q_proj-weight.npy\n",
      "(838860, 16) (209716, 16)\n",
      "## Saving train dataset ##\n"
     ]
    },
    {
     "name": "stderr",
     "output_type": "stream",
     "text": [
      "100%|██████████| 838860/838860 [00:11<00:00, 71717.11it/s]\n"
     ]
    },
    {
     "name": "stdout",
     "output_type": "stream",
     "text": [
      "## Saving val dataset ##\n"
     ]
    },
    {
     "name": "stderr",
     "output_type": "stream",
     "text": [
      "100%|██████████| 209716/209716 [00:02<00:00, 72989.57it/s]\n",
      " 50%|█████     | 146/291 [55:08<57:46, 23.91s/it]  "
     ]
    },
    {
     "name": "stdout",
     "output_type": "stream",
     "text": [
      "model-layers-7-mlp-down_proj-weight.npy\n",
      "(2936012, 16) (734004, 16)\n",
      "## Saving train dataset ##\n"
     ]
    },
    {
     "name": "stderr",
     "output_type": "stream",
     "text": [
      "100%|██████████| 2936012/2936012 [00:39<00:00, 73489.52it/s]\n"
     ]
    },
    {
     "name": "stdout",
     "output_type": "stream",
     "text": [
      "## Saving val dataset ##\n"
     ]
    },
    {
     "name": "stderr",
     "output_type": "stream",
     "text": [
      "100%|██████████| 734004/734004 [00:09<00:00, 74290.57it/s]\n",
      " 51%|█████     | 147/291 [55:59<1:15:54, 31.63s/it]"
     ]
    },
    {
     "name": "stdout",
     "output_type": "stream",
     "text": [
      "model-layers-4-mlp-down_proj-weight.npy\n",
      "(2936012, 16) (734004, 16)\n",
      "## Saving train dataset ##\n"
     ]
    },
    {
     "name": "stderr",
     "output_type": "stream",
     "text": [
      "100%|██████████| 2936012/2936012 [00:41<00:00, 70142.67it/s]\n"
     ]
    },
    {
     "name": "stdout",
     "output_type": "stream",
     "text": [
      "## Saving val dataset ##\n"
     ]
    },
    {
     "name": "stderr",
     "output_type": "stream",
     "text": [
      "100%|██████████| 734004/734004 [00:10<00:00, 69661.88it/s]\n",
      " 52%|█████▏    | 150/291 [56:52<56:12, 23.92s/it]  "
     ]
    },
    {
     "name": "stdout",
     "output_type": "stream",
     "text": [
      "model-layers-31-self_attn-v_proj-weight.npy\n",
      "(209715, 16) (52429, 16)\n",
      "## Saving train dataset ##\n"
     ]
    },
    {
     "name": "stderr",
     "output_type": "stream",
     "text": [
      "100%|██████████| 209715/209715 [00:02<00:00, 72575.34it/s]\n"
     ]
    },
    {
     "name": "stdout",
     "output_type": "stream",
     "text": [
      "## Saving val dataset ##\n"
     ]
    },
    {
     "name": "stderr",
     "output_type": "stream",
     "text": [
      "100%|██████████| 52429/52429 [00:00<00:00, 73330.04it/s]\n",
      " 52%|█████▏    | 151/291 [56:56<45:56, 19.69s/it]"
     ]
    },
    {
     "name": "stdout",
     "output_type": "stream",
     "text": [
      "model-layers-16-self_attn-k_proj-weight.npy\n",
      "(209715, 16) (52429, 16)\n",
      "## Saving train dataset ##\n"
     ]
    },
    {
     "name": "stderr",
     "output_type": "stream",
     "text": [
      "100%|██████████| 209715/209715 [00:02<00:00, 71833.76it/s]\n"
     ]
    },
    {
     "name": "stdout",
     "output_type": "stream",
     "text": [
      "## Saving val dataset ##\n"
     ]
    },
    {
     "name": "stderr",
     "output_type": "stream",
     "text": [
      "100%|██████████| 52429/52429 [00:00<00:00, 74129.25it/s]\n",
      " 53%|█████▎    | 153/291 [57:00<29:57, 13.02s/it]"
     ]
    },
    {
     "name": "stdout",
     "output_type": "stream",
     "text": [
      "model-layers-1-mlp-down_proj-weight.npy\n",
      "(2936012, 16) (734004, 16)\n",
      "## Saving train dataset ##\n"
     ]
    },
    {
     "name": "stderr",
     "output_type": "stream",
     "text": [
      "100%|██████████| 2936012/2936012 [00:39<00:00, 73747.32it/s]\n"
     ]
    },
    {
     "name": "stdout",
     "output_type": "stream",
     "text": [
      "## Saving val dataset ##\n"
     ]
    },
    {
     "name": "stderr",
     "output_type": "stream",
     "text": [
      "100%|██████████| 734004/734004 [00:09<00:00, 74569.00it/s]\n",
      " 53%|█████▎    | 154/291 [57:50<47:41, 20.89s/it]"
     ]
    },
    {
     "name": "stdout",
     "output_type": "stream",
     "text": [
      "model-layers-0-self_attn-v_proj-weight.npy\n",
      "(209715, 16) (52429, 16)\n",
      "## Saving train dataset ##\n"
     ]
    },
    {
     "name": "stderr",
     "output_type": "stream",
     "text": [
      "100%|██████████| 209715/209715 [00:02<00:00, 71551.08it/s]\n"
     ]
    },
    {
     "name": "stdout",
     "output_type": "stream",
     "text": [
      "## Saving val dataset ##\n"
     ]
    },
    {
     "name": "stderr",
     "output_type": "stream",
     "text": [
      "100%|██████████| 52429/52429 [00:00<00:00, 71526.99it/s]\n",
      " 53%|█████▎    | 155/291 [57:54<38:20, 16.92s/it]"
     ]
    },
    {
     "name": "stdout",
     "output_type": "stream",
     "text": [
      "model-layers-24-self_attn-o_proj-weight.npy\n",
      "(838860, 16) (209716, 16)\n",
      "## Saving train dataset ##\n"
     ]
    },
    {
     "name": "stderr",
     "output_type": "stream",
     "text": [
      "100%|██████████| 838860/838860 [00:11<00:00, 71210.06it/s]\n"
     ]
    },
    {
     "name": "stdout",
     "output_type": "stream",
     "text": [
      "## Saving val dataset ##\n"
     ]
    },
    {
     "name": "stderr",
     "output_type": "stream",
     "text": [
      "100%|██████████| 209716/209716 [00:02<00:00, 71378.58it/s]\n",
      " 54%|█████▍    | 157/291 [58:09<29:22, 13.16s/it]"
     ]
    },
    {
     "name": "stdout",
     "output_type": "stream",
     "text": [
      "model-layers-21-self_attn-o_proj-weight.npy\n",
      "(838860, 16) (209716, 16)\n",
      "## Saving train dataset ##\n"
     ]
    },
    {
     "name": "stderr",
     "output_type": "stream",
     "text": [
      "100%|██████████| 838860/838860 [00:11<00:00, 70882.10it/s]\n"
     ]
    },
    {
     "name": "stdout",
     "output_type": "stream",
     "text": [
      "## Saving val dataset ##\n"
     ]
    },
    {
     "name": "stderr",
     "output_type": "stream",
     "text": [
      "100%|██████████| 209716/209716 [00:02<00:00, 71039.46it/s]\n",
      " 54%|█████▍    | 158/291 [58:24<30:03, 13.56s/it]"
     ]
    },
    {
     "name": "stdout",
     "output_type": "stream",
     "text": [
      "model-layers-27-self_attn-q_proj-weight.npy\n",
      "(838860, 16) (209716, 16)\n",
      "## Saving train dataset ##\n"
     ]
    },
    {
     "name": "stderr",
     "output_type": "stream",
     "text": [
      "100%|██████████| 838860/838860 [00:11<00:00, 71221.75it/s]\n"
     ]
    },
    {
     "name": "stdout",
     "output_type": "stream",
     "text": [
      "## Saving val dataset ##\n"
     ]
    },
    {
     "name": "stderr",
     "output_type": "stream",
     "text": [
      "100%|██████████| 209716/209716 [00:02<00:00, 71023.81it/s]\n",
      " 55%|█████▍    | 159/291 [58:38<30:33, 13.89s/it]"
     ]
    },
    {
     "name": "stdout",
     "output_type": "stream",
     "text": [
      "model-layers-9-mlp-up_proj-weight.npy\n",
      "(2936012, 16) (734004, 16)\n",
      "## Saving train dataset ##\n"
     ]
    },
    {
     "name": "stderr",
     "output_type": "stream",
     "text": [
      "100%|██████████| 2936012/2936012 [00:40<00:00, 71642.69it/s]\n"
     ]
    },
    {
     "name": "stdout",
     "output_type": "stream",
     "text": [
      "## Saving val dataset ##\n"
     ]
    },
    {
     "name": "stderr",
     "output_type": "stream",
     "text": [
      "100%|██████████| 734004/734004 [00:10<00:00, 71535.32it/s]\n",
      " 55%|█████▍    | 160/291 [59:30<51:34, 23.62s/it]"
     ]
    },
    {
     "name": "stdout",
     "output_type": "stream",
     "text": [
      "model-layers-0-mlp-up_proj-weight.npy\n",
      "(2936012, 16) (734004, 16)\n",
      "## Saving train dataset ##\n"
     ]
    },
    {
     "name": "stderr",
     "output_type": "stream",
     "text": [
      "100%|██████████| 2936012/2936012 [00:41<00:00, 71566.22it/s]\n"
     ]
    },
    {
     "name": "stdout",
     "output_type": "stream",
     "text": [
      "## Saving val dataset ##\n"
     ]
    },
    {
     "name": "stderr",
     "output_type": "stream",
     "text": [
      "100%|██████████| 734004/734004 [00:09<00:00, 73684.95it/s]\n",
      " 56%|█████▌    | 162/291 [1:00:22<52:48, 24.56s/it]"
     ]
    },
    {
     "name": "stdout",
     "output_type": "stream",
     "text": [
      "model-layers-27-self_attn-k_proj-weight.npy\n",
      "(209715, 16) (52429, 16)\n",
      "## Saving train dataset ##\n"
     ]
    },
    {
     "name": "stderr",
     "output_type": "stream",
     "text": [
      "100%|██████████| 209715/209715 [00:02<00:00, 73946.86it/s]\n"
     ]
    },
    {
     "name": "stdout",
     "output_type": "stream",
     "text": [
      "## Saving val dataset ##\n"
     ]
    },
    {
     "name": "stderr",
     "output_type": "stream",
     "text": [
      "100%|██████████| 52429/52429 [00:00<00:00, 72362.56it/s]\n",
      " 56%|█████▋    | 164/291 [1:00:26<33:52, 16.01s/it]"
     ]
    },
    {
     "name": "stdout",
     "output_type": "stream",
     "text": [
      "model-layers-15-self_attn-q_proj-weight.npy\n",
      "(838860, 16) (209716, 16)\n",
      "## Saving train dataset ##\n"
     ]
    },
    {
     "name": "stderr",
     "output_type": "stream",
     "text": [
      "100%|██████████| 838860/838860 [00:11<00:00, 72419.58it/s]\n"
     ]
    },
    {
     "name": "stdout",
     "output_type": "stream",
     "text": [
      "## Saving val dataset ##\n"
     ]
    },
    {
     "name": "stderr",
     "output_type": "stream",
     "text": [
      "100%|██████████| 209716/209716 [00:02<00:00, 70903.64it/s]\n",
      " 57%|█████▋    | 166/291 [1:00:40<27:03, 12.99s/it]"
     ]
    },
    {
     "name": "stdout",
     "output_type": "stream",
     "text": [
      "model-layers-20-self_attn-k_proj-weight.npy\n",
      "(209715, 16) (52429, 16)\n",
      "## Saving train dataset ##\n"
     ]
    },
    {
     "name": "stderr",
     "output_type": "stream",
     "text": [
      "100%|██████████| 209715/209715 [00:02<00:00, 70549.77it/s]\n"
     ]
    },
    {
     "name": "stdout",
     "output_type": "stream",
     "text": [
      "## Saving val dataset ##\n"
     ]
    },
    {
     "name": "stderr",
     "output_type": "stream",
     "text": [
      "100%|██████████| 52429/52429 [00:00<00:00, 70247.18it/s]\n",
      " 57%|█████▋    | 167/291 [1:00:44<23:02, 11.15s/it]"
     ]
    },
    {
     "name": "stdout",
     "output_type": "stream",
     "text": [
      "model-layers-14-self_attn-q_proj-weight.npy\n",
      "(838860, 16) (209716, 16)\n",
      "## Saving train dataset ##\n"
     ]
    },
    {
     "name": "stderr",
     "output_type": "stream",
     "text": [
      "100%|██████████| 838860/838860 [00:11<00:00, 70836.52it/s]\n"
     ]
    },
    {
     "name": "stdout",
     "output_type": "stream",
     "text": [
      "## Saving val dataset ##\n"
     ]
    },
    {
     "name": "stderr",
     "output_type": "stream",
     "text": [
      "100%|██████████| 209716/209716 [00:02<00:00, 71349.86it/s]\n",
      " 58%|█████▊    | 169/291 [1:00:59<19:57,  9.82s/it]"
     ]
    },
    {
     "name": "stdout",
     "output_type": "stream",
     "text": [
      "model-layers-19-mlp-gate_proj-weight.npy\n",
      "(2936012, 16) (734004, 16)\n",
      "## Saving train dataset ##\n"
     ]
    },
    {
     "name": "stderr",
     "output_type": "stream",
     "text": [
      "100%|██████████| 2936012/2936012 [00:41<00:00, 71041.41it/s]\n"
     ]
    },
    {
     "name": "stdout",
     "output_type": "stream",
     "text": [
      "## Saving val dataset ##\n"
     ]
    },
    {
     "name": "stderr",
     "output_type": "stream",
     "text": [
      "100%|██████████| 734004/734004 [00:10<00:00, 70881.04it/s]\n",
      " 58%|█████▊    | 170/291 [1:01:52<37:29, 18.59s/it]"
     ]
    },
    {
     "name": "stdout",
     "output_type": "stream",
     "text": [
      "model-layers-15-self_attn-k_proj-weight.npy\n",
      "(209715, 16) (52429, 16)\n",
      "## Saving train dataset ##\n"
     ]
    },
    {
     "name": "stderr",
     "output_type": "stream",
     "text": [
      "100%|██████████| 209715/209715 [00:02<00:00, 71583.25it/s]\n"
     ]
    },
    {
     "name": "stdout",
     "output_type": "stream",
     "text": [
      "## Saving val dataset ##\n"
     ]
    },
    {
     "name": "stderr",
     "output_type": "stream",
     "text": [
      "100%|██████████| 52429/52429 [00:00<00:00, 71513.57it/s]\n",
      " 59%|█████▉    | 171/291 [1:01:55<30:25, 15.21s/it]"
     ]
    },
    {
     "name": "stdout",
     "output_type": "stream",
     "text": [
      "model-layers-1-mlp-gate_proj-weight.npy\n",
      "(2936012, 16) (734004, 16)\n",
      "## Saving train dataset ##\n"
     ]
    },
    {
     "name": "stderr",
     "output_type": "stream",
     "text": [
      "100%|██████████| 2936012/2936012 [00:40<00:00, 71701.07it/s]\n"
     ]
    },
    {
     "name": "stdout",
     "output_type": "stream",
     "text": [
      "## Saving val dataset ##\n"
     ]
    },
    {
     "name": "stderr",
     "output_type": "stream",
     "text": [
      "100%|██████████| 734004/734004 [00:10<00:00, 72153.45it/s]\n",
      " 59%|█████▉    | 173/291 [1:02:47<38:12, 19.43s/it]"
     ]
    },
    {
     "name": "stdout",
     "output_type": "stream",
     "text": [
      "model-layers-25-mlp-down_proj-weight.npy\n",
      "(2936012, 16) (734004, 16)\n",
      "## Saving train dataset ##\n"
     ]
    },
    {
     "name": "stderr",
     "output_type": "stream",
     "text": [
      "100%|██████████| 2936012/2936012 [00:40<00:00, 72583.71it/s]\n"
     ]
    },
    {
     "name": "stdout",
     "output_type": "stream",
     "text": [
      "## Saving val dataset ##\n"
     ]
    },
    {
     "name": "stderr",
     "output_type": "stream",
     "text": [
      "100%|██████████| 734004/734004 [00:10<00:00, 72463.64it/s]\n",
      " 60%|██████    | 175/291 [1:03:38<41:53, 21.67s/it]"
     ]
    },
    {
     "name": "stdout",
     "output_type": "stream",
     "text": [
      "model-layers-2-self_attn-k_proj-weight.npy\n",
      "(209715, 16) (52429, 16)\n",
      "## Saving train dataset ##\n"
     ]
    },
    {
     "name": "stderr",
     "output_type": "stream",
     "text": [
      "100%|██████████| 209715/209715 [00:02<00:00, 71955.29it/s]\n"
     ]
    },
    {
     "name": "stdout",
     "output_type": "stream",
     "text": [
      "## Saving val dataset ##\n"
     ]
    },
    {
     "name": "stderr",
     "output_type": "stream",
     "text": [
      "100%|██████████| 52429/52429 [00:00<00:00, 71700.48it/s]\n",
      " 60%|██████    | 176/291 [1:03:42<34:28, 17.99s/it]"
     ]
    },
    {
     "name": "stdout",
     "output_type": "stream",
     "text": [
      "model-layers-4-self_attn-k_proj-weight.npy\n",
      "(209715, 16) (52429, 16)\n",
      "## Saving train dataset ##\n"
     ]
    },
    {
     "name": "stderr",
     "output_type": "stream",
     "text": [
      "100%|██████████| 209715/209715 [00:02<00:00, 72299.68it/s]\n"
     ]
    },
    {
     "name": "stdout",
     "output_type": "stream",
     "text": [
      "## Saving val dataset ##\n"
     ]
    },
    {
     "name": "stderr",
     "output_type": "stream",
     "text": [
      "100%|██████████| 52429/52429 [00:00<00:00, 70548.24it/s]\n",
      " 61%|██████    | 177/291 [1:03:46<28:02, 14.76s/it]"
     ]
    },
    {
     "name": "stdout",
     "output_type": "stream",
     "text": [
      "model-layers-17-mlp-up_proj-weight.npy\n",
      "(2936012, 16) (734004, 16)\n",
      "## Saving train dataset ##\n"
     ]
    },
    {
     "name": "stderr",
     "output_type": "stream",
     "text": [
      "100%|██████████| 2936012/2936012 [00:40<00:00, 71899.23it/s]\n"
     ]
    },
    {
     "name": "stdout",
     "output_type": "stream",
     "text": [
      "## Saving val dataset ##\n"
     ]
    },
    {
     "name": "stderr",
     "output_type": "stream",
     "text": [
      "100%|██████████| 734004/734004 [00:10<00:00, 72478.95it/s]\n",
      " 61%|██████    | 178/291 [1:04:38<44:46, 23.78s/it]"
     ]
    },
    {
     "name": "stdout",
     "output_type": "stream",
     "text": [
      "model-layers-9-mlp-down_proj-weight.npy\n",
      "(2936012, 16) (734004, 16)\n",
      "## Saving train dataset ##\n"
     ]
    },
    {
     "name": "stderr",
     "output_type": "stream",
     "text": [
      "100%|██████████| 2936012/2936012 [00:40<00:00, 71853.44it/s]\n"
     ]
    },
    {
     "name": "stdout",
     "output_type": "stream",
     "text": [
      "## Saving val dataset ##\n"
     ]
    },
    {
     "name": "stderr",
     "output_type": "stream",
     "text": [
      "100%|██████████| 734004/734004 [00:10<00:00, 71916.73it/s]\n",
      " 62%|██████▏   | 181/291 [1:05:29<37:29, 20.45s/it]"
     ]
    },
    {
     "name": "stdout",
     "output_type": "stream",
     "text": [
      "model-layers-6-self_attn-o_proj-weight.npy\n",
      "(838860, 16) (209716, 16)\n",
      "## Saving train dataset ##\n"
     ]
    },
    {
     "name": "stderr",
     "output_type": "stream",
     "text": [
      "100%|██████████| 838860/838860 [00:11<00:00, 73930.51it/s]\n"
     ]
    },
    {
     "name": "stdout",
     "output_type": "stream",
     "text": [
      "## Saving val dataset ##\n"
     ]
    },
    {
     "name": "stderr",
     "output_type": "stream",
     "text": [
      "100%|██████████| 209716/209716 [00:02<00:00, 74483.44it/s]\n",
      " 63%|██████▎   | 182/291 [1:05:44<34:58, 19.26s/it]"
     ]
    },
    {
     "name": "stdout",
     "output_type": "stream",
     "text": [
      "model-layers-6-mlp-down_proj-weight.npy\n",
      "(2936012, 16) (734004, 16)\n",
      "## Saving train dataset ##\n"
     ]
    },
    {
     "name": "stderr",
     "output_type": "stream",
     "text": [
      "100%|██████████| 2936012/2936012 [00:40<00:00, 73178.71it/s]\n"
     ]
    },
    {
     "name": "stdout",
     "output_type": "stream",
     "text": [
      "## Saving val dataset ##\n"
     ]
    },
    {
     "name": "stderr",
     "output_type": "stream",
     "text": [
      "100%|██████████| 734004/734004 [00:10<00:00, 72593.72it/s]\n",
      " 63%|██████▎   | 183/291 [1:06:35<47:07, 26.18s/it]"
     ]
    },
    {
     "name": "stdout",
     "output_type": "stream",
     "text": [
      "model-layers-29-self_attn-q_proj-weight.npy\n",
      "(838860, 16) (209716, 16)\n",
      "## Saving train dataset ##\n"
     ]
    },
    {
     "name": "stderr",
     "output_type": "stream",
     "text": [
      "100%|██████████| 838860/838860 [00:12<00:00, 69127.70it/s]\n"
     ]
    },
    {
     "name": "stdout",
     "output_type": "stream",
     "text": [
      "## Saving val dataset ##\n"
     ]
    },
    {
     "name": "stderr",
     "output_type": "stream",
     "text": [
      "100%|██████████| 209716/209716 [00:03<00:00, 69340.36it/s]\n",
      " 64%|██████▎   | 185/291 [1:06:50<33:41, 19.07s/it]"
     ]
    },
    {
     "name": "stdout",
     "output_type": "stream",
     "text": [
      "model-layers-11-self_attn-k_proj-weight.npy\n",
      "(209715, 16) (52429, 16)\n",
      "## Saving train dataset ##\n"
     ]
    },
    {
     "name": "stderr",
     "output_type": "stream",
     "text": [
      "100%|██████████| 209715/209715 [00:03<00:00, 68856.12it/s]\n"
     ]
    },
    {
     "name": "stdout",
     "output_type": "stream",
     "text": [
      "## Saving val dataset ##\n"
     ]
    },
    {
     "name": "stderr",
     "output_type": "stream",
     "text": [
      "100%|██████████| 52429/52429 [00:00<00:00, 69062.72it/s]\n",
      " 64%|██████▍   | 186/291 [1:06:54<27:38, 15.79s/it]"
     ]
    },
    {
     "name": "stdout",
     "output_type": "stream",
     "text": [
      "model-layers-14-mlp-down_proj-weight.npy\n",
      "(2936012, 16) (734004, 16)\n",
      "## Saving train dataset ##\n"
     ]
    },
    {
     "name": "stderr",
     "output_type": "stream",
     "text": [
      "100%|██████████| 2936012/2936012 [00:41<00:00, 71356.96it/s]\n"
     ]
    },
    {
     "name": "stdout",
     "output_type": "stream",
     "text": [
      "## Saving val dataset ##\n"
     ]
    },
    {
     "name": "stderr",
     "output_type": "stream",
     "text": [
      "100%|██████████| 734004/734004 [00:09<00:00, 74686.99it/s]\n",
      " 64%|██████▍   | 187/291 [1:07:46<42:01, 24.24s/it]"
     ]
    },
    {
     "name": "stdout",
     "output_type": "stream",
     "text": [
      "model-layers-5-mlp-up_proj-weight.npy\n",
      "(2936012, 16) (734004, 16)\n",
      "## Saving train dataset ##\n"
     ]
    },
    {
     "name": "stderr",
     "output_type": "stream",
     "text": [
      "100%|██████████| 2936012/2936012 [00:40<00:00, 73149.86it/s]\n"
     ]
    },
    {
     "name": "stdout",
     "output_type": "stream",
     "text": [
      "## Saving val dataset ##\n"
     ]
    },
    {
     "name": "stderr",
     "output_type": "stream",
     "text": [
      "100%|██████████| 734004/734004 [00:10<00:00, 71290.96it/s]\n",
      " 65%|██████▍   | 188/291 [1:08:37<53:14, 31.01s/it]"
     ]
    },
    {
     "name": "stdout",
     "output_type": "stream",
     "text": [
      "model-layers-3-self_attn-k_proj-weight.npy\n",
      "(209715, 16) (52429, 16)\n",
      "## Saving train dataset ##\n"
     ]
    },
    {
     "name": "stderr",
     "output_type": "stream",
     "text": [
      "100%|██████████| 209715/209715 [00:02<00:00, 71304.43it/s]\n"
     ]
    },
    {
     "name": "stdout",
     "output_type": "stream",
     "text": [
      "## Saving val dataset ##\n"
     ]
    },
    {
     "name": "stderr",
     "output_type": "stream",
     "text": [
      "100%|██████████| 52429/52429 [00:00<00:00, 70495.39it/s]\n",
      " 66%|██████▌   | 191/291 [1:08:40<25:56, 15.57s/it]"
     ]
    },
    {
     "name": "stdout",
     "output_type": "stream",
     "text": [
      "model-layers-29-self_attn-v_proj-weight.npy\n",
      "(209715, 16) (52429, 16)\n",
      "## Saving train dataset ##\n"
     ]
    },
    {
     "name": "stderr",
     "output_type": "stream",
     "text": [
      "100%|██████████| 209715/209715 [00:02<00:00, 71597.77it/s]\n"
     ]
    },
    {
     "name": "stdout",
     "output_type": "stream",
     "text": [
      "## Saving val dataset ##\n"
     ]
    },
    {
     "name": "stderr",
     "output_type": "stream",
     "text": [
      "100%|██████████| 52429/52429 [00:00<00:00, 70372.05it/s]\n",
      " 66%|██████▌   | 192/291 [1:08:44<21:48, 13.22s/it]"
     ]
    },
    {
     "name": "stdout",
     "output_type": "stream",
     "text": [
      "model-layers-30-self_attn-k_proj-weight.npy\n",
      "(209715, 16) (52429, 16)\n",
      "## Saving train dataset ##\n"
     ]
    },
    {
     "name": "stderr",
     "output_type": "stream",
     "text": [
      "100%|██████████| 209715/209715 [00:02<00:00, 71062.39it/s]\n"
     ]
    },
    {
     "name": "stdout",
     "output_type": "stream",
     "text": [
      "## Saving val dataset ##\n"
     ]
    },
    {
     "name": "stderr",
     "output_type": "stream",
     "text": [
      "100%|██████████| 52429/52429 [00:00<00:00, 70291.84it/s]\n",
      " 67%|██████▋   | 195/291 [1:08:48<12:21,  7.72s/it]"
     ]
    },
    {
     "name": "stdout",
     "output_type": "stream",
     "text": [
      "model-layers-30-self_attn-o_proj-weight.npy\n",
      "(838860, 16) (209716, 16)\n",
      "## Saving train dataset ##\n"
     ]
    },
    {
     "name": "stderr",
     "output_type": "stream",
     "text": [
      "100%|██████████| 838860/838860 [00:11<00:00, 71263.80it/s]\n"
     ]
    },
    {
     "name": "stdout",
     "output_type": "stream",
     "text": [
      "## Saving val dataset ##\n"
     ]
    },
    {
     "name": "stderr",
     "output_type": "stream",
     "text": [
      "100%|██████████| 209716/209716 [00:02<00:00, 70901.16it/s]\n",
      " 67%|██████▋   | 196/291 [1:09:03<14:16,  9.02s/it]"
     ]
    },
    {
     "name": "stdout",
     "output_type": "stream",
     "text": [
      "model-layers-9-self_attn-o_proj-weight.npy\n",
      "(838860, 16) (209716, 16)\n",
      "## Saving train dataset ##\n"
     ]
    },
    {
     "name": "stderr",
     "output_type": "stream",
     "text": [
      "100%|██████████| 838860/838860 [00:11<00:00, 71111.33it/s]\n"
     ]
    },
    {
     "name": "stdout",
     "output_type": "stream",
     "text": [
      "## Saving val dataset ##\n"
     ]
    },
    {
     "name": "stderr",
     "output_type": "stream",
     "text": [
      "100%|██████████| 209716/209716 [00:02<00:00, 70821.67it/s]\n",
      " 68%|██████▊   | 198/291 [1:09:18<13:10,  8.50s/it]"
     ]
    },
    {
     "name": "stdout",
     "output_type": "stream",
     "text": [
      "model-layers-16-mlp-up_proj-weight.npy\n",
      "(2936012, 16) (734004, 16)\n",
      "## Saving train dataset ##\n"
     ]
    },
    {
     "name": "stderr",
     "output_type": "stream",
     "text": [
      "100%|██████████| 2936012/2936012 [00:41<00:00, 71050.87it/s]\n"
     ]
    },
    {
     "name": "stdout",
     "output_type": "stream",
     "text": [
      "## Saving val dataset ##\n"
     ]
    },
    {
     "name": "stderr",
     "output_type": "stream",
     "text": [
      "100%|██████████| 734004/734004 [00:10<00:00, 71173.45it/s]\n",
      " 68%|██████▊   | 199/291 [1:10:10<26:08, 17.05s/it]"
     ]
    },
    {
     "name": "stdout",
     "output_type": "stream",
     "text": [
      "model-layers-1-self_attn-k_proj-weight.npy\n",
      "(209715, 16) (52429, 16)\n",
      "## Saving train dataset ##\n"
     ]
    },
    {
     "name": "stderr",
     "output_type": "stream",
     "text": [
      "100%|██████████| 209715/209715 [00:02<00:00, 71359.34it/s]\n"
     ]
    },
    {
     "name": "stdout",
     "output_type": "stream",
     "text": [
      "## Saving val dataset ##\n"
     ]
    },
    {
     "name": "stderr",
     "output_type": "stream",
     "text": [
      "100%|██████████| 52429/52429 [00:00<00:00, 70450.46it/s]\n",
      " 69%|██████▊   | 200/291 [1:10:14<21:27, 14.15s/it]"
     ]
    },
    {
     "name": "stdout",
     "output_type": "stream",
     "text": [
      "model-layers-22-self_attn-k_proj-weight.npy\n",
      "(209715, 16) (52429, 16)\n",
      "## Saving train dataset ##\n"
     ]
    },
    {
     "name": "stderr",
     "output_type": "stream",
     "text": [
      "100%|██████████| 209715/209715 [00:02<00:00, 70641.98it/s]\n"
     ]
    },
    {
     "name": "stdout",
     "output_type": "stream",
     "text": [
      "## Saving val dataset ##\n"
     ]
    },
    {
     "name": "stderr",
     "output_type": "stream",
     "text": [
      "100%|██████████| 52429/52429 [00:00<00:00, 70568.14it/s]\n",
      " 69%|██████▉   | 201/291 [1:10:18<17:31, 11.68s/it]"
     ]
    },
    {
     "name": "stdout",
     "output_type": "stream",
     "text": [
      "model-layers-15-mlp-down_proj-weight.npy\n",
      "(2936012, 16) (734004, 16)\n",
      "## Saving train dataset ##\n"
     ]
    },
    {
     "name": "stderr",
     "output_type": "stream",
     "text": [
      "100%|██████████| 2936012/2936012 [00:40<00:00, 71906.17it/s]\n"
     ]
    },
    {
     "name": "stdout",
     "output_type": "stream",
     "text": [
      "## Saving val dataset ##\n"
     ]
    },
    {
     "name": "stderr",
     "output_type": "stream",
     "text": [
      "100%|██████████| 734004/734004 [00:10<00:00, 70344.07it/s]\n",
      " 70%|███████   | 205/291 [1:11:10<17:49, 12.44s/it]"
     ]
    },
    {
     "name": "stdout",
     "output_type": "stream",
     "text": [
      "model-layers-31-mlp-gate_proj-weight.npy\n",
      "(2936012, 16) (734004, 16)\n",
      "## Saving train dataset ##\n"
     ]
    },
    {
     "name": "stderr",
     "output_type": "stream",
     "text": [
      "100%|██████████| 2936012/2936012 [00:41<00:00, 70558.78it/s]\n"
     ]
    },
    {
     "name": "stdout",
     "output_type": "stream",
     "text": [
      "## Saving val dataset ##\n"
     ]
    },
    {
     "name": "stderr",
     "output_type": "stream",
     "text": [
      "100%|██████████| 734004/734004 [00:10<00:00, 70927.14it/s]\n",
      " 71%|███████   | 206/291 [1:12:02<27:20, 19.30s/it]"
     ]
    },
    {
     "name": "stdout",
     "output_type": "stream",
     "text": [
      "model-layers-16-self_attn-q_proj-weight.npy\n",
      "(838860, 16) (209716, 16)\n",
      "## Saving train dataset ##\n"
     ]
    },
    {
     "name": "stderr",
     "output_type": "stream",
     "text": [
      "100%|██████████| 838860/838860 [00:11<00:00, 71026.44it/s]\n"
     ]
    },
    {
     "name": "stdout",
     "output_type": "stream",
     "text": [
      "## Saving val dataset ##\n"
     ]
    },
    {
     "name": "stderr",
     "output_type": "stream",
     "text": [
      "100%|██████████| 209716/209716 [00:02<00:00, 70840.31it/s]\n",
      " 71%|███████   | 207/291 [1:12:17<25:50, 18.45s/it]"
     ]
    },
    {
     "name": "stdout",
     "output_type": "stream",
     "text": [
      "model-layers-2-mlp-down_proj-weight.npy\n",
      "(2936012, 16) (734004, 16)\n",
      "## Saving train dataset ##\n"
     ]
    },
    {
     "name": "stderr",
     "output_type": "stream",
     "text": [
      "100%|██████████| 2936012/2936012 [00:41<00:00, 71217.33it/s]\n"
     ]
    },
    {
     "name": "stdout",
     "output_type": "stream",
     "text": [
      "## Saving val dataset ##\n"
     ]
    },
    {
     "name": "stderr",
     "output_type": "stream",
     "text": [
      "100%|██████████| 734004/734004 [00:10<00:00, 71218.82it/s]\n",
      " 73%|███████▎  | 212/291 [1:13:10<18:09, 13.79s/it]"
     ]
    },
    {
     "name": "stdout",
     "output_type": "stream",
     "text": [
      "model-layers-27-mlp-down_proj-weight.npy\n",
      "(2936012, 16) (734004, 16)\n",
      "## Saving train dataset ##\n"
     ]
    },
    {
     "name": "stderr",
     "output_type": "stream",
     "text": [
      "100%|██████████| 2936012/2936012 [00:40<00:00, 72319.10it/s]\n"
     ]
    },
    {
     "name": "stdout",
     "output_type": "stream",
     "text": [
      "## Saving val dataset ##\n"
     ]
    },
    {
     "name": "stderr",
     "output_type": "stream",
     "text": [
      "100%|██████████| 734004/734004 [00:10<00:00, 71844.58it/s]\n",
      " 73%|███████▎  | 213/291 [1:14:01<24:55, 19.18s/it]"
     ]
    },
    {
     "name": "stdout",
     "output_type": "stream",
     "text": [
      "model-layers-1-mlp-up_proj-weight.npy\n",
      "(2936012, 16) (734004, 16)\n",
      "## Saving train dataset ##\n"
     ]
    },
    {
     "name": "stderr",
     "output_type": "stream",
     "text": [
      "100%|██████████| 2936012/2936012 [00:41<00:00, 71260.51it/s]\n"
     ]
    },
    {
     "name": "stdout",
     "output_type": "stream",
     "text": [
      "## Saving val dataset ##\n"
     ]
    },
    {
     "name": "stderr",
     "output_type": "stream",
     "text": [
      "100%|██████████| 734004/734004 [00:10<00:00, 71341.56it/s]\n",
      " 74%|███████▎  | 214/291 [1:14:53<31:47, 24.78s/it]"
     ]
    },
    {
     "name": "stdout",
     "output_type": "stream",
     "text": [
      "model-layers-19-mlp-down_proj-weight.npy\n",
      "(2936012, 16) (734004, 16)\n",
      "## Saving train dataset ##\n"
     ]
    },
    {
     "name": "stderr",
     "output_type": "stream",
     "text": [
      "100%|██████████| 2936012/2936012 [00:41<00:00, 71181.77it/s]\n"
     ]
    },
    {
     "name": "stdout",
     "output_type": "stream",
     "text": [
      "## Saving val dataset ##\n"
     ]
    },
    {
     "name": "stderr",
     "output_type": "stream",
     "text": [
      "100%|██████████| 734004/734004 [00:10<00:00, 71340.75it/s]\n",
      " 74%|███████▍  | 215/291 [1:15:46<38:09, 30.13s/it]"
     ]
    },
    {
     "name": "stdout",
     "output_type": "stream",
     "text": [
      "model-layers-3-mlp-gate_proj-weight.npy\n",
      "(2936012, 16) (734004, 16)\n",
      "## Saving train dataset ##\n"
     ]
    },
    {
     "name": "stderr",
     "output_type": "stream",
     "text": [
      "100%|██████████| 2936012/2936012 [00:40<00:00, 71988.36it/s]\n"
     ]
    },
    {
     "name": "stdout",
     "output_type": "stream",
     "text": [
      "## Saving val dataset ##\n"
     ]
    },
    {
     "name": "stderr",
     "output_type": "stream",
     "text": [
      "100%|██████████| 734004/734004 [00:10<00:00, 73391.55it/s]\n",
      " 75%|███████▍  | 217/291 [1:16:37<35:13, 28.56s/it]"
     ]
    },
    {
     "name": "stdout",
     "output_type": "stream",
     "text": [
      "model-layers-13-self_attn-v_proj-weight.npy\n",
      "(209715, 16) (52429, 16)\n",
      "## Saving train dataset ##\n"
     ]
    },
    {
     "name": "stderr",
     "output_type": "stream",
     "text": [
      "100%|██████████| 209715/209715 [00:02<00:00, 72974.17it/s]\n"
     ]
    },
    {
     "name": "stdout",
     "output_type": "stream",
     "text": [
      "## Saving val dataset ##\n"
     ]
    },
    {
     "name": "stderr",
     "output_type": "stream",
     "text": [
      "100%|██████████| 52429/52429 [00:00<00:00, 72626.76it/s]\n",
      " 75%|███████▍  | 218/291 [1:16:41<28:34, 23.49s/it]"
     ]
    },
    {
     "name": "stdout",
     "output_type": "stream",
     "text": [
      "model-layers-28-self_attn-o_proj-weight.npy\n",
      "(838860, 16) (209716, 16)\n",
      "## Saving train dataset ##\n"
     ]
    },
    {
     "name": "stderr",
     "output_type": "stream",
     "text": [
      "100%|██████████| 838860/838860 [00:11<00:00, 72949.40it/s]\n"
     ]
    },
    {
     "name": "stdout",
     "output_type": "stream",
     "text": [
      "## Saving val dataset ##\n"
     ]
    },
    {
     "name": "stderr",
     "output_type": "stream",
     "text": [
      "100%|██████████| 209716/209716 [00:02<00:00, 73175.98it/s]\n",
      " 75%|███████▌  | 219/291 [1:16:55<25:46, 21.49s/it]"
     ]
    },
    {
     "name": "stdout",
     "output_type": "stream",
     "text": [
      "model-layers-15-self_attn-o_proj-weight.npy\n",
      "(838860, 16) (209716, 16)\n",
      "## Saving train dataset ##\n"
     ]
    },
    {
     "name": "stderr",
     "output_type": "stream",
     "text": [
      "100%|██████████| 838860/838860 [00:11<00:00, 70193.13it/s]\n"
     ]
    },
    {
     "name": "stdout",
     "output_type": "stream",
     "text": [
      "## Saving val dataset ##\n"
     ]
    },
    {
     "name": "stderr",
     "output_type": "stream",
     "text": [
      "100%|██████████| 209716/209716 [00:03<00:00, 68846.86it/s]\n",
      " 76%|███████▌  | 220/291 [1:17:11<23:36, 19.96s/it]"
     ]
    },
    {
     "name": "stdout",
     "output_type": "stream",
     "text": [
      "model-layers-4-self_attn-v_proj-weight.npy\n",
      "(209715, 16) (52429, 16)\n",
      "## Saving train dataset ##\n"
     ]
    },
    {
     "name": "stderr",
     "output_type": "stream",
     "text": [
      "100%|██████████| 209715/209715 [00:03<00:00, 69069.95it/s]\n"
     ]
    },
    {
     "name": "stdout",
     "output_type": "stream",
     "text": [
      "## Saving val dataset ##\n"
     ]
    },
    {
     "name": "stderr",
     "output_type": "stream",
     "text": [
      "100%|██████████| 52429/52429 [00:00<00:00, 68593.18it/s]\n",
      " 76%|███████▌  | 221/291 [1:17:14<18:26, 15.80s/it]"
     ]
    },
    {
     "name": "stdout",
     "output_type": "stream",
     "text": [
      "model-layers-31-self_attn-k_proj-weight.npy\n",
      "(209715, 16) (52429, 16)\n",
      "## Saving train dataset ##\n"
     ]
    },
    {
     "name": "stderr",
     "output_type": "stream",
     "text": [
      "100%|██████████| 209715/209715 [00:03<00:00, 69006.86it/s]\n"
     ]
    },
    {
     "name": "stdout",
     "output_type": "stream",
     "text": [
      "## Saving val dataset ##\n"
     ]
    },
    {
     "name": "stderr",
     "output_type": "stream",
     "text": [
      "100%|██████████| 52429/52429 [00:00<00:00, 69418.04it/s]\n",
      " 76%|███████▋  | 222/291 [1:17:18<14:28, 12.58s/it]"
     ]
    },
    {
     "name": "stdout",
     "output_type": "stream",
     "text": [
      "model-layers-27-self_attn-o_proj-weight.npy\n",
      "(838860, 16) (209716, 16)\n",
      "## Saving train dataset ##\n"
     ]
    },
    {
     "name": "stderr",
     "output_type": "stream",
     "text": [
      "100%|██████████| 838860/838860 [00:12<00:00, 68881.05it/s]\n"
     ]
    },
    {
     "name": "stdout",
     "output_type": "stream",
     "text": [
      "## Saving val dataset ##\n"
     ]
    },
    {
     "name": "stderr",
     "output_type": "stream",
     "text": [
      "100%|██████████| 209716/209716 [00:03<00:00, 68909.85it/s]\n",
      " 77%|███████▋  | 223/291 [1:17:34<15:09, 13.37s/it]"
     ]
    },
    {
     "name": "stdout",
     "output_type": "stream",
     "text": [
      "model-layers-19-mlp-up_proj-weight.npy\n",
      "(2936012, 16) (734004, 16)\n",
      "## Saving train dataset ##\n"
     ]
    },
    {
     "name": "stderr",
     "output_type": "stream",
     "text": [
      "100%|██████████| 2936012/2936012 [00:40<00:00, 71804.95it/s]\n"
     ]
    },
    {
     "name": "stdout",
     "output_type": "stream",
     "text": [
      "## Saving val dataset ##\n"
     ]
    },
    {
     "name": "stderr",
     "output_type": "stream",
     "text": [
      "100%|██████████| 734004/734004 [00:10<00:00, 72865.31it/s]\n",
      " 77%|███████▋  | 224/291 [1:18:25<27:06, 24.27s/it]"
     ]
    },
    {
     "name": "stdout",
     "output_type": "stream",
     "text": [
      "model-layers-21-mlp-gate_proj-weight.npy\n",
      "(2936012, 16) (734004, 16)\n",
      "## Saving train dataset ##\n"
     ]
    },
    {
     "name": "stderr",
     "output_type": "stream",
     "text": [
      "100%|██████████| 2936012/2936012 [00:41<00:00, 71140.79it/s]\n"
     ]
    },
    {
     "name": "stdout",
     "output_type": "stream",
     "text": [
      "## Saving val dataset ##\n"
     ]
    },
    {
     "name": "stderr",
     "output_type": "stream",
     "text": [
      "100%|██████████| 734004/734004 [00:10<00:00, 70055.55it/s]\n",
      " 77%|███████▋  | 225/291 [1:19:18<35:38, 32.41s/it]"
     ]
    },
    {
     "name": "stdout",
     "output_type": "stream",
     "text": [
      "model-layers-17-mlp-gate_proj-weight.npy\n",
      "(2936012, 16) (734004, 16)\n",
      "## Saving train dataset ##\n"
     ]
    },
    {
     "name": "stderr",
     "output_type": "stream",
     "text": [
      "100%|██████████| 2936012/2936012 [00:41<00:00, 70614.79it/s]\n"
     ]
    },
    {
     "name": "stdout",
     "output_type": "stream",
     "text": [
      "## Saving val dataset ##\n"
     ]
    },
    {
     "name": "stderr",
     "output_type": "stream",
     "text": [
      "100%|██████████| 734004/734004 [00:10<00:00, 70917.47it/s]\n",
      " 78%|███████▊  | 226/291 [1:20:10<41:30, 38.32s/it]"
     ]
    },
    {
     "name": "stdout",
     "output_type": "stream",
     "text": [
      "model-layers-6-self_attn-v_proj-weight.npy\n",
      "(209715, 16) (52429, 16)\n",
      "## Saving train dataset ##\n"
     ]
    },
    {
     "name": "stderr",
     "output_type": "stream",
     "text": [
      "100%|██████████| 209715/209715 [00:02<00:00, 70492.06it/s]\n"
     ]
    },
    {
     "name": "stdout",
     "output_type": "stream",
     "text": [
      "## Saving val dataset ##\n"
     ]
    },
    {
     "name": "stderr",
     "output_type": "stream",
     "text": [
      "100%|██████████| 52429/52429 [00:00<00:00, 70506.62it/s]\n",
      " 78%|███████▊  | 227/291 [1:20:14<30:01, 28.15s/it]"
     ]
    },
    {
     "name": "stdout",
     "output_type": "stream",
     "text": [
      "model-layers-27-mlp-gate_proj-weight.npy\n",
      "(2936012, 16) (734004, 16)\n",
      "## Saving train dataset ##\n"
     ]
    },
    {
     "name": "stderr",
     "output_type": "stream",
     "text": [
      "100%|██████████| 2936012/2936012 [00:41<00:00, 70749.92it/s]\n"
     ]
    },
    {
     "name": "stdout",
     "output_type": "stream",
     "text": [
      "## Saving val dataset ##\n"
     ]
    },
    {
     "name": "stderr",
     "output_type": "stream",
     "text": [
      "100%|██████████| 734004/734004 [00:10<00:00, 71144.15it/s]\n",
      " 78%|███████▊  | 228/291 [1:21:07<37:08, 35.37s/it]"
     ]
    },
    {
     "name": "stdout",
     "output_type": "stream",
     "text": [
      "model-layers-13-self_attn-k_proj-weight.npy\n",
      "(209715, 16) (52429, 16)\n",
      "## Saving train dataset ##\n"
     ]
    },
    {
     "name": "stderr",
     "output_type": "stream",
     "text": [
      "100%|██████████| 209715/209715 [00:02<00:00, 71966.55it/s]\n"
     ]
    },
    {
     "name": "stdout",
     "output_type": "stream",
     "text": [
      "## Saving val dataset ##\n"
     ]
    },
    {
     "name": "stderr",
     "output_type": "stream",
     "text": [
      "100%|██████████| 52429/52429 [00:00<00:00, 72708.96it/s]\n",
      " 79%|███████▊  | 229/291 [1:21:10<26:49, 25.96s/it]"
     ]
    },
    {
     "name": "stdout",
     "output_type": "stream",
     "text": [
      "model-layers-22-self_attn-v_proj-weight.npy\n",
      "(209715, 16) (52429, 16)\n",
      "## Saving train dataset ##\n"
     ]
    },
    {
     "name": "stderr",
     "output_type": "stream",
     "text": [
      "100%|██████████| 209715/209715 [00:02<00:00, 72617.80it/s]\n"
     ]
    },
    {
     "name": "stdout",
     "output_type": "stream",
     "text": [
      "## Saving val dataset ##\n"
     ]
    },
    {
     "name": "stderr",
     "output_type": "stream",
     "text": [
      "100%|██████████| 52429/52429 [00:00<00:00, 72351.09it/s]\n",
      " 79%|███████▉  | 230/291 [1:21:14<19:38, 19.31s/it]"
     ]
    },
    {
     "name": "stdout",
     "output_type": "stream",
     "text": [
      "model-layers-12-mlp-up_proj-weight.npy\n",
      "(2936012, 16) (734004, 16)\n",
      "## Saving train dataset ##\n"
     ]
    },
    {
     "name": "stderr",
     "output_type": "stream",
     "text": [
      "100%|██████████| 2936012/2936012 [00:41<00:00, 71136.69it/s]\n"
     ]
    },
    {
     "name": "stdout",
     "output_type": "stream",
     "text": [
      "## Saving val dataset ##\n"
     ]
    },
    {
     "name": "stderr",
     "output_type": "stream",
     "text": [
      "100%|██████████| 734004/734004 [00:10<00:00, 70992.47it/s]\n",
      " 79%|███████▉  | 231/291 [1:22:06<29:09, 29.17s/it]"
     ]
    },
    {
     "name": "stdout",
     "output_type": "stream",
     "text": [
      "model-layers-28-self_attn-v_proj-weight.npy\n",
      "(209715, 16) (52429, 16)\n",
      "## Saving train dataset ##\n"
     ]
    },
    {
     "name": "stderr",
     "output_type": "stream",
     "text": [
      "100%|██████████| 209715/209715 [00:02<00:00, 71014.01it/s]\n"
     ]
    },
    {
     "name": "stdout",
     "output_type": "stream",
     "text": [
      "## Saving val dataset ##\n"
     ]
    },
    {
     "name": "stderr",
     "output_type": "stream",
     "text": [
      "100%|██████████| 52429/52429 [00:00<00:00, 71908.83it/s]\n",
      " 80%|███████▉  | 232/291 [1:22:10<21:12, 21.56s/it]"
     ]
    },
    {
     "name": "stdout",
     "output_type": "stream",
     "text": [
      "model-layers-13-self_attn-o_proj-weight.npy\n",
      "(838860, 16) (209716, 16)\n",
      "## Saving train dataset ##\n"
     ]
    },
    {
     "name": "stderr",
     "output_type": "stream",
     "text": [
      "100%|██████████| 838860/838860 [00:11<00:00, 71273.09it/s]\n"
     ]
    },
    {
     "name": "stdout",
     "output_type": "stream",
     "text": [
      "## Saving val dataset ##\n"
     ]
    },
    {
     "name": "stderr",
     "output_type": "stream",
     "text": [
      "100%|██████████| 209716/209716 [00:02<00:00, 70885.23it/s]\n",
      " 80%|████████  | 233/291 [1:22:25<18:55, 19.57s/it]"
     ]
    },
    {
     "name": "stdout",
     "output_type": "stream",
     "text": [
      "model-layers-25-self_attn-k_proj-weight.npy\n",
      "(209715, 16) (52429, 16)\n",
      "## Saving train dataset ##\n"
     ]
    },
    {
     "name": "stderr",
     "output_type": "stream",
     "text": [
      "100%|██████████| 209715/209715 [00:02<00:00, 70432.11it/s]\n"
     ]
    },
    {
     "name": "stdout",
     "output_type": "stream",
     "text": [
      "## Saving val dataset ##\n"
     ]
    },
    {
     "name": "stderr",
     "output_type": "stream",
     "text": [
      "100%|██████████| 52429/52429 [00:00<00:00, 72015.67it/s]\n",
      " 81%|████████  | 235/291 [1:22:29<10:39, 11.42s/it]"
     ]
    },
    {
     "name": "stdout",
     "output_type": "stream",
     "text": [
      "model-layers-8-self_attn-v_proj-weight.npy\n",
      "(209715, 16) (52429, 16)\n",
      "## Saving train dataset ##\n"
     ]
    },
    {
     "name": "stderr",
     "output_type": "stream",
     "text": [
      "100%|██████████| 209715/209715 [00:02<00:00, 70586.14it/s]\n"
     ]
    },
    {
     "name": "stdout",
     "output_type": "stream",
     "text": [
      "## Saving val dataset ##\n"
     ]
    },
    {
     "name": "stderr",
     "output_type": "stream",
     "text": [
      "100%|██████████| 52429/52429 [00:00<00:00, 70157.71it/s]\n",
      " 81%|████████  | 236/291 [1:22:33<08:43,  9.52s/it]"
     ]
    },
    {
     "name": "stdout",
     "output_type": "stream",
     "text": [
      "model-layers-19-self_attn-k_proj-weight.npy\n",
      "(209715, 16) (52429, 16)\n",
      "## Saving train dataset ##\n"
     ]
    },
    {
     "name": "stderr",
     "output_type": "stream",
     "text": [
      "100%|██████████| 209715/209715 [00:02<00:00, 70443.18it/s]\n"
     ]
    },
    {
     "name": "stdout",
     "output_type": "stream",
     "text": [
      "## Saving val dataset ##\n"
     ]
    },
    {
     "name": "stderr",
     "output_type": "stream",
     "text": [
      "100%|██████████| 52429/52429 [00:00<00:00, 70422.22it/s]\n",
      " 81%|████████▏ | 237/291 [1:22:36<07:13,  8.02s/it]"
     ]
    },
    {
     "name": "stdout",
     "output_type": "stream",
     "text": [
      "model-layers-19-self_attn-o_proj-weight.npy\n",
      "(838860, 16) (209716, 16)\n",
      "## Saving train dataset ##\n"
     ]
    },
    {
     "name": "stderr",
     "output_type": "stream",
     "text": [
      "100%|██████████| 838860/838860 [00:11<00:00, 70758.34it/s]\n"
     ]
    },
    {
     "name": "stdout",
     "output_type": "stream",
     "text": [
      "## Saving val dataset ##\n"
     ]
    },
    {
     "name": "stderr",
     "output_type": "stream",
     "text": [
      "100%|██████████| 209716/209716 [00:02<00:00, 71217.46it/s]\n",
      " 82%|████████▏ | 238/291 [1:22:51<08:45,  9.92s/it]"
     ]
    },
    {
     "name": "stdout",
     "output_type": "stream",
     "text": [
      "model-layers-31-self_attn-q_proj-weight.npy\n",
      "(838860, 16) (209716, 16)\n",
      "## Saving train dataset ##\n"
     ]
    },
    {
     "name": "stderr",
     "output_type": "stream",
     "text": [
      "100%|██████████| 838860/838860 [00:11<00:00, 71077.70it/s]\n"
     ]
    },
    {
     "name": "stdout",
     "output_type": "stream",
     "text": [
      "## Saving val dataset ##\n"
     ]
    },
    {
     "name": "stderr",
     "output_type": "stream",
     "text": [
      "100%|██████████| 209716/209716 [00:02<00:00, 70559.53it/s]\n",
      " 82%|████████▏ | 239/291 [1:23:06<09:49, 11.34s/it]"
     ]
    },
    {
     "name": "stdout",
     "output_type": "stream",
     "text": [
      "model-layers-20-mlp-down_proj-weight.npy\n",
      "(2936012, 16) (734004, 16)\n",
      "## Saving train dataset ##\n"
     ]
    },
    {
     "name": "stderr",
     "output_type": "stream",
     "text": [
      "100%|██████████| 2936012/2936012 [00:41<00:00, 70997.42it/s]\n"
     ]
    },
    {
     "name": "stdout",
     "output_type": "stream",
     "text": [
      "## Saving val dataset ##\n"
     ]
    },
    {
     "name": "stderr",
     "output_type": "stream",
     "text": [
      "100%|██████████| 734004/734004 [00:09<00:00, 74144.47it/s]\n",
      " 82%|████████▏ | 240/291 [1:23:58<19:30, 22.94s/it]"
     ]
    },
    {
     "name": "stdout",
     "output_type": "stream",
     "text": [
      "model-layers-24-self_attn-k_proj-weight.npy\n",
      "(209715, 16) (52429, 16)\n",
      "## Saving train dataset ##\n"
     ]
    },
    {
     "name": "stderr",
     "output_type": "stream",
     "text": [
      "100%|██████████| 209715/209715 [00:02<00:00, 73733.30it/s]\n"
     ]
    },
    {
     "name": "stdout",
     "output_type": "stream",
     "text": [
      "## Saving val dataset ##\n"
     ]
    },
    {
     "name": "stderr",
     "output_type": "stream",
     "text": [
      "100%|██████████| 52429/52429 [00:00<00:00, 74004.07it/s]\n",
      " 83%|████████▎ | 241/291 [1:24:02<14:27, 17.34s/it]"
     ]
    },
    {
     "name": "stdout",
     "output_type": "stream",
     "text": [
      "model-layers-5-mlp-down_proj-weight.npy\n",
      "(2936012, 16) (734004, 16)\n",
      "## Saving train dataset ##\n"
     ]
    },
    {
     "name": "stderr",
     "output_type": "stream",
     "text": [
      "100%|██████████| 2936012/2936012 [00:41<00:00, 70780.65it/s]\n"
     ]
    },
    {
     "name": "stdout",
     "output_type": "stream",
     "text": [
      "## Saving val dataset ##\n"
     ]
    },
    {
     "name": "stderr",
     "output_type": "stream",
     "text": [
      "100%|██████████| 734004/734004 [00:10<00:00, 71349.32it/s]\n",
      " 83%|████████▎ | 242/291 [1:24:54<22:33, 27.63s/it]"
     ]
    },
    {
     "name": "stdout",
     "output_type": "stream",
     "text": [
      "model-layers-26-self_attn-v_proj-weight.npy\n",
      "(209715, 16) (52429, 16)\n",
      "## Saving train dataset ##\n"
     ]
    },
    {
     "name": "stderr",
     "output_type": "stream",
     "text": [
      "100%|██████████| 209715/209715 [00:02<00:00, 71187.58it/s]\n"
     ]
    },
    {
     "name": "stdout",
     "output_type": "stream",
     "text": [
      "## Saving val dataset ##\n"
     ]
    },
    {
     "name": "stderr",
     "output_type": "stream",
     "text": [
      "100%|██████████| 52429/52429 [00:00<00:00, 71644.79it/s]\n",
      " 84%|████████▍ | 244/291 [1:24:58<12:26, 15.89s/it]"
     ]
    },
    {
     "name": "stdout",
     "output_type": "stream",
     "text": [
      "model-layers-18-self_attn-k_proj-weight.npy\n",
      "(209715, 16) (52429, 16)\n",
      "## Saving train dataset ##\n"
     ]
    },
    {
     "name": "stderr",
     "output_type": "stream",
     "text": [
      "100%|██████████| 209715/209715 [00:02<00:00, 71159.89it/s]\n"
     ]
    },
    {
     "name": "stdout",
     "output_type": "stream",
     "text": [
      "## Saving val dataset ##\n"
     ]
    },
    {
     "name": "stderr",
     "output_type": "stream",
     "text": [
      "100%|██████████| 52429/52429 [00:00<00:00, 71602.94it/s]\n",
      " 84%|████████▍ | 245/291 [1:25:02<09:53, 12.91s/it]"
     ]
    },
    {
     "name": "stdout",
     "output_type": "stream",
     "text": [
      "model-layers-23-self_attn-o_proj-weight.npy\n",
      "(838860, 16) (209716, 16)\n",
      "## Saving train dataset ##\n"
     ]
    },
    {
     "name": "stderr",
     "output_type": "stream",
     "text": [
      "100%|██████████| 838860/838860 [00:11<00:00, 71194.09it/s]\n"
     ]
    },
    {
     "name": "stdout",
     "output_type": "stream",
     "text": [
      "## Saving val dataset ##\n"
     ]
    },
    {
     "name": "stderr",
     "output_type": "stream",
     "text": [
      "100%|██████████| 209716/209716 [00:02<00:00, 71780.70it/s]\n",
      " 85%|████████▍ | 246/291 [1:25:17<10:04, 13.43s/it]"
     ]
    },
    {
     "name": "stdout",
     "output_type": "stream",
     "text": [
      "model-layers-8-self_attn-o_proj-weight.npy\n",
      "(838860, 16) (209716, 16)\n",
      "## Saving train dataset ##\n"
     ]
    },
    {
     "name": "stderr",
     "output_type": "stream",
     "text": [
      "100%|██████████| 838860/838860 [00:11<00:00, 71269.72it/s]\n"
     ]
    },
    {
     "name": "stdout",
     "output_type": "stream",
     "text": [
      "## Saving val dataset ##\n"
     ]
    },
    {
     "name": "stderr",
     "output_type": "stream",
     "text": [
      "100%|██████████| 209716/209716 [00:02<00:00, 70751.24it/s]\n",
      " 85%|████████▍ | 247/291 [1:25:32<10:08, 13.84s/it]"
     ]
    },
    {
     "name": "stdout",
     "output_type": "stream",
     "text": [
      "model-layers-31-mlp-up_proj-weight.npy\n",
      "(2936012, 16) (734004, 16)\n",
      "## Saving train dataset ##\n"
     ]
    },
    {
     "name": "stderr",
     "output_type": "stream",
     "text": [
      "100%|██████████| 2936012/2936012 [00:41<00:00, 71262.46it/s]\n"
     ]
    },
    {
     "name": "stdout",
     "output_type": "stream",
     "text": [
      "## Saving val dataset ##\n"
     ]
    },
    {
     "name": "stderr",
     "output_type": "stream",
     "text": [
      "100%|██████████| 734004/734004 [00:10<00:00, 71275.20it/s]\n",
      " 85%|████████▌ | 248/291 [1:26:24<17:34, 24.53s/it]"
     ]
    },
    {
     "name": "stdout",
     "output_type": "stream",
     "text": [
      "model-layers-10-self_attn-k_proj-weight.npy\n",
      "(209715, 16) (52429, 16)\n",
      "## Saving train dataset ##\n"
     ]
    },
    {
     "name": "stderr",
     "output_type": "stream",
     "text": [
      "100%|██████████| 209715/209715 [00:02<00:00, 70958.47it/s]\n"
     ]
    },
    {
     "name": "stdout",
     "output_type": "stream",
     "text": [
      "## Saving val dataset ##\n"
     ]
    },
    {
     "name": "stderr",
     "output_type": "stream",
     "text": [
      "100%|██████████| 52429/52429 [00:00<00:00, 70662.22it/s]\n",
      " 86%|████████▌ | 249/291 [1:26:28<13:01, 18.61s/it]"
     ]
    },
    {
     "name": "stdout",
     "output_type": "stream",
     "text": [
      "model-layers-6-self_attn-q_proj-weight.npy\n",
      "(838860, 16) (209716, 16)\n",
      "## Saving train dataset ##\n"
     ]
    },
    {
     "name": "stderr",
     "output_type": "stream",
     "text": [
      "100%|██████████| 838860/838860 [00:11<00:00, 73182.96it/s]\n"
     ]
    },
    {
     "name": "stdout",
     "output_type": "stream",
     "text": [
      "## Saving val dataset ##\n"
     ]
    },
    {
     "name": "stderr",
     "output_type": "stream",
     "text": [
      "100%|██████████| 209716/209716 [00:02<00:00, 72162.50it/s]\n",
      " 86%|████████▌ | 250/291 [1:26:42<11:55, 17.45s/it]"
     ]
    },
    {
     "name": "stdout",
     "output_type": "stream",
     "text": [
      "model-layers-26-mlp-down_proj-weight.npy\n",
      "(2936012, 16) (734004, 16)\n",
      "## Saving train dataset ##\n"
     ]
    },
    {
     "name": "stderr",
     "output_type": "stream",
     "text": [
      "100%|██████████| 2936012/2936012 [00:40<00:00, 72739.11it/s]\n"
     ]
    },
    {
     "name": "stdout",
     "output_type": "stream",
     "text": [
      "## Saving val dataset ##\n"
     ]
    },
    {
     "name": "stderr",
     "output_type": "stream",
     "text": [
      "100%|██████████| 734004/734004 [00:10<00:00, 70022.85it/s]\n",
      " 86%|████████▋ | 251/291 [1:27:34<18:16, 27.42s/it]"
     ]
    },
    {
     "name": "stdout",
     "output_type": "stream",
     "text": [
      "model-layers-2-self_attn-q_proj-weight.npy\n",
      "(838860, 16) (209716, 16)\n",
      "## Saving train dataset ##\n"
     ]
    },
    {
     "name": "stderr",
     "output_type": "stream",
     "text": [
      "100%|██████████| 838860/838860 [00:12<00:00, 68710.69it/s]\n"
     ]
    },
    {
     "name": "stdout",
     "output_type": "stream",
     "text": [
      "## Saving val dataset ##\n"
     ]
    },
    {
     "name": "stderr",
     "output_type": "stream",
     "text": [
      "100%|██████████| 209716/209716 [00:03<00:00, 69631.37it/s]\n",
      " 87%|████████▋ | 252/291 [1:27:49<15:31, 23.89s/it]"
     ]
    },
    {
     "name": "stdout",
     "output_type": "stream",
     "text": [
      "model-layers-10-self_attn-v_proj-weight.npy\n",
      "(209715, 16) (52429, 16)\n",
      "## Saving train dataset ##\n"
     ]
    },
    {
     "name": "stderr",
     "output_type": "stream",
     "text": [
      "100%|██████████| 209715/209715 [00:03<00:00, 69564.91it/s]\n"
     ]
    },
    {
     "name": "stdout",
     "output_type": "stream",
     "text": [
      "## Saving val dataset ##\n"
     ]
    },
    {
     "name": "stderr",
     "output_type": "stream",
     "text": [
      "100%|██████████| 52429/52429 [00:00<00:00, 69592.76it/s]\n",
      " 87%|████████▋ | 254/291 [1:27:53<08:32, 13.84s/it]"
     ]
    },
    {
     "name": "stdout",
     "output_type": "stream",
     "text": [
      "model-layers-26-self_attn-o_proj-weight.npy\n",
      "(838860, 16) (209716, 16)\n",
      "## Saving train dataset ##\n"
     ]
    },
    {
     "name": "stderr",
     "output_type": "stream",
     "text": [
      "100%|██████████| 838860/838860 [00:12<00:00, 69096.57it/s]\n"
     ]
    },
    {
     "name": "stdout",
     "output_type": "stream",
     "text": [
      "## Saving val dataset ##\n"
     ]
    },
    {
     "name": "stderr",
     "output_type": "stream",
     "text": [
      "100%|██████████| 209716/209716 [00:03<00:00, 69201.90it/s]\n",
      " 88%|████████▊ | 255/291 [1:28:09<08:31, 14.22s/it]"
     ]
    },
    {
     "name": "stdout",
     "output_type": "stream",
     "text": [
      "model-layers-25-self_attn-q_proj-weight.npy\n",
      "(838860, 16) (209716, 16)\n",
      "## Saving train dataset ##\n"
     ]
    },
    {
     "name": "stderr",
     "output_type": "stream",
     "text": [
      "100%|██████████| 838860/838860 [00:11<00:00, 70762.76it/s]\n"
     ]
    },
    {
     "name": "stdout",
     "output_type": "stream",
     "text": [
      "## Saving val dataset ##\n"
     ]
    },
    {
     "name": "stderr",
     "output_type": "stream",
     "text": [
      "100%|██████████| 209716/209716 [00:02<00:00, 73428.57it/s]\n",
      " 88%|████████▊ | 256/291 [1:28:23<08:24, 14.41s/it]"
     ]
    },
    {
     "name": "stdout",
     "output_type": "stream",
     "text": [
      "model-layers-2-mlp-up_proj-weight.npy\n",
      "(2936012, 16) (734004, 16)\n",
      "## Saving train dataset ##\n"
     ]
    },
    {
     "name": "stderr",
     "output_type": "stream",
     "text": [
      "100%|██████████| 2936012/2936012 [00:40<00:00, 72829.96it/s]\n"
     ]
    },
    {
     "name": "stdout",
     "output_type": "stream",
     "text": [
      "## Saving val dataset ##\n"
     ]
    },
    {
     "name": "stderr",
     "output_type": "stream",
     "text": [
      "100%|██████████| 734004/734004 [00:10<00:00, 72089.86it/s]\n",
      " 88%|████████▊ | 257/291 [1:29:15<13:48, 24.37s/it]"
     ]
    },
    {
     "name": "stdout",
     "output_type": "stream",
     "text": [
      "model-layers-27-mlp-up_proj-weight.npy\n",
      "(2936012, 16) (734004, 16)\n",
      "## Saving train dataset ##\n"
     ]
    },
    {
     "name": "stderr",
     "output_type": "stream",
     "text": [
      "100%|██████████| 2936012/2936012 [00:41<00:00, 70421.18it/s]\n"
     ]
    },
    {
     "name": "stdout",
     "output_type": "stream",
     "text": [
      "## Saving val dataset ##\n"
     ]
    },
    {
     "name": "stderr",
     "output_type": "stream",
     "text": [
      "100%|██████████| 734004/734004 [00:10<00:00, 70294.86it/s]\n",
      " 89%|████████▊ | 258/291 [1:30:07<17:46, 32.32s/it]"
     ]
    },
    {
     "name": "stdout",
     "output_type": "stream",
     "text": [
      "model-layers-10-self_attn-o_proj-weight.npy\n",
      "(838860, 16) (209716, 16)\n",
      "## Saving train dataset ##\n"
     ]
    },
    {
     "name": "stderr",
     "output_type": "stream",
     "text": [
      "100%|██████████| 838860/838860 [00:11<00:00, 70653.01it/s]\n"
     ]
    },
    {
     "name": "stdout",
     "output_type": "stream",
     "text": [
      "## Saving val dataset ##\n"
     ]
    },
    {
     "name": "stderr",
     "output_type": "stream",
     "text": [
      "100%|██████████| 209716/209716 [00:02<00:00, 70726.75it/s]\n",
      " 89%|████████▉ | 260/291 [1:30:23<11:01, 21.32s/it]"
     ]
    },
    {
     "name": "stdout",
     "output_type": "stream",
     "text": [
      "model-layers-5-self_attn-k_proj-weight.npy\n",
      "(209715, 16) (52429, 16)\n",
      "## Saving train dataset ##\n"
     ]
    },
    {
     "name": "stderr",
     "output_type": "stream",
     "text": [
      "100%|██████████| 209715/209715 [00:02<00:00, 70574.36it/s]\n"
     ]
    },
    {
     "name": "stdout",
     "output_type": "stream",
     "text": [
      "## Saving val dataset ##\n"
     ]
    },
    {
     "name": "stderr",
     "output_type": "stream",
     "text": [
      "100%|██████████| 52429/52429 [00:00<00:00, 71085.81it/s]\n",
      " 90%|████████▉ | 261/291 [1:30:26<08:32, 17.10s/it]"
     ]
    },
    {
     "name": "stdout",
     "output_type": "stream",
     "text": [
      "model-layers-3-self_attn-v_proj-weight.npy\n",
      "(209715, 16) (52429, 16)\n",
      "## Saving train dataset ##\n"
     ]
    },
    {
     "name": "stderr",
     "output_type": "stream",
     "text": [
      "100%|██████████| 209715/209715 [00:02<00:00, 70677.94it/s]\n"
     ]
    },
    {
     "name": "stdout",
     "output_type": "stream",
     "text": [
      "## Saving val dataset ##\n"
     ]
    },
    {
     "name": "stderr",
     "output_type": "stream",
     "text": [
      "100%|██████████| 52429/52429 [00:00<00:00, 70456.22it/s]\n",
      " 91%|█████████ | 264/291 [1:30:30<04:04,  9.05s/it]"
     ]
    },
    {
     "name": "stdout",
     "output_type": "stream",
     "text": [
      "model-layers-17-self_attn-q_proj-weight.npy\n",
      "(838860, 16) (209716, 16)\n",
      "## Saving train dataset ##\n"
     ]
    },
    {
     "name": "stderr",
     "output_type": "stream",
     "text": [
      "100%|██████████| 838860/838860 [00:11<00:00, 70891.84it/s]\n"
     ]
    },
    {
     "name": "stdout",
     "output_type": "stream",
     "text": [
      "## Saving val dataset ##\n"
     ]
    },
    {
     "name": "stderr",
     "output_type": "stream",
     "text": [
      "100%|██████████| 209716/209716 [00:02<00:00, 70754.93it/s]\n",
      " 91%|█████████▏| 266/291 [1:30:45<03:33,  8.55s/it]"
     ]
    },
    {
     "name": "stdout",
     "output_type": "stream",
     "text": [
      "model-layers-7-self_attn-o_proj-weight.npy\n",
      "(838860, 16) (209716, 16)\n",
      "## Saving train dataset ##\n"
     ]
    },
    {
     "name": "stderr",
     "output_type": "stream",
     "text": [
      "100%|██████████| 838860/838860 [00:11<00:00, 70309.60it/s]\n"
     ]
    },
    {
     "name": "stdout",
     "output_type": "stream",
     "text": [
      "## Saving val dataset ##\n"
     ]
    },
    {
     "name": "stderr",
     "output_type": "stream",
     "text": [
      "100%|██████████| 209716/209716 [00:02<00:00, 70761.56it/s]\n",
      " 92%|█████████▏| 267/291 [1:31:00<03:54,  9.79s/it]"
     ]
    },
    {
     "name": "stdout",
     "output_type": "stream",
     "text": [
      "model-layers-2-self_attn-o_proj-weight.npy\n",
      "(838860, 16) (209716, 16)\n",
      "## Saving train dataset ##\n"
     ]
    },
    {
     "name": "stderr",
     "output_type": "stream",
     "text": [
      "100%|██████████| 838860/838860 [00:11<00:00, 70405.55it/s]\n"
     ]
    },
    {
     "name": "stdout",
     "output_type": "stream",
     "text": [
      "## Saving val dataset ##\n"
     ]
    },
    {
     "name": "stderr",
     "output_type": "stream",
     "text": [
      "100%|██████████| 209716/209716 [00:02<00:00, 70723.59it/s]\n",
      " 92%|█████████▏| 268/291 [1:31:15<04:11, 10.91s/it]"
     ]
    },
    {
     "name": "stdout",
     "output_type": "stream",
     "text": [
      "model-layers-26-mlp-up_proj-weight.npy\n",
      "(2936012, 16) (734004, 16)\n",
      "## Saving train dataset ##\n"
     ]
    },
    {
     "name": "stderr",
     "output_type": "stream",
     "text": [
      "100%|██████████| 2936012/2936012 [00:40<00:00, 72151.76it/s]\n"
     ]
    },
    {
     "name": "stdout",
     "output_type": "stream",
     "text": [
      "## Saving val dataset ##\n"
     ]
    },
    {
     "name": "stderr",
     "output_type": "stream",
     "text": [
      "100%|██████████| 734004/734004 [00:10<00:00, 70935.15it/s]\n",
      " 92%|█████████▏| 269/291 [1:32:07<07:29, 20.43s/it]"
     ]
    },
    {
     "name": "stdout",
     "output_type": "stream",
     "text": [
      "model-layers-1-self_attn-v_proj-weight.npy\n",
      "(209715, 16) (52429, 16)\n",
      "## Saving train dataset ##\n"
     ]
    },
    {
     "name": "stderr",
     "output_type": "stream",
     "text": [
      "100%|██████████| 209715/209715 [00:02<00:00, 70304.06it/s]\n"
     ]
    },
    {
     "name": "stdout",
     "output_type": "stream",
     "text": [
      "## Saving val dataset ##\n"
     ]
    },
    {
     "name": "stderr",
     "output_type": "stream",
     "text": [
      "100%|██████████| 52429/52429 [00:00<00:00, 70855.09it/s]\n",
      " 93%|█████████▎| 271/291 [1:32:11<04:20, 13.02s/it]"
     ]
    },
    {
     "name": "stdout",
     "output_type": "stream",
     "text": [
      "model-layers-11-mlp-down_proj-weight.npy\n",
      "(2936012, 16) (734004, 16)\n",
      "## Saving train dataset ##\n"
     ]
    },
    {
     "name": "stderr",
     "output_type": "stream",
     "text": [
      "100%|██████████| 2936012/2936012 [00:41<00:00, 70641.16it/s]\n"
     ]
    },
    {
     "name": "stdout",
     "output_type": "stream",
     "text": [
      "## Saving val dataset ##\n"
     ]
    },
    {
     "name": "stderr",
     "output_type": "stream",
     "text": [
      "100%|██████████| 734004/734004 [00:10<00:00, 70765.14it/s]\n",
      " 93%|█████████▎| 272/291 [1:33:03<06:54, 21.82s/it]"
     ]
    },
    {
     "name": "stdout",
     "output_type": "stream",
     "text": [
      "model-layers-5-self_attn-v_proj-weight.npy\n",
      "(209715, 16) (52429, 16)\n",
      "## Saving train dataset ##\n"
     ]
    },
    {
     "name": "stderr",
     "output_type": "stream",
     "text": [
      "100%|██████████| 209715/209715 [00:02<00:00, 70800.25it/s]\n"
     ]
    },
    {
     "name": "stdout",
     "output_type": "stream",
     "text": [
      "## Saving val dataset ##\n"
     ]
    },
    {
     "name": "stderr",
     "output_type": "stream",
     "text": [
      "100%|██████████| 52429/52429 [00:00<00:00, 70355.32it/s]\n",
      " 94%|█████████▍| 273/291 [1:33:07<05:14, 17.47s/it]"
     ]
    },
    {
     "name": "stdout",
     "output_type": "stream",
     "text": [
      "model-layers-5-self_attn-q_proj-weight.npy\n",
      "(838860, 16) (209716, 16)\n",
      "## Saving train dataset ##\n"
     ]
    },
    {
     "name": "stderr",
     "output_type": "stream",
     "text": [
      "100%|██████████| 838860/838860 [00:11<00:00, 70197.42it/s]\n"
     ]
    },
    {
     "name": "stdout",
     "output_type": "stream",
     "text": [
      "## Saving val dataset ##\n"
     ]
    },
    {
     "name": "stderr",
     "output_type": "stream",
     "text": [
      "100%|██████████| 209716/209716 [00:02<00:00, 70377.13it/s]\n",
      " 94%|█████████▍| 274/291 [1:33:22<04:46, 16.88s/it]"
     ]
    },
    {
     "name": "stdout",
     "output_type": "stream",
     "text": [
      "model-layers-14-mlp-gate_proj-weight.npy\n",
      "(2936012, 16) (734004, 16)\n",
      "## Saving train dataset ##\n"
     ]
    },
    {
     "name": "stderr",
     "output_type": "stream",
     "text": [
      "100%|██████████| 2936012/2936012 [00:41<00:00, 70874.68it/s]\n"
     ]
    },
    {
     "name": "stdout",
     "output_type": "stream",
     "text": [
      "## Saving val dataset ##\n"
     ]
    },
    {
     "name": "stderr",
     "output_type": "stream",
     "text": [
      "100%|██████████| 734004/734004 [00:10<00:00, 71263.74it/s]\n",
      " 95%|█████████▍| 275/291 [1:34:15<07:02, 26.40s/it]"
     ]
    },
    {
     "name": "stdout",
     "output_type": "stream",
     "text": [
      "model-layers-17-mlp-down_proj-weight.npy\n",
      "(2936012, 16) (734004, 16)\n",
      "## Saving train dataset ##\n"
     ]
    },
    {
     "name": "stderr",
     "output_type": "stream",
     "text": [
      "100%|██████████| 2936012/2936012 [00:40<00:00, 71930.62it/s]\n"
     ]
    },
    {
     "name": "stdout",
     "output_type": "stream",
     "text": [
      "## Saving val dataset ##\n"
     ]
    },
    {
     "name": "stderr",
     "output_type": "stream",
     "text": [
      "100%|██████████| 734004/734004 [00:10<00:00, 71184.82it/s]\n",
      " 95%|█████████▍| 276/291 [1:35:07<08:21, 33.44s/it]"
     ]
    },
    {
     "name": "stdout",
     "output_type": "stream",
     "text": [
      "model-layers-30-mlp-down_proj-weight.npy\n",
      "(2936012, 16) (734004, 16)\n",
      "## Saving train dataset ##\n"
     ]
    },
    {
     "name": "stderr",
     "output_type": "stream",
     "text": [
      "100%|██████████| 2936012/2936012 [00:41<00:00, 70599.96it/s]\n"
     ]
    },
    {
     "name": "stdout",
     "output_type": "stream",
     "text": [
      "## Saving val dataset ##\n"
     ]
    },
    {
     "name": "stderr",
     "output_type": "stream",
     "text": [
      "100%|██████████| 734004/734004 [00:10<00:00, 70958.64it/s]\n",
      " 96%|█████████▌| 278/291 [1:35:59<06:33, 30.30s/it]"
     ]
    },
    {
     "name": "stdout",
     "output_type": "stream",
     "text": [
      "model-layers-25-self_attn-o_proj-weight.npy\n",
      "(838860, 16) (209716, 16)\n",
      "## Saving train dataset ##\n"
     ]
    },
    {
     "name": "stderr",
     "output_type": "stream",
     "text": [
      "100%|██████████| 838860/838860 [00:11<00:00, 71317.83it/s]\n"
     ]
    },
    {
     "name": "stdout",
     "output_type": "stream",
     "text": [
      "## Saving val dataset ##\n"
     ]
    },
    {
     "name": "stderr",
     "output_type": "stream",
     "text": [
      "100%|██████████| 209716/209716 [00:02<00:00, 71357.40it/s]\n",
      " 96%|█████████▌| 279/291 [1:36:14<05:19, 26.61s/it]"
     ]
    },
    {
     "name": "stdout",
     "output_type": "stream",
     "text": [
      "model-layers-22-mlp-gate_proj-weight.npy\n",
      "(2936012, 16) (734004, 16)\n",
      "## Saving train dataset ##\n"
     ]
    },
    {
     "name": "stderr",
     "output_type": "stream",
     "text": [
      "100%|██████████| 2936012/2936012 [00:41<00:00, 70933.32it/s]\n"
     ]
    },
    {
     "name": "stdout",
     "output_type": "stream",
     "text": [
      "## Saving val dataset ##\n"
     ]
    },
    {
     "name": "stderr",
     "output_type": "stream",
     "text": [
      "100%|██████████| 734004/734004 [00:09<00:00, 74023.43it/s]\n",
      " 97%|█████████▋| 281/291 [1:37:06<04:23, 26.37s/it]"
     ]
    },
    {
     "name": "stdout",
     "output_type": "stream",
     "text": [
      "model-layers-7-self_attn-k_proj-weight.npy\n",
      "(209715, 16) (52429, 16)\n",
      "## Saving train dataset ##\n"
     ]
    },
    {
     "name": "stderr",
     "output_type": "stream",
     "text": [
      "100%|██████████| 209715/209715 [00:02<00:00, 73909.09it/s]\n"
     ]
    },
    {
     "name": "stdout",
     "output_type": "stream",
     "text": [
      "## Saving val dataset ##\n"
     ]
    },
    {
     "name": "stderr",
     "output_type": "stream",
     "text": [
      "100%|██████████| 52429/52429 [00:00<00:00, 73892.91it/s]\n",
      " 97%|█████████▋| 282/291 [1:37:10<03:11, 21.24s/it]"
     ]
    },
    {
     "name": "stdout",
     "output_type": "stream",
     "text": [
      "model-layers-0-self_attn-o_proj-weight.npy\n",
      "(838860, 16) (209716, 16)\n",
      "## Saving train dataset ##\n"
     ]
    },
    {
     "name": "stderr",
     "output_type": "stream",
     "text": [
      "100%|██████████| 838860/838860 [00:11<00:00, 71284.45it/s]\n"
     ]
    },
    {
     "name": "stdout",
     "output_type": "stream",
     "text": [
      "## Saving val dataset ##\n"
     ]
    },
    {
     "name": "stderr",
     "output_type": "stream",
     "text": [
      "100%|██████████| 209716/209716 [00:02<00:00, 72200.67it/s]\n",
      " 97%|█████████▋| 283/291 [1:37:25<02:37, 19.69s/it]"
     ]
    },
    {
     "name": "stdout",
     "output_type": "stream",
     "text": [
      "model-layers-18-mlp-up_proj-weight.npy\n",
      "(2936012, 16) (734004, 16)\n",
      "## Saving train dataset ##\n"
     ]
    },
    {
     "name": "stderr",
     "output_type": "stream",
     "text": [
      "100%|██████████| 2936012/2936012 [00:40<00:00, 71917.17it/s]\n"
     ]
    },
    {
     "name": "stdout",
     "output_type": "stream",
     "text": [
      "## Saving val dataset ##\n"
     ]
    },
    {
     "name": "stderr",
     "output_type": "stream",
     "text": [
      "100%|██████████| 734004/734004 [00:10<00:00, 69244.72it/s]\n",
      " 98%|█████████▊| 284/291 [1:38:17<03:16, 28.06s/it]"
     ]
    },
    {
     "name": "stdout",
     "output_type": "stream",
     "text": [
      "model-layers-1-self_attn-q_proj-weight.npy\n",
      "(838860, 16) (209716, 16)\n",
      "## Saving train dataset ##\n"
     ]
    },
    {
     "name": "stderr",
     "output_type": "stream",
     "text": [
      "100%|██████████| 838860/838860 [00:12<00:00, 69143.32it/s]\n"
     ]
    },
    {
     "name": "stdout",
     "output_type": "stream",
     "text": [
      "## Saving val dataset ##\n"
     ]
    },
    {
     "name": "stderr",
     "output_type": "stream",
     "text": [
      "100%|██████████| 209716/209716 [00:03<00:00, 68710.31it/s]\n",
      " 98%|█████████▊| 285/291 [1:38:32<02:27, 24.65s/it]"
     ]
    },
    {
     "name": "stdout",
     "output_type": "stream",
     "text": [
      "model-layers-22-mlp-down_proj-weight.npy\n",
      "(2936012, 16) (734004, 16)\n",
      "## Saving train dataset ##\n"
     ]
    },
    {
     "name": "stderr",
     "output_type": "stream",
     "text": [
      "100%|██████████| 2936012/2936012 [00:40<00:00, 72260.17it/s]\n"
     ]
    },
    {
     "name": "stdout",
     "output_type": "stream",
     "text": [
      "## Saving val dataset ##\n"
     ]
    },
    {
     "name": "stderr",
     "output_type": "stream",
     "text": [
      "100%|██████████| 734004/734004 [00:10<00:00, 72392.61it/s]\n",
      " 98%|█████████▊| 286/291 [1:39:24<02:40, 32.11s/it]"
     ]
    },
    {
     "name": "stdout",
     "output_type": "stream",
     "text": [
      "model-layers-12-self_attn-q_proj-weight.npy\n",
      "(838860, 16) (209716, 16)\n",
      "## Saving train dataset ##\n"
     ]
    },
    {
     "name": "stderr",
     "output_type": "stream",
     "text": [
      "100%|██████████| 838860/838860 [00:11<00:00, 72603.03it/s]\n"
     ]
    },
    {
     "name": "stdout",
     "output_type": "stream",
     "text": [
      "## Saving val dataset ##\n"
     ]
    },
    {
     "name": "stderr",
     "output_type": "stream",
     "text": [
      "100%|██████████| 209716/209716 [00:02<00:00, 73018.49it/s]\n",
      " 99%|█████████▊| 287/291 [1:39:38<01:48, 27.15s/it]"
     ]
    },
    {
     "name": "stdout",
     "output_type": "stream",
     "text": [
      "model-layers-7-mlp-gate_proj-weight.npy\n",
      "(2936012, 16) (734004, 16)\n",
      "## Saving train dataset ##\n"
     ]
    },
    {
     "name": "stderr",
     "output_type": "stream",
     "text": [
      "100%|██████████| 2936012/2936012 [00:41<00:00, 70629.11it/s]\n"
     ]
    },
    {
     "name": "stdout",
     "output_type": "stream",
     "text": [
      "## Saving val dataset ##\n"
     ]
    },
    {
     "name": "stderr",
     "output_type": "stream",
     "text": [
      "100%|██████████| 734004/734004 [00:10<00:00, 70703.50it/s]\n",
      " 99%|█████████▉| 288/291 [1:40:31<01:43, 34.51s/it]"
     ]
    },
    {
     "name": "stdout",
     "output_type": "stream",
     "text": [
      "model-layers-25-mlp-gate_proj-weight.npy\n",
      "(2936012, 16) (734004, 16)\n",
      "## Saving train dataset ##\n"
     ]
    },
    {
     "name": "stderr",
     "output_type": "stream",
     "text": [
      "100%|██████████| 2936012/2936012 [00:41<00:00, 70098.28it/s]\n"
     ]
    },
    {
     "name": "stdout",
     "output_type": "stream",
     "text": [
      "## Saving val dataset ##\n"
     ]
    },
    {
     "name": "stderr",
     "output_type": "stream",
     "text": [
      "100%|██████████| 734004/734004 [00:10<00:00, 70601.26it/s]\n",
      " 99%|█████████▉| 289/291 [1:41:24<01:19, 39.90s/it]"
     ]
    },
    {
     "name": "stdout",
     "output_type": "stream",
     "text": [
      "model-layers-15-mlp-gate_proj-weight.npy\n",
      "(2936012, 16) (734004, 16)\n",
      "## Saving train dataset ##\n"
     ]
    },
    {
     "name": "stderr",
     "output_type": "stream",
     "text": [
      "100%|██████████| 2936012/2936012 [00:41<00:00, 71022.59it/s]\n"
     ]
    },
    {
     "name": "stdout",
     "output_type": "stream",
     "text": [
      "## Saving val dataset ##\n"
     ]
    },
    {
     "name": "stderr",
     "output_type": "stream",
     "text": [
      "100%|██████████| 734004/734004 [00:10<00:00, 73147.26it/s]\n",
      "100%|█████████▉| 290/291 [1:42:16<00:43, 43.49s/it]"
     ]
    },
    {
     "name": "stdout",
     "output_type": "stream",
     "text": [
      "model-layers-7-self_attn-q_proj-weight.npy\n",
      "(838860, 16) (209716, 16)\n",
      "## Saving train dataset ##\n"
     ]
    },
    {
     "name": "stderr",
     "output_type": "stream",
     "text": [
      "100%|██████████| 838860/838860 [00:11<00:00, 71866.83it/s]\n"
     ]
    },
    {
     "name": "stdout",
     "output_type": "stream",
     "text": [
      "## Saving val dataset ##\n"
     ]
    },
    {
     "name": "stderr",
     "output_type": "stream",
     "text": [
      "100%|██████████| 209716/209716 [00:02<00:00, 70831.79it/s]\n",
      "100%|██████████| 291/291 [1:42:31<00:00, 21.14s/it]\n"
     ]
    }
   ],
   "source": [
    "import glob, os\n",
    "import random\n",
    "import json\n",
    "import tensorflow as tf\n",
    "from tqdm import tqdm\n",
    "import numpy as np\n",
    "\n",
    "def check_contains_all_substrings(string, substrings):\n",
    "    return all(substring in string for substring in substrings)\n",
    "\n",
    "def check_contains_any_substrings(string, substrings):\n",
    "    return any(substring in string for substring in substrings)\n",
    "\n",
    "def serialize_example(slice):\n",
    "    feature_dict = {\n",
    "        'slice': tf.train.Feature(float_list=tf.train.FloatList(value=slice))\n",
    "    }\n",
    "    example_proto = tf.train.Example(features=tf.train.Features(feature=feature_dict))\n",
    "    return example_proto.SerializeToString()\n",
    "\n",
    "chunk_direction = 'out' ## 같은 Out channel 요소들이 같이 묶이게 차름\n",
    "# chunk_direction = 'in'\n",
    "\n",
    "for model_name in model_names:\n",
    "    print(model_name)\n",
    "    for d in [16]:\n",
    "        print(f'dim = {d}')\n",
    "        target_model_tensor_path = tensor_zoo_path + model_name\n",
    "        tensor_path_list = glob.glob(f'{target_model_tensor_path}/**/*.npy', recursive=True)\n",
    "\n",
    "        for tensor_path in tqdm(tensor_path_list):\n",
    "            if 'embed' in tensor_path or 'layernorm' in tensor_path or 'head' in tensor_path: continue\n",
    "            \n",
    "            random.seed(100)\n",
    "            tensors_train = []\n",
    "            tensors_val = []\n",
    "            \n",
    "            save_model_path = os.path.join(\n",
    "                save_path, \n",
    "                model_name.replace('/', '--'), \n",
    "                'per_tensor', \n",
    "                tensor_path.split('/')[-1].replace('.npy', ''), \n",
    "                f'd{d}'\n",
    "            )\n",
    "            if os.path.exists(save_model_path):\n",
    "                continue\n",
    "            os.makedirs(save_model_path, exist_ok=True)\n",
    "            \n",
    "            print(tensor_path.split('/')[-1])\n",
    "            t = np.load(tensor_path)\n",
    "            # print(t.shape)\n",
    "            if chunk_direction == 'in':\n",
    "                t = t.T\n",
    "            t = t.astype(np.float32)\n",
    "            t = t.reshape(-1, d)\n",
    "            # print(t.shape)\n",
    "            # all_tensors.append(t)\n",
    "            \n",
    "            indices = np.random.permutation(len(t))\n",
    "            split_index = int(len(t) * 0.8)\n",
    "            train_indices = indices[:split_index]\n",
    "            val_indices = indices[split_index:]\n",
    "\n",
    "            tensors_train.append(t[train_indices])\n",
    "            tensors_val.append(t[val_indices])\n",
    "                \n",
    "            dataset = {}\n",
    "            dataset['train'] = np.vstack(tensors_train)\n",
    "            dataset['val'] = np.vstack(tensors_val)\n",
    "\n",
    "            print(dataset['train'].shape, dataset['val'].shape)\n",
    "\n",
    "            mean_vector = dataset['train'].mean(axis=0)\n",
    "            mean_value = dataset['train'].mean()\n",
    "            std_vector = dataset['train'].std(axis=0)\n",
    "            std_value = dataset['train'].std()\n",
    "            # print(mean_value, std_value)\n",
    "            \n",
    "            filename = os.path.join(save_model_path, tensor_path.split('/')[-1].replace('.npy', '') + f'_d{d}_train_{chunk_direction}.tfrecord')\n",
    "            np.save(filename.replace('.tfrecord', '_mean_vector.npy'), mean_vector)\n",
    "            np.save(filename.replace('.tfrecord', '_std_vector.npy'), std_vector)\n",
    "            np.save(filename.replace('.tfrecord', '_mean.npy'), mean_value)\n",
    "            np.save(filename.replace('.tfrecord', '_std.npy'), std_value)\n",
    "\n",
    "            for split in ['train', 'val']:\n",
    "                print(f'## Saving {split} dataset ##')\n",
    "                filename = os.path.join(save_model_path, tensor_path.split('/')[-1].replace('.npy', '') + f'_d{d}_{split}_{chunk_direction}.tfrecord')\n",
    "                with tf.io.TFRecordWriter(filename) as writer:\n",
    "                    for slice in tqdm(dataset[split]):\n",
    "                        example = serialize_example(slice)\n",
    "                        writer.write(example)\n",
    "                        "
   ]
  },
  {
   "cell_type": "code",
   "execution_count": null,
   "id": "f02acf3d",
   "metadata": {},
   "outputs": [],
   "source": []
  }
 ],
 "metadata": {
  "kernelspec": {
   "display_name": "RD",
   "language": "python",
   "name": "python3"
  },
  "language_info": {
   "codemirror_mode": {
    "name": "ipython",
    "version": 3
   },
   "file_extension": ".py",
   "mimetype": "text/x-python",
   "name": "python",
   "nbconvert_exporter": "python",
   "pygments_lexer": "ipython3",
   "version": "3.8.20"
  }
 },
 "nbformat": 4,
 "nbformat_minor": 5
}
