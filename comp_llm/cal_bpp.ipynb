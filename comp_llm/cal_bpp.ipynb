{
 "cells": [
  {
   "cell_type": "code",
   "execution_count": 41,
   "metadata": {},
   "outputs": [],
   "source": [
    "import argparse\n",
    "import json\n",
    "import os\n",
    "import sys\n",
    "import torch\n",
    "import torch.nn as nn\n",
    "import re\n",
    "import math\n",
    "from tqdm import tqdm\n",
    "from transformers import (\n",
    "    AutoModel,\n",
    "    AutoModelForCausalLM,\n",
    "    AutoTokenizer,\n",
    ")\n",
    "from torch.utils.data import DataLoader\n",
    "import logging\n",
    "\n",
    "notebook_dir = os.path.dirname(os.path.abspath(\"__file__\"))\n",
    "project_root = os.path.abspath(os.path.join(notebook_dir, \"..\"))\n",
    "\n",
    "std = 0.012528747320175171\n",
    "\n",
    "if project_root not in sys.path:\n",
    "    sys.path.append(project_root)\n",
    "\n",
    "import models\n",
    "from models import get_model"
   ]
  },
  {
   "cell_type": "code",
   "execution_count": 42,
   "metadata": {},
   "outputs": [],
   "source": [
    "class Config:\n",
    "    def __init__(self, **entries):\n",
    "        self.__dict__.update(entries)\n",
    "\n",
    "class LayerInputs:\n",
    "    def __init__(self, num_layers):\n",
    "        self.layers = [\n",
    "            {\n",
    "                \"self_attn\": {\n",
    "                    \"q_proj\": None,\n",
    "                    \"k_proj\": None,\n",
    "                    \"v_proj\": None,\n",
    "                    \"o_proj\": None,\n",
    "                },\n",
    "                \"mlp\": {\n",
    "                    \"gate_proj\": None,\n",
    "                    \"up_proj\": None,\n",
    "                    \"down_proj\": None,\n",
    "                },\n",
    "            }\n",
    "            for _ in range(num_layers)\n",
    "        ]\n",
    "\n",
    "def latest_version_path(cache_dir, model_name, branch=\"main\"):\n",
    "    model_name_dir = \"models--\" + model_name.replace(\"/\", \"--\")\n",
    "    path = os.path.join(cache_dir, model_name_dir)\n",
    "    if not os.path.isdir(os.path.join(path, \"snapshots\")):\n",
    "        return None\n",
    "    branch_file = os.path.join(path, \"refs\", branch)\n",
    "    with open(branch_file, \"r\", encoding=\"utf-8\") as file:\n",
    "        revision = file.read()\n",
    "    return os.path.join(path, \"snapshots\", revision)\n",
    "\n",
    "def get_named_linears(module):\n",
    "    return {name: m for name, m in module.named_modules() if isinstance(m, nn.Linear)}"
   ]
  },
  {
   "cell_type": "code",
   "execution_count": 43,
   "metadata": {},
   "outputs": [],
   "source": [
    "def reconstruct_model(state_dict, model, input_mag, direction):\n",
    "    wtype_mapping = {'q_proj': 0, 'k_proj': 1, 'v_proj': 2, 'o_proj': 3, 'gate_proj': 4, 'up_proj': 5, 'down_proj': 6}\n",
    "    \n",
    "    weight_list = []\n",
    "    input_list = []\n",
    "    \n",
    "    with torch.no_grad():\n",
    "        mean_MSE = 0\n",
    "        count = 0\n",
    "        bpp_loss = 0\n",
    "        mse_func = nn.MSELoss()\n",
    "        device = next(model.parameters()).device\n",
    "        recon_state_dict = {}\n",
    "\n",
    "        for k, W in tqdm(state_dict.items()):\n",
    "            if not \"mlp\" in k and not \"self_attn\" in k:\n",
    "                continue\n",
    "            \n",
    "            match = re.search(r\"layers\\.(\\d+).\", k)\n",
    "            if match:\n",
    "                layer_index = int(match.group(1))  # 찾은 숫자를 정수형으로 변환\n",
    "            if 'self_attn' in k:\n",
    "                ltype = 'self_attn'\n",
    "                ltype_i = 0\n",
    "            elif 'mlp' in k:\n",
    "                ltype = 'mlp'\n",
    "                ltype_i = 1\n",
    "            if 'q_proj' in k:\n",
    "                mapping = wtype_mapping['q_proj']\n",
    "                wtype = 'q_proj'\n",
    "            elif 'k_proj' in k:\n",
    "                mapping = wtype_mapping['k_proj']\n",
    "                wtype = 'k_proj'\n",
    "            elif 'v_proj' in k:\n",
    "                mapping = wtype_mapping['v_proj']\n",
    "                wtype = 'v_proj'\n",
    "            elif 'o_proj' in k:\n",
    "                mapping = wtype_mapping['o_proj']\n",
    "                wtype = 'o_proj'\n",
    "            elif 'gate_proj' in k:\n",
    "                mapping = wtype_mapping['gate_proj']\n",
    "                wtype = 'gate_proj'\n",
    "            elif 'up_proj' in k:\n",
    "                mapping = wtype_mapping['up_proj']\n",
    "                wtype = 'up_proj'\n",
    "            elif 'down_proj' in k:\n",
    "                mapping = wtype_mapping['down_proj']\n",
    "                wtype = 'down_proj'\n",
    "\n",
    "            rows, cols = W.shape\n",
    "            # print(W.shape)\n",
    "            input_block = input_mag.layers[layer_index][ltype][wtype]\n",
    "            \n",
    "            assert rows % model.input_size == 0\n",
    "            assert cols == input_block.size(0)\n",
    "            \n",
    "            if rows == 1024:\n",
    "                chunks = torch.chunk(input_block, chunks=2, dim=-1)\n",
    "                input_block = torch.max(chunks[0], chunks[1])\n",
    "                rows = rows*2\n",
    "                cols = cols//2\n",
    "                \n",
    "            input_block = input_block.expand(rows // 2048, cols)\n",
    "            \n",
    "            if direction == 'col':\n",
    "                W = W.T\n",
    "                input_block = input_block.T\n",
    "            \n",
    "            W_reshaped = W.reshape(-1, 128, model.input_size)  # ( -1, -1) --> (-1, size, size)\n",
    "            \n",
    "            input_block = input_block.reshape(-1, )\n",
    "            # print(input_block.shape, W_reshaped.shape)\n",
    "            assert W_reshaped.size(0) == input_block.size(0)\n",
    "            \n",
    "            weight_list.append(W_reshaped)\n",
    "            input_list.append(input_block)\n",
    "            \n",
    "            \n",
    "            \n",
    "    weight_list = torch.cat(weight_list, dim = 0)\n",
    "    input_list = torch.cat(input_list, dim = 0)\n",
    "    return weight_list, input_list\n",
    "            "
   ]
  },
  {
   "cell_type": "code",
   "execution_count": 44,
   "metadata": {},
   "outputs": [],
   "source": [
    "direction = 'col'\n",
    "cuda = 2\n",
    "model_paths = [\n",
    "    '/home/jgryu/Weight_compression/VQVAE/checkpoint/nwc_ql/block_seq_ql_random_col_16/lmbda50_rdloss_ql_encdim512_M16_batch_size2048_total_iter200000_lr0.0001_seed100/best_loss_model_loss_3.84823_bpp_4.61283_MSE_0.01614_total_iter_95000.pth.tar',\n",
    "    '/home/jgryu/Weight_compression/VQVAE/checkpoint/nwc_ql/block_seq_ql_random_col_16/lmbda100_rdloss_ql_encdim512_M16_batch_size2048_total_iter1500000_lr0.0001_seed100/best_loss_model_loss_4.39201_bpp_5.10767_MSE_0.0081_total_iter_190000.pth.tar',\n",
    "    '/home/jgryu/Weight_compression/VQVAE/checkpoint/nwc_ql/block_seq_ql_random_col_16/lmbda200_rdloss_ql_encdim512_M16_batch_size2048_total_iter200000_lr0.0001_seed100/best_loss_model_loss_4.97679_bpp_5.524_MSE_0.00426_total_iter_95000.pth.tar',\n",
    "    '/home/jgryu/Weight_compression/VQVAE/checkpoint/nwc_ql/block_seq_ql_random_col_16/lmbda300_rdloss_ql_encdim512_M16_batch_size2048_total_iter200000_lr0.0001_seed100/best_loss_model_loss_5.34295_bpp_5.7068_MSE_0.00302_total_iter_95000.pth.tar',\n",
    "    '/home/jgryu/Weight_compression/VQVAE/checkpoint/nwc_ql/block_seq_ql_random_col_16/lmbda1000_rdloss_ql_encdim512_M16_batch_size2048_total_iter1500000_lr0.0001_seed100/best_loss_model_loss_6.59649_bpp_6.05166_MSE_0.00106_total_iter_140000.pth.tar',\n",
    "    '/home/jgryu/Weight_compression/VQVAE/checkpoint/nwc_ql/block_seq_ql_random_col_16/lmbda10000_rdloss_ql_encdim512_M16_batch_size2048_total_iter200000_lr0.0001_seed100/best_loss_model_loss_10.96029_bpp_6.2788_MSE_0.0004_total_iter_140000.pth.tar'    \n",
    "]"
   ]
  },
  {
   "cell_type": "code",
   "execution_count": 45,
   "metadata": {},
   "outputs": [
    {
     "name": "stderr",
     "output_type": "stream",
     "text": [
      "/tmp/ipykernel_2349540/3619568600.py:16: FutureWarning: You are using `torch.load` with `weights_only=False` (the current default value), which uses the default pickle module implicitly. It is possible to construct malicious pickle data which will execute arbitrary code during unpickling (See https://github.com/pytorch/pytorch/blob/main/SECURITY.md#untrusted-models for more details). In a future release, the default value for `weights_only` will be flipped to `True`. This limits the functions that could be executed during unpickling. Arbitrary objects will no longer be allowed to be loaded via this mode unless they are explicitly allowlisted by the user via `torch.serialization.add_safe_globals`. We recommend you start setting `weights_only=True` for any use case where you don't have full control of the loaded file. Please open an issue on GitHub for any issues related to this experimental feature.\n",
      "  ckpt = torch.load(model_paths[0])\n",
      "Loading checkpoint shards: 100%|██████████| 4/4 [00:05<00:00,  1.29s/it]\n",
      "100%|██████████| 291/291 [00:12<00:00, 22.90it/s]\n"
     ]
    }
   ],
   "source": [
    "device = torch.device(f\"cuda:{cuda}\" if torch.cuda.is_available() else \"cpu\")\n",
    "\n",
    "import models\n",
    "config = os.path.join(os.path.dirname(model_paths[0]), 'config.json')\n",
    "with open(config, 'r', encoding='utf-8') as file:\n",
    "    config = json.load(file)\n",
    "\n",
    "comp_model = models.NWC_ql(\n",
    "    input_size=config['input_size'],\n",
    "    dim_encoder=config['dim_encoder'],\n",
    "    n_resblock=config['n_resblock'],\n",
    "    scale=torch.zeros(128, config['input_size']),\n",
    "    shift=torch.zeros(128, config['input_size'])\n",
    ")\n",
    "\n",
    "ckpt = torch.load(model_paths[0])\n",
    "comp_model.load_state_dict(ckpt[\"state_dict\"])\n",
    "comp_model.to(device)\n",
    "\n",
    "input_mag = torch.load('/home/jgryu/Weight_compression/Wparam_dataset/calib_data/layer_inputs_chmag_rank_top[4, 10, 100]_qlevel[3, 2, 1].pt', weights_only=False)    \n",
    "\n",
    "cache_directory = \"../../Wparam_dataset_v0/model_zoo/huggingface\"\n",
    "ckpt_path = latest_version_path(cache_directory, \"meta-llama/Meta-Llama-3-8B\")\n",
    "net = AutoModelForCausalLM.from_pretrained(ckpt_path, local_files_only=True)\n",
    "ckpt_path = \"/home/jgryu/Weight_compression/model_cache/models--meta-llama--Meta-Llama-3-8B/snapshots/8cde5ca8380496c9a6cc7ef3a8b46a0372a1d920\"\n",
    "tokenizer = AutoTokenizer.from_pretrained(ckpt_path, local_files_only=True)\n",
    "state_dict = net.state_dict()\n",
    "\n",
    "\n",
    "weight_list, input_list= reconstruct_model(state_dict, comp_model, input_mag, direction)"
   ]
  },
  {
   "cell_type": "code",
   "execution_count": 46,
   "metadata": {},
   "outputs": [
    {
     "name": "stdout",
     "output_type": "stream",
     "text": [
      "torch.Size([3407872, 128, 16]) torch.Size([3407872])\n"
     ]
    }
   ],
   "source": [
    "print(weight_list.shape, input_list.shape)"
   ]
  },
  {
   "cell_type": "code",
   "execution_count": 47,
   "metadata": {},
   "outputs": [
    {
     "name": "stdout",
     "output_type": "stream",
     "text": [
      "torch.Size([10000, 128, 16]) torch.Size([10000])\n"
     ]
    }
   ],
   "source": [
    "indices = torch.randperm(len(weight_list))\n",
    "indices = indices[:10000]\n",
    "weight_list = weight_list[indices]\n",
    "input_list = input_list[indices]\n",
    "\n",
    "print(weight_list.shape, input_list.shape)"
   ]
  },
  {
   "cell_type": "code",
   "execution_count": 48,
   "metadata": {},
   "outputs": [],
   "source": [
    "def test(weight_list, input_list, model):\n",
    "    mean_MSE = 0\n",
    "    avg_bpp = 0\n",
    "    mean_loss = 0\n",
    "    mean_recon_loss = 0\n",
    "    mean_bpp_loss = 0\n",
    "    device = next(model.parameters()).device\n",
    "    mse_func = nn.MSELoss()\n",
    "    \n",
    "    model.requires_grad_(False)\n",
    "    model.update()\n",
    "    with torch.no_grad():\n",
    "        for idx, weight in enumerate(tqdm(weight_list)):\n",
    "            # data = {key: tensor.unsqueeze(0).to(device) for key, tensor in data.items()}\n",
    "            data = {'weight_block': weight.unsqueeze(0).to(device),\n",
    "                    'q_level': input_list[idx].unsqueeze(0).to(device)}\n",
    "            # out_net = model(data)\n",
    "            # out_loss = criterion(data= data, output = out_net)\n",
    "            \n",
    "            # mean_loss += out_loss['loss'].item()\n",
    "            # mean_recon_loss += out_loss['recon_loss'].item()\n",
    "            # mean_bpp_loss += out_loss['bpp_loss'].item()\n",
    "            \n",
    "            out_enc = model.compress(data)\n",
    "            out_dec = model.decompress(out_enc[\"strings\"][0], out_enc[\"shape\"], data[\"q_level\"])\n",
    "            \n",
    "            \n",
    "            # try:\n",
    "            #     out_dec = model.decompress(out_enc[\"strings\"][0], out_enc[\"shape\"], data[\"q_level\"])\n",
    "            # except:\n",
    "            #     out_dec = model.decompress(out_enc[\"strings\"][0], out_enc[\"shape\"])\n",
    "            \n",
    "            # out_dec = model.decompress(out_enc[\"strings\"], out_enc[\"shape\"])\n",
    "                \n",
    "\n",
    "            num_pixels = data['weight_block'].numel()\n",
    "            \n",
    "            bpp = 0\n",
    "            for s in out_enc[\"strings\"]:\n",
    "                bpp += len(s[0]) * 8.0 / num_pixels\n",
    "\n",
    "            x_hat = out_dec[\"x_hat\"].clone().detach()\n",
    "            mean_MSE += mse_func(data['weight_block'], x_hat).item()\n",
    "            avg_bpp += bpp\n",
    "\n",
    "    avg_bpp /= len(weight_list)\n",
    "    mean_MSE /= len(weight_list)\n",
    "    mean_loss /= len(weight_list)\n",
    "    mean_recon_loss /= len(weight_list)\n",
    "    mean_bpp_loss /= len(weight_list)\n",
    "    return {'TEST MSE': mean_MSE, 'TEST BPP': avg_bpp, 'TEST loss': mean_loss, 'TEST recon_loss': mean_recon_loss, 'TEST bpp_loss': mean_bpp_loss}"
   ]
  },
  {
   "cell_type": "code",
   "execution_count": 49,
   "metadata": {},
   "outputs": [
    {
     "name": "stderr",
     "output_type": "stream",
     "text": [
      "/tmp/ipykernel_2349540/2102929712.py:14: FutureWarning: You are using `torch.load` with `weights_only=False` (the current default value), which uses the default pickle module implicitly. It is possible to construct malicious pickle data which will execute arbitrary code during unpickling (See https://github.com/pytorch/pytorch/blob/main/SECURITY.md#untrusted-models for more details). In a future release, the default value for `weights_only` will be flipped to `True`. This limits the functions that could be executed during unpickling. Arbitrary objects will no longer be allowed to be loaded via this mode unless they are explicitly allowlisted by the user via `torch.serialization.add_safe_globals`. We recommend you start setting `weights_only=True` for any use case where you don't have full control of the loaded file. Please open an issue on GitHub for any issues related to this experimental feature.\n",
      "  ckpt = torch.load(model_path)\n",
      "100%|██████████| 10000/10000 [02:01<00:00, 82.07it/s]\n"
     ]
    },
    {
     "name": "stdout",
     "output_type": "stream",
     "text": [
      "['nwc_ql', 'block_seq_ql_random_col_16', 'lmbda50_rdloss_ql_encdim512_M16_batch_size2048_total_iter200000_lr0.0001_seed100', 'best_loss_model_loss_3.84823_bpp_4.61283_MSE_0.01614_total_iter_95000.pth.tar']\n",
      "{'TEST MSE': 6.428208667152724e-06, 'TEST BPP': 2.5732203125, 'TEST loss': 0.0, 'TEST recon_loss': 0.0, 'TEST bpp_loss': 0.0}\n"
     ]
    },
    {
     "name": "stderr",
     "output_type": "stream",
     "text": [
      "100%|██████████| 10000/10000 [02:03<00:00, 81.19it/s]\n"
     ]
    },
    {
     "name": "stdout",
     "output_type": "stream",
     "text": [
      "['nwc_ql', 'block_seq_ql_random_col_16', 'lmbda100_rdloss_ql_encdim512_M16_batch_size2048_total_iter1500000_lr0.0001_seed100', 'best_loss_model_loss_4.39201_bpp_5.10767_MSE_0.0081_total_iter_190000.pth.tar']\n",
      "{'TEST MSE': 3.196336244191045e-06, 'TEST BPP': 3.07330625, 'TEST loss': 0.0, 'TEST recon_loss': 0.0, 'TEST bpp_loss': 0.0}\n"
     ]
    },
    {
     "name": "stderr",
     "output_type": "stream",
     "text": [
      "100%|██████████| 10000/10000 [02:04<00:00, 80.05it/s]\n"
     ]
    },
    {
     "name": "stdout",
     "output_type": "stream",
     "text": [
      "['nwc_ql', 'block_seq_ql_random_col_16', 'lmbda200_rdloss_ql_encdim512_M16_batch_size2048_total_iter200000_lr0.0001_seed100', 'best_loss_model_loss_4.97679_bpp_5.524_MSE_0.00426_total_iter_95000.pth.tar']\n",
      "{'TEST MSE': 1.6116764717727605e-06, 'TEST BPP': 3.5789546875, 'TEST loss': 0.0, 'TEST recon_loss': 0.0, 'TEST bpp_loss': 0.0}\n"
     ]
    },
    {
     "name": "stderr",
     "output_type": "stream",
     "text": [
      "100%|██████████| 10000/10000 [02:05<00:00, 79.87it/s]\n"
     ]
    },
    {
     "name": "stdout",
     "output_type": "stream",
     "text": [
      "['nwc_ql', 'block_seq_ql_random_col_16', 'lmbda300_rdloss_ql_encdim512_M16_batch_size2048_total_iter200000_lr0.0001_seed100', 'best_loss_model_loss_5.34295_bpp_5.7068_MSE_0.00302_total_iter_95000.pth.tar']\n",
      "{'TEST MSE': 1.085121362536512e-06, 'TEST BPP': 3.8729578125, 'TEST loss': 0.0, 'TEST recon_loss': 0.0, 'TEST bpp_loss': 0.0}\n"
     ]
    },
    {
     "name": "stderr",
     "output_type": "stream",
     "text": [
      "100%|██████████| 10000/10000 [02:07<00:00, 78.62it/s]\n"
     ]
    },
    {
     "name": "stdout",
     "output_type": "stream",
     "text": [
      "['nwc_ql', 'block_seq_ql_random_col_16', 'lmbda1000_rdloss_ql_encdim512_M16_batch_size2048_total_iter1500000_lr0.0001_seed100', 'best_loss_model_loss_6.59649_bpp_6.05166_MSE_0.00106_total_iter_140000.pth.tar']\n",
      "{'TEST MSE': 3.380308445690261e-07, 'TEST BPP': 4.7203171875, 'TEST loss': 0.0, 'TEST recon_loss': 0.0, 'TEST bpp_loss': 0.0}\n"
     ]
    },
    {
     "name": "stderr",
     "output_type": "stream",
     "text": [
      "100%|██████████| 10000/10000 [02:01<00:00, 82.14it/s]"
     ]
    },
    {
     "name": "stdout",
     "output_type": "stream",
     "text": [
      "['nwc_ql', 'block_seq_ql_random_col_16', 'lmbda10000_rdloss_ql_encdim512_M16_batch_size2048_total_iter200000_lr0.0001_seed100', 'best_loss_model_loss_10.96029_bpp_6.2788_MSE_0.0004_total_iter_140000.pth.tar']\n",
      "{'TEST MSE': 8.148602949233919e-08, 'TEST BPP': 5.9473953125, 'TEST loss': 0.0, 'TEST recon_loss': 0.0, 'TEST bpp_loss': 0.0}\n"
     ]
    },
    {
     "name": "stderr",
     "output_type": "stream",
     "text": [
      "\n"
     ]
    }
   ],
   "source": [
    "for model_path in model_paths:\n",
    "    import models\n",
    "    config = os.path.join(os.path.dirname(model_path), 'config.json')\n",
    "    with open(config, 'r', encoding='utf-8') as file:\n",
    "        config = json.load(file)\n",
    "    comp_model = models.NWC_ql(\n",
    "        input_size=config['input_size'],\n",
    "        dim_encoder=config['dim_encoder'],\n",
    "        n_resblock=config['n_resblock'],\n",
    "        scale=torch.zeros(128, config['input_size']),\n",
    "        shift=torch.zeros(128, config['input_size'])\n",
    "    )\n",
    "\n",
    "    ckpt = torch.load(model_path)\n",
    "    comp_model.load_state_dict(ckpt[\"state_dict\"])\n",
    "    comp_model.to(device)\n",
    "    \n",
    "    \n",
    "    result = test(weight_list, input_list, comp_model)\n",
    "    \n",
    "    print(model_path.split('/')[-4:])\n",
    "    print(result)"
   ]
  }
 ],
 "metadata": {
  "kernelspec": {
   "display_name": "nic",
   "language": "python",
   "name": "python3"
  },
  "language_info": {
   "codemirror_mode": {
    "name": "ipython",
    "version": 3
   },
   "file_extension": ".py",
   "mimetype": "text/x-python",
   "name": "python",
   "nbconvert_exporter": "python",
   "pygments_lexer": "ipython3",
   "version": "3.10.0"
  }
 },
 "nbformat": 4,
 "nbformat_minor": 2
}
