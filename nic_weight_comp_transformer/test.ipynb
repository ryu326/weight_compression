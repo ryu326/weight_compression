{
 "cells": [
  {
   "cell_type": "code",
   "execution_count": null,
   "metadata": {},
   "outputs": [
    {
     "name": "stderr",
     "output_type": "stream",
     "text": [
      "/home/mkkim/anaconda3/envs/pytorch_p38/lib/python3.8/site-packages/transformers/utils/generic.py:441: UserWarning: torch.utils._pytree._register_pytree_node is deprecated. Please use torch.utils._pytree.register_pytree_node instead.\n",
      "  _torch_pytree._register_pytree_node(\n"
     ]
    }
   ],
   "source": [
    "from models import NIC_Fair"
   ]
  },
  {
   "cell_type": "code",
   "execution_count": null,
   "metadata": {},
   "outputs": [],
   "source": [
    "net = NIC_Fair()"
   ]
  },
  {
   "cell_type": "code",
   "execution_count": null,
   "metadata": {},
   "outputs": [],
   "source": [
    "from datasets_ImageNet import ImageNet_dataset"
   ]
  },
  {
   "cell_type": "code",
   "execution_count": null,
   "metadata": {},
   "outputs": [],
   "source": [
    "train_dataset = ImageNet_dataset(dataset_folder='/data/ILSVRC2012', split='train', image_size = (256, 256), slurm=False)"
   ]
  },
  {
   "cell_type": "code",
   "execution_count": null,
   "metadata": {},
   "outputs": [],
   "source": [
    "out = net(train_dataset[0][0].unsqueeze(0))"
   ]
  },
  {
   "cell_type": "code",
   "execution_count": null,
   "metadata": {},
   "outputs": [
    {
     "data": {
      "text/plain": [
       "{'x_hat': tensor([[[[-0.0631, -0.0112, -0.0740,  ..., -0.0572,  0.0614, -0.0458],\n",
       "           [-0.0116, -0.0498,  0.0656,  ...,  0.1017,  0.0901, -0.0011],\n",
       "           [ 0.0417, -0.0956,  0.0221,  ...,  0.0260,  0.1032, -0.1521],\n",
       "           ...,\n",
       "           [-0.0389, -0.0818, -0.0890,  ..., -0.1127, -0.0446,  0.0970],\n",
       "           [ 0.0926,  0.1135,  0.1922,  ...,  0.1617, -0.0189, -0.0194],\n",
       "           [ 0.0311, -0.1458,  0.0069,  ...,  0.0528,  0.0679,  0.0322]],\n",
       " \n",
       "          [[ 0.0163,  0.0976,  0.1415,  ...,  0.1513,  0.0781,  0.1135],\n",
       "           [ 0.1098,  0.0817,  0.0962,  ...,  0.0178,  0.1709,  0.0371],\n",
       "           [ 0.0923,  0.1442,  0.1944,  ...,  0.0947,  0.1611,  0.1642],\n",
       "           ...,\n",
       "           [ 0.1307,  0.0939, -0.0052,  ...,  0.0578,  0.1270,  0.0205],\n",
       "           [ 0.0481,  0.1052,  0.1256,  ...,  0.1969,  0.0812,  0.1275],\n",
       "           [ 0.0627,  0.0253,  0.1789,  ..., -0.1119,  0.0533, -0.0319]],\n",
       " \n",
       "          [[ 0.0866, -0.0343,  0.1165,  ..., -0.0658,  0.1228,  0.0158],\n",
       "           [ 0.0891,  0.0718,  0.1341,  ...,  0.2469, -0.0248,  0.1069],\n",
       "           [ 0.0551, -0.0219,  0.0544,  ..., -0.0904,  0.0178, -0.0016],\n",
       "           ...,\n",
       "           [ 0.0170,  0.0875,  0.0125,  ...,  0.1597, -0.0734,  0.0238],\n",
       "           [-0.0207,  0.0590,  0.1475,  ..., -0.0267,  0.0381,  0.0092],\n",
       "           [-0.0422,  0.0809,  0.0256,  ..., -0.0088, -0.0715, -0.1953]]]],\n",
       "        grad_fn=<PixelShuffleBackward0>),\n",
       " 'likelihoods': {'y_high_freq': tensor([[[[9.6559e-01],\n",
       "            [9.8410e-01],\n",
       "            [9.4165e-01],\n",
       "            ...,\n",
       "            [6.2566e-01],\n",
       "            [9.9991e-01],\n",
       "            [2.8967e-01]],\n",
       "  \n",
       "           [[6.3734e-01],\n",
       "            [9.9881e-01],\n",
       "            [1.9764e-05],\n",
       "            ...,\n",
       "            [6.0277e-01],\n",
       "            [5.5698e-01],\n",
       "            [9.9877e-01]],\n",
       "  \n",
       "           [[5.6721e-01],\n",
       "            [9.0465e-01],\n",
       "            [8.6540e-01],\n",
       "            ...,\n",
       "            [7.4123e-01],\n",
       "            [9.9999e-01],\n",
       "            [9.1910e-01]],\n",
       "  \n",
       "           ...,\n",
       "  \n",
       "           [[9.9977e-01],\n",
       "            [5.7852e-01],\n",
       "            [9.9995e-01],\n",
       "            ...,\n",
       "            [9.9978e-01],\n",
       "            [7.0666e-01],\n",
       "            [9.0863e-01]],\n",
       "  \n",
       "           [[6.5472e-01],\n",
       "            [9.9948e-01],\n",
       "            [9.9999e-01],\n",
       "            ...,\n",
       "            [5.1355e-01],\n",
       "            [8.8698e-01],\n",
       "            [9.9998e-01]],\n",
       "  \n",
       "           [[2.6389e-01],\n",
       "            [4.1622e-01],\n",
       "            [7.2435e-01],\n",
       "            ...,\n",
       "            [9.9988e-01],\n",
       "            [9.8715e-01],\n",
       "            [9.7944e-01]]]], grad_fn=<CatBackward0>),\n",
       "  'y_not_high_freq': 0,\n",
       "  'z': tensor([[[[0.0238, 0.0241, 0.0239, 0.0239],\n",
       "            [0.0237, 0.0241, 0.0240, 0.0238],\n",
       "            [0.0241, 0.0239, 0.0240, 0.0240],\n",
       "            [0.0241, 0.0242, 0.0242, 0.0241]],\n",
       "  \n",
       "           [[0.0250, 0.0250, 0.0250, 0.0250],\n",
       "            [0.0250, 0.0250, 0.0250, 0.0250],\n",
       "            [0.0250, 0.0250, 0.0250, 0.0250],\n",
       "            [0.0250, 0.0250, 0.0250, 0.0250]],\n",
       "  \n",
       "           [[0.0244, 0.0243, 0.0245, 0.0243],\n",
       "            [0.0242, 0.0243, 0.0245, 0.0245],\n",
       "            [0.0244, 0.0245, 0.0243, 0.0245],\n",
       "            [0.0244, 0.0243, 0.0246, 0.0243]],\n",
       "  \n",
       "           ...,\n",
       "  \n",
       "           [[0.0249, 0.0249, 0.0248, 0.0250],\n",
       "            [0.0250, 0.0249, 0.0249, 0.0249],\n",
       "            [0.0250, 0.0250, 0.0249, 0.0249],\n",
       "            [0.0250, 0.0249, 0.0249, 0.0249]],\n",
       "  \n",
       "           [[0.0250, 0.0250, 0.0250, 0.0250],\n",
       "            [0.0250, 0.0250, 0.0250, 0.0250],\n",
       "            [0.0249, 0.0249, 0.0250, 0.0250],\n",
       "            [0.0250, 0.0250, 0.0250, 0.0250]],\n",
       "  \n",
       "           [[0.0242, 0.0242, 0.0240, 0.0240],\n",
       "            [0.0242, 0.0241, 0.0242, 0.0239],\n",
       "            [0.0241, 0.0239, 0.0242, 0.0242],\n",
       "            [0.0240, 0.0242, 0.0242, 0.0243]]]], grad_fn=<PermuteBackward0>)}}"
      ]
     },
     "execution_count": 6,
     "metadata": {},
     "output_type": "execute_result"
    }
   ],
   "source": [
    "out"
   ]
  },
  {
   "cell_type": "code",
   "execution_count": null,
   "metadata": {},
   "outputs": [],
   "source": [
    "import json\n",
    "\n",
    "\n",
    "with open('./openimages_v6_indices_per_image.json', 'r') as f:\n",
    "    dict_test = json.load(f)"
   ]
  },
  {
   "cell_type": "code",
   "execution_count": null,
   "metadata": {},
   "outputs": [
    {
     "data": {
      "text/plain": [
       "94893"
      ]
     },
     "execution_count": 10,
     "metadata": {},
     "output_type": "execute_result"
    }
   ],
   "source": [
    "len(dict_test)"
   ]
  },
  {
   "cell_type": "code",
   "execution_count": null,
   "metadata": {},
   "outputs": [
    {
     "ename": "KeyError",
     "evalue": "'693272142_01f846141f_o.jpg'",
     "output_type": "error",
     "traceback": [
      "\u001b[0;31m---------------------------------------------------------------------------\u001b[0m",
      "\u001b[0;31mKeyError\u001b[0m                                  Traceback (most recent call last)",
      "Cell \u001b[0;32mIn[6], line 1\u001b[0m\n\u001b[0;32m----> 1\u001b[0m \u001b[43mdict_test\u001b[49m\u001b[43m[\u001b[49m\u001b[38;5;124;43m'\u001b[39;49m\u001b[38;5;124;43m693272142_01f846141f_o.jpg\u001b[39;49m\u001b[38;5;124;43m'\u001b[39;49m\u001b[43m]\u001b[49m\n",
      "\u001b[0;31mKeyError\u001b[0m: '693272142_01f846141f_o.jpg'"
     ]
    }
   ],
   "source": [
    "dict_test['693272142_01f846141f_o.jpg']"
   ]
  },
  {
   "cell_type": "code",
   "execution_count": null,
   "metadata": {},
   "outputs": [],
   "source": [
    "lst = [1,2,3,4]"
   ]
  },
  {
   "cell_type": "code",
   "execution_count": null,
   "metadata": {},
   "outputs": [
    {
     "data": {
      "text/plain": [
       "1"
      ]
     },
     "execution_count": 12,
     "metadata": {},
     "output_type": "execute_result"
    }
   ],
   "source": [
    "min(lst)"
   ]
  },
  {
   "cell_type": "code",
   "execution_count": null,
   "metadata": {},
   "outputs": [],
   "source": []
  }
 ],
 "metadata": {
  "kernelspec": {
   "display_name": "nic",
   "language": "python",
   "name": "python3"
  },
  "language_info": {
   "codemirror_mode": {
    "name": "ipython",
    "version": 3
   },
   "file_extension": ".py",
   "mimetype": "text/x-python",
   "name": "python",
   "nbconvert_exporter": "python",
   "pygments_lexer": "ipython3",
   "version": "3.8.20"
  }
 },
 "nbformat": 4,
 "nbformat_minor": 2
}
